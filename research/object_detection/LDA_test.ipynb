{
 "cells": [
  {
   "cell_type": "code",
   "execution_count": 20,
   "metadata": {},
   "outputs": [],
   "source": [
    "import numpy as np\n",
    "import os\n",
    "import pickle\n",
    "from matplotlib import pyplot as plt\n",
    "from PIL import Image"
   ]
  },
  {
   "cell_type": "code",
   "execution_count": 11,
   "metadata": {},
   "outputs": [
    {
     "name": "stderr",
     "output_type": "stream",
     "text": [
      "utils/visualization_utils.py:25: UserWarning: \n",
      "This call to matplotlib.use() has no effect because the backend has already\n",
      "been chosen; matplotlib.use() must be called *before* pylab, matplotlib.pyplot,\n",
      "or matplotlib.backends is imported for the first time.\n",
      "\n",
      "The backend was *originally* set to 'module://ipykernel.pylab.backend_inline' by the following code:\n",
      "  File \"/usr/lib/python2.7/runpy.py\", line 174, in _run_module_as_main\n",
      "    \"__main__\", fname, loader, pkg_name)\n",
      "  File \"/usr/lib/python2.7/runpy.py\", line 72, in _run_code\n",
      "    exec code in run_globals\n",
      "  File \"/usr/local/lib/python2.7/dist-packages/ipykernel_launcher.py\", line 16, in <module>\n",
      "    app.launch_new_instance()\n",
      "  File \"/usr/local/lib/python2.7/dist-packages/traitlets/config/application.py\", line 664, in launch_instance\n",
      "    app.start()\n",
      "  File \"/usr/local/lib/python2.7/dist-packages/ipykernel/kernelapp.py\", line 499, in start\n",
      "    self.io_loop.start()\n",
      "  File \"/usr/local/lib/python2.7/dist-packages/tornado/ioloop.py\", line 1073, in start\n",
      "    handler_func(fd_obj, events)\n",
      "  File \"/usr/local/lib/python2.7/dist-packages/tornado/stack_context.py\", line 300, in null_wrapper\n",
      "    return fn(*args, **kwargs)\n",
      "  File \"/usr/local/lib/python2.7/dist-packages/zmq/eventloop/zmqstream.py\", line 456, in _handle_events\n",
      "    self._handle_recv()\n",
      "  File \"/usr/local/lib/python2.7/dist-packages/zmq/eventloop/zmqstream.py\", line 486, in _handle_recv\n",
      "    self._run_callback(callback, msg)\n",
      "  File \"/usr/local/lib/python2.7/dist-packages/zmq/eventloop/zmqstream.py\", line 438, in _run_callback\n",
      "    callback(*args, **kwargs)\n",
      "  File \"/usr/local/lib/python2.7/dist-packages/tornado/stack_context.py\", line 300, in null_wrapper\n",
      "    return fn(*args, **kwargs)\n",
      "  File \"/usr/local/lib/python2.7/dist-packages/ipykernel/kernelbase.py\", line 283, in dispatcher\n",
      "    return self.dispatch_shell(stream, msg)\n",
      "  File \"/usr/local/lib/python2.7/dist-packages/ipykernel/kernelbase.py\", line 233, in dispatch_shell\n",
      "    handler(stream, idents, msg)\n",
      "  File \"/usr/local/lib/python2.7/dist-packages/ipykernel/kernelbase.py\", line 399, in execute_request\n",
      "    user_expressions, allow_stdin)\n",
      "  File \"/usr/local/lib/python2.7/dist-packages/ipykernel/ipkernel.py\", line 208, in do_execute\n",
      "    res = shell.run_cell(code, store_history=store_history, silent=silent)\n",
      "  File \"/usr/local/lib/python2.7/dist-packages/ipykernel/zmqshell.py\", line 537, in run_cell\n",
      "    return super(ZMQInteractiveShell, self).run_cell(*args, **kwargs)\n",
      "  File \"/usr/local/lib/python2.7/dist-packages/IPython/core/interactiveshell.py\", line 2724, in run_cell\n",
      "    self.events.trigger('post_run_cell')\n",
      "  File \"/usr/local/lib/python2.7/dist-packages/IPython/core/events.py\", line 74, in trigger\n",
      "    func(*args, **kwargs)\n",
      "  File \"/usr/local/lib/python2.7/dist-packages/ipykernel/pylab/backend_inline.py\", line 164, in configure_once\n",
      "    activate_matplotlib(backend)\n",
      "  File \"/usr/local/lib/python2.7/dist-packages/IPython/core/pylabtools.py\", line 315, in activate_matplotlib\n",
      "    matplotlib.pyplot.switch_backend(backend)\n",
      "  File \"/usr/local/lib/python2.7/dist-packages/matplotlib/pyplot.py\", line 231, in switch_backend\n",
      "    matplotlib.use(newbackend, warn=False, force=True)\n",
      "  File \"/usr/local/lib/python2.7/dist-packages/matplotlib/__init__.py\", line 1422, in use\n",
      "    reload(sys.modules['matplotlib.backends'])\n",
      "  File \"/usr/local/lib/python2.7/dist-packages/matplotlib/backends/__init__.py\", line 16, in <module>\n",
      "    line for line in traceback.format_stack()\n",
      "\n",
      "\n",
      "  import matplotlib; matplotlib.use('Agg')  # pylint: disable=multiple-statements\n"
     ]
    }
   ],
   "source": [
    "from utils import label_map_util\n",
    "\n",
    "from utils import visualization_utils as vis_util"
   ]
  },
  {
   "cell_type": "code",
   "execution_count": 9,
   "metadata": {},
   "outputs": [],
   "source": [
    "# This is needed to display the images.\n",
    "%matplotlib inline"
   ]
  },
  {
   "cell_type": "code",
   "execution_count": null,
   "metadata": {},
   "outputs": [],
   "source": [
    "# corpus [[(0, 4),(id, counts),  ]...]\n",
    "# id2word {id:'name', 0: u'name 1',}\n",
    "# labels [0,1,2,2...] int\n",
    "# label2name {0: showname} string\n",
    "# od_inference_dirs ['od_3438636448_1fps'...] string\n",
    "# model = LdaModel(\n",
    "#     corpus=corpus,\n",
    "#     id2word=id2word,\n",
    "#     chunksize=chunksize,\n",
    "#     alpha='auto',\n",
    "#     eta='auto',\n",
    "#     iterations=iterations,\n",
    "#     num_topics=num_topics,\n",
    "#     passes=passes,\n",
    "#     eval_every=eval_every\n",
    "# )"
   ]
  },
  {
   "cell_type": "code",
   "execution_count": 10,
   "metadata": {},
   "outputs": [],
   "source": [
    "od_inference_dirs = ['od_1252812627_1fps', 'od_1252812923_1fps', 'od_169182094_1fps', 'od_169182098_1fps', 'od_279703428_1fps', 'od_279703885_1fps', 'od_942334491_1fps', 'od_942334494_1fps', 'od_3438636448_1fps', 'od_3477876483_1fps', 'od_3423612893_1fps', 'od_3497684122_1fps', 'od_3498539801_1fps', 'od_3498532459_1fps', 'od_3491078546_1fps', 'od_3582306776_1fps', 'od_3468314939_1fps']\n",
    "\n",
    "labels = [0, 0, 1, 1, 2, 2, 3, 3, 4, 5, 6, 7, 8, 8, 9, 10, 11]\n",
    "\n",
    "label2name = {0:'Game of Throne', 1: 'Friends', 2: 'Sopranos', 3: 'Breaking Bad', 4: 'Africa\\'s Hunters', 5: 'Africa\\'s Wild', 6: 'Big Bang Theory', 7: '16 and Pregnant', 8: 'Teen Mom', 9: '4th & Forever', 20: '24/7 College', 11: 'Camelot'}"
   ]
  },
  {
   "cell_type": "code",
   "execution_count": 12,
   "metadata": {},
   "outputs": [],
   "source": [
    "# List of the strings that is used to add correct label for each box.\n",
    "PATH_TO_LABELS = os.path.join('/root/models/research/object_detection/data', 'oid_bbox_trainable_label_map_add2.pbtxt')\n",
    "NUM_CLASSES = 547\n",
    "\n",
    "label_map = label_map_util.load_labelmap(PATH_TO_LABELS)\n",
    "categories = label_map_util.convert_label_map_to_categories(label_map, max_num_classes=NUM_CLASSES, use_display_name=True)\n",
    "category_index = label_map_util.create_category_index(categories)"
   ]
  },
  {
   "cell_type": "code",
   "execution_count": 13,
   "metadata": {},
   "outputs": [],
   "source": [
    "with open('/root/openimage/f_score_v5.pickle', 'rb') as handle:\n",
    "    maxF_dict = pickle.load(handle)"
   ]
  },
  {
   "cell_type": "code",
   "execution_count": 16,
   "metadata": {},
   "outputs": [],
   "source": [
    "def read_frames_todict(input_dir):\n",
    "# input_dir = '/root/video_inference/od_infrence_1252812627'\n",
    "    od_dict = {}\n",
    "    for folder in sorted(os.listdir(input_dir)):\n",
    "        input_file = os.path.join(input_dir, folder)\n",
    "        with open(input_file, 'rb') as handle:\n",
    "            output_dict = pickle.load(handle)\n",
    "        od_dict[folder] = output_dict\n",
    "    return od_dict\n",
    "\n",
    "def calculate_words(od_dict, NUM_CLASSES, maxF_dict):\n",
    "    class_counts = { idx+1:0 for idx in range(NUM_CLASSES)}\n",
    "    for key, frame in od_dict.items():\n",
    "        for c, prob in zip(frame['detection_classes'], frame['detection_scores']):\n",
    "            if prob > maxF_dict[c]['Threshold']:\n",
    "                class_counts[c] += 1\n",
    "    return class_counts\n",
    "\n",
    "def plot_class(od_dir, results, NUM_CLASSES, topN=5, out_path=''):\n",
    "    results[od_dir]['Words']\n",
    "    total_cnt = 0\n",
    "#     for cnt in results[od_dir]['Words'].values():\n",
    "#         total_cnt += cnt\n",
    "    total_cnt = sum(results[od_dir]['Words'].values())\n",
    "    xx = [x+1 for x in range(NUM_CLASSES)]\n",
    "    yy = [results[od_dir]['Words'][x+1]*100.0/total_cnt   for x in range(NUM_CLASSES)  ]\n",
    "    plt.xlim(0, 547);\n",
    "    # plt.ylim(0, 1.0);\n",
    "    plt.plot(xx, yy, 'ob');\n",
    "    print_topN(od_dir, results, topN)\n",
    "    if out_path:\n",
    "        plt.savefig(out_path, transparent=False, dpi = 300)\n",
    "        \n",
    "def print_topN(od_dir, results, topN=5):\n",
    "    wordsFreqDict=results[od_dir]['Words']\n",
    "    # Create a list of tuples sorted by index 1 i.e. value field     \n",
    "    listofTuples = sorted(wordsFreqDict.items() ,  key=lambda x: x[1], reverse=True)\n",
    "    # Iterate over the sorted sequence\n",
    "    total_cnt = sum(results[od_dir]['Words'].values())\n",
    "#     print('ID', 'frequency', 'Name' )\n",
    "    print(\"{0},{1},{2}\".format('ID', 'frequency (%)', 'Name' ))\n",
    "    for elem in listofTuples[0:topN] :\n",
    "#         print(elem[0] , elem[1]*100.0/total_cnt, category_index[elem[0]]['name'] )\n",
    "        print(\"{0},{1:0.2f},{2}\".format(elem[0] , elem[1]*100.0/total_cnt, category_index[elem[0]]['name']))\n",
    "\n",
    "\n"
   ]
  },
  {
   "cell_type": "code",
   "execution_count": 18,
   "metadata": {},
   "outputs": [],
   "source": [
    "results = {}"
   ]
  },
  {
   "cell_type": "code",
   "execution_count": 21,
   "metadata": {},
   "outputs": [
    {
     "name": "stdout",
     "output_type": "stream",
     "text": [
      "ID,frequency (%),Name\n",
      "47,20.42,Arm\n",
      "37,15.27,Hair\n",
      "32,10.21,Human body\n",
      "2,8.96,Clothing\n",
      "39,8.68,Head\n",
      "45,5.52,Mammal\n",
      "7,4.86,Woman\n",
      "1,3.87,Person\n",
      "12,3.03,Girl\n",
      "3,2.82,Man\n",
      "4,2.61,Face\n",
      "23,1.76,Table\n",
      "29,1.29,Dress\n",
      "18,0.98,Furniture\n",
      "103,0.95,Couch\n",
      "55,0.93,Nose\n",
      "6,0.62,Plant\n",
      "62,0.53,Eye\n",
      "64,0.46,Mouth\n",
      "9,0.45,Building\n"
     ]
    },
    {
     "data": {
      "image/png": "[encoded data removed]",
      "text/plain": [
       "<Figure size 432x288 with 1 Axes>"
      ]
     },
     "metadata": {
      "needs_background": "light"
     },
     "output_type": "display_data"
    }
   ],
   "source": [
    "od_dir = 'od_169182098_1fps' #f2\n",
    "results[od_dir] = {}\n",
    "results[od_dir]['Raw'] = read_frames_todict('/root/ampvideo_inference/'+od_dir)\n",
    "results[od_dir]['Words'] = calculate_words(results[od_dir]['Raw'], NUM_CLASSES, maxF_dict)\n",
    "plot_class(od_dir, results, NUM_CLASSES,20)"
   ]
  },
  {
   "cell_type": "code",
   "execution_count": null,
   "metadata": {},
   "outputs": [],
   "source": []
  }
 ],
 "metadata": {
  "kernelspec": {
   "display_name": "Python 2",
   "language": "python",
   "name": "python2"
  },
  "language_info": {
   "codemirror_mode": {
    "name": "ipython",
    "version": 2
   },
   "file_extension": ".py",
   "mimetype": "text/x-python",
   "name": "python",
   "nbconvert_exporter": "python",
   "pygments_lexer": "ipython2",
   "version": "2.7.12"
  }
 },
 "nbformat": 4,
 "nbformat_minor": 2
}
