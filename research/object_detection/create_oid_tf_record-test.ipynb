{
 "cells": [
  {
   "cell_type": "code",
   "execution_count": 1,
   "metadata": {},
   "outputs": [],
   "source": [
    "\"\"\"Example usage:\n",
    "  python object_detection/dataset_tools/create_oid_tf_record.py \\\n",
    "    --input_annotations_csv=/path/to/input/annotations-human-bbox.csv \\\n",
    "    --input_images_directory=/path/to/input/image_pixels_directory \\\n",
    "    --input_label_map=/path/to/input/labels_bbox_545.labelmap \\\n",
    "    --output_tf_record_path_prefix=/path/to/output/prefix.tfrecord\n",
    "CSVs with bounding box annotations and image metadata (including the image URLs)\n",
    "can be downloaded from the Open Images GitHub repository:\n",
    "https://github.com/openimages/dataset\n",
    "This script will include every image found in the input_images_directory in the\n",
    "output TFRecord, even if the image has no corresponding bounding box annotations\n",
    "in the input_annotations_csv.\n",
    "\"\"\"\n",
    "from __future__ import absolute_import\n",
    "from __future__ import division\n",
    "from __future__ import print_function\n",
    "\n",
    "import os\n",
    "\n",
    "import contextlib2\n",
    "import pandas as pd\n",
    "import tensorflow as tf\n",
    "\n",
    "from object_detection.dataset_tools import oid_tfrecord_creation\n",
    "from object_detection.utils import label_map_util"
   ]
  },
  {
   "cell_type": "code",
   "execution_count": 2,
   "metadata": {},
   "outputs": [],
   "source": [
    "tf.flags.DEFINE_string('input_annotations_csv', None,\n",
    "                       'Path to CSV containing image bounding box annotations')\n",
    "tf.flags.DEFINE_string('input_images_directory', None,\n",
    "                       'Directory containing the image pixels '\n",
    "                       'downloaded from the OpenImages GitHub repository.')\n",
    "tf.flags.DEFINE_string('input_label_map', None, 'Path to the label map proto')\n",
    "tf.flags.DEFINE_string(\n",
    "    'output_tf_record_path_prefix', None,\n",
    "    'Path to the output TFRecord. The shard index and the number of shards '\n",
    "    'will be appended for each output shard.')\n",
    "tf.flags.DEFINE_integer('num_shards', 100, 'Number of TFRecord shards')\n",
    "\n",
    "FLAGS = tf.flags.FLAGS"
   ]
  },
  {
   "cell_type": "code",
   "execution_count": 5,
   "metadata": {},
   "outputs": [
    {
     "name": "stdout",
     "output_type": "stream",
     "text": [
      "mkdir: cannot create directory ‘test_tfrecords’: File exists\r\n"
     ]
    }
   ],
   "source": [
    "input_annotations_csv='/root/2017_07/validation/annotations-human-bbox.csv'\n",
    "input_images_directory='/root/raw_images_validation'\n",
    "input_label_map='../object_detection/data/oid_bbox_trainable_label_map.pbtxt'\n",
    "!mkdir test_tfrecords\n",
    "output_tf_record_path_prefix='test_tfrecords/test.tfrecord'\n",
    "num_shards=100"
   ]
  },
  {
   "cell_type": "code",
   "execution_count": 6,
   "metadata": {},
   "outputs": [
    {
     "name": "stdout",
     "output_type": "stream",
     "text": [
      "INFO:tensorflow:Found 41620 images...\n"
     ]
    },
    {
     "name": "stderr",
     "output_type": "stream",
     "text": [
      "/usr/local/lib/python2.7/dist-packages/ipykernel_launcher.py:14: FutureWarning: Sorting because non-concatenation axis is not aligned. A future version\n",
      "of pandas will change to not sort by default.\n",
      "\n",
      "To accept the future behavior, pass 'sort=False'.\n",
      "\n",
      "To retain the current behavior and silence the warning, pass 'sort=True'.\n",
      "\n",
      "  \n"
     ]
    }
   ],
   "source": [
    "tf.logging.set_verbosity(tf.logging.INFO)\n",
    "\n",
    "required_flags = [\n",
    "  'input_annotations_csv', 'input_images_directory', 'input_label_map',\n",
    "  'output_tf_record_path_prefix'\n",
    "]\n",
    "\n",
    "label_map = label_map_util.get_label_map_dict(input_label_map)\n",
    "all_annotations = pd.read_csv(input_annotations_csv)\n",
    "all_images = tf.gfile.Glob(\n",
    "  os.path.join(input_images_directory, '*.jpg'))\n",
    "all_image_ids = [os.path.splitext(os.path.basename(v))[0] for v in all_images]\n",
    "all_image_ids = pd.DataFrame({'ImageID': all_image_ids})\n",
    "all_annotations = pd.concat([all_annotations, all_image_ids])\n",
    "\n",
    "tf.logging.log(tf.logging.INFO, 'Found %d images...', len(all_image_ids))"
   ]
  },
  {
   "cell_type": "code",
   "execution_count": 10,
   "metadata": {},
   "outputs": [],
   "source": [
    "all_annotations = all_annotations.set_index(\"LabelName\")"
   ]
  },
  {
   "cell_type": "code",
   "execution_count": 13,
   "metadata": {},
   "outputs": [],
   "source": [
    "all_annotations=all_annotations.reset_index()"
   ]
  },
  {
   "cell_type": "code",
   "execution_count": 14,
   "metadata": {},
   "outputs": [
    {
     "name": "stdout",
     "output_type": "stream",
     "text": [
      "INFO:tensorflow:Processed 0 images...\n",
      "0001eeaf4aed83f9\n",
      "-----\n",
      "       LabelName  Confidence           ImageID  IsDepiction  IsGroupOf  \\\n",
      "61112   /m/0cmf2         1.0  0001eeaf4aed83f9          0.0        0.0   \n",
      "206637       NaN         NaN  0001eeaf4aed83f9          NaN        NaN   \n",
      "\n",
      "        IsInside  IsOccluded  IsTruncated Source      XMax      XMin  \\\n",
      "61112        0.0         0.0          0.0  human  0.964178  0.022464   \n",
      "206637       NaN         NaN          NaN    NaN       NaN       NaN   \n",
      "\n",
      "            YMax      YMin  \n",
      "61112   0.800164  0.070656  \n",
      "206637       NaN       NaN  \n",
      "-----\n"
     ]
    }
   ],
   "source": [
    "  with contextlib2.ExitStack() as tf_record_close_stack:\n",
    "    output_tfrecords = oid_tfrecord_creation.open_sharded_output_tfrecords(\n",
    "        tf_record_close_stack, output_tf_record_path_prefix,\n",
    "        num_shards)\n",
    "\n",
    "    for counter, image_data in enumerate(all_annotations.groupby('ImageID')):\n",
    "      tf.logging.log_every_n(tf.logging.INFO, 'Processed %d images...', 1000,\n",
    "                             counter)\n",
    "\n",
    "      image_id, image_annotations = image_data\n",
    "      print(image_id)\n",
    "      print(\"-----\")\n",
    "      print(image_annotations)\n",
    "      print(\"-----\")\n",
    "\n",
    "        \n",
    "#       break\n",
    "      # In OID image file names are formed by appending \".jpg\" to the image ID.\n",
    "      image_path = os.path.join(input_images_directory, image_id + '.jpg')\n",
    "      with tf.gfile.Open(image_path) as image_file:\n",
    "        encoded_image = image_file.read()\n",
    "\n",
    "      tf_example = oid_tfrecord_creation.tf_example_from_annotations_data_frame(\n",
    "          image_annotations, label_map, encoded_image)\n",
    "      if tf_example:\n",
    "        shard_idx = int(image_id, 16) % num_shards\n",
    "        output_tfrecords[shard_idx].write(tf_example.SerializeToString())\n",
    "      break"
   ]
  },
  {
   "cell_type": "code",
   "execution_count": 15,
   "metadata": {},
   "outputs": [
    {
     "data": {
      "text/plain": [
       "61112      True\n",
       "206637    False\n",
       "Name: LabelName, dtype: bool"
      ]
     },
     "execution_count": 15,
     "metadata": {},
     "output_type": "execute_result"
    }
   ],
   "source": [
    "image_annotations.LabelName.isin(label_map)"
   ]
  },
  {
   "cell_type": "code",
   "execution_count": 16,
   "metadata": {},
   "outputs": [
    {
     "data": {
      "text/html": [
       "<div>\n",
       "<style scoped>\n",
       "    .dataframe tbody tr th:only-of-type {\n",
       "        vertical-align: middle;\n",
       "    }\n",
       "\n",
       "    .dataframe tbody tr th {\n",
       "        vertical-align: top;\n",
       "    }\n",
       "\n",
       "    .dataframe thead th {\n",
       "        text-align: right;\n",
       "    }\n",
       "</style>\n",
       "<table border=\"1\" class=\"dataframe\">\n",
       "  <thead>\n",
       "    <tr style=\"text-align: right;\">\n",
       "      <th></th>\n",
       "      <th>LabelName</th>\n",
       "      <th>Confidence</th>\n",
       "      <th>ImageID</th>\n",
       "      <th>IsDepiction</th>\n",
       "      <th>IsGroupOf</th>\n",
       "      <th>IsInside</th>\n",
       "      <th>IsOccluded</th>\n",
       "      <th>IsTruncated</th>\n",
       "      <th>Source</th>\n",
       "      <th>XMax</th>\n",
       "      <th>XMin</th>\n",
       "      <th>YMax</th>\n",
       "      <th>YMin</th>\n",
       "    </tr>\n",
       "  </thead>\n",
       "  <tbody>\n",
       "    <tr>\n",
       "      <th>61112</th>\n",
       "      <td>/m/0cmf2</td>\n",
       "      <td>1.0</td>\n",
       "      <td>0001eeaf4aed83f9</td>\n",
       "      <td>0.0</td>\n",
       "      <td>0.0</td>\n",
       "      <td>0.0</td>\n",
       "      <td>0.0</td>\n",
       "      <td>0.0</td>\n",
       "      <td>human</td>\n",
       "      <td>0.964178</td>\n",
       "      <td>0.022464</td>\n",
       "      <td>0.800164</td>\n",
       "      <td>0.070656</td>\n",
       "    </tr>\n",
       "    <tr>\n",
       "      <th>206637</th>\n",
       "      <td>NaN</td>\n",
       "      <td>NaN</td>\n",
       "      <td>0001eeaf4aed83f9</td>\n",
       "      <td>NaN</td>\n",
       "      <td>NaN</td>\n",
       "      <td>NaN</td>\n",
       "      <td>NaN</td>\n",
       "      <td>NaN</td>\n",
       "      <td>NaN</td>\n",
       "      <td>NaN</td>\n",
       "      <td>NaN</td>\n",
       "      <td>NaN</td>\n",
       "      <td>NaN</td>\n",
       "    </tr>\n",
       "  </tbody>\n",
       "</table>\n",
       "</div>"
      ],
      "text/plain": [
       "       LabelName  Confidence           ImageID  IsDepiction  IsGroupOf  \\\n",
       "61112   /m/0cmf2         1.0  0001eeaf4aed83f9          0.0        0.0   \n",
       "206637       NaN         NaN  0001eeaf4aed83f9          NaN        NaN   \n",
       "\n",
       "        IsInside  IsOccluded  IsTruncated Source      XMax      XMin  \\\n",
       "61112        0.0         0.0          0.0  human  0.964178  0.022464   \n",
       "206637       NaN         NaN          NaN    NaN       NaN       NaN   \n",
       "\n",
       "            YMax      YMin  \n",
       "61112   0.800164  0.070656  \n",
       "206637       NaN       NaN  "
      ]
     },
     "execution_count": 16,
     "metadata": {},
     "output_type": "execute_result"
    }
   ],
   "source": [
    "image_annotations"
   ]
  },
  {
   "cell_type": "code",
   "execution_count": 17,
   "metadata": {},
   "outputs": [
    {
     "data": {
      "text/html": [
       "<div>\n",
       "<style scoped>\n",
       "    .dataframe tbody tr th:only-of-type {\n",
       "        vertical-align: middle;\n",
       "    }\n",
       "\n",
       "    .dataframe tbody tr th {\n",
       "        vertical-align: top;\n",
       "    }\n",
       "\n",
       "    .dataframe thead th {\n",
       "        text-align: right;\n",
       "    }\n",
       "</style>\n",
       "<table border=\"1\" class=\"dataframe\">\n",
       "  <thead>\n",
       "    <tr style=\"text-align: right;\">\n",
       "      <th></th>\n",
       "      <th>LabelName</th>\n",
       "      <th>Confidence</th>\n",
       "      <th>ImageID</th>\n",
       "      <th>IsDepiction</th>\n",
       "      <th>IsGroupOf</th>\n",
       "      <th>IsInside</th>\n",
       "      <th>IsOccluded</th>\n",
       "      <th>IsTruncated</th>\n",
       "      <th>Source</th>\n",
       "      <th>XMax</th>\n",
       "      <th>XMin</th>\n",
       "      <th>YMax</th>\n",
       "      <th>YMin</th>\n",
       "    </tr>\n",
       "  </thead>\n",
       "  <tbody>\n",
       "    <tr>\n",
       "      <th>61112</th>\n",
       "      <td>/m/0cmf2</td>\n",
       "      <td>1.0</td>\n",
       "      <td>0001eeaf4aed83f9</td>\n",
       "      <td>0.0</td>\n",
       "      <td>0.0</td>\n",
       "      <td>0.0</td>\n",
       "      <td>0.0</td>\n",
       "      <td>0.0</td>\n",
       "      <td>human</td>\n",
       "      <td>0.964178</td>\n",
       "      <td>0.022464</td>\n",
       "      <td>0.800164</td>\n",
       "      <td>0.070656</td>\n",
       "    </tr>\n",
       "  </tbody>\n",
       "</table>\n",
       "</div>"
      ],
      "text/plain": [
       "      LabelName  Confidence           ImageID  IsDepiction  IsGroupOf  \\\n",
       "61112  /m/0cmf2         1.0  0001eeaf4aed83f9          0.0        0.0   \n",
       "\n",
       "       IsInside  IsOccluded  IsTruncated Source      XMax      XMin      YMax  \\\n",
       "61112       0.0         0.0          0.0  human  0.964178  0.022464  0.800164   \n",
       "\n",
       "           YMin  \n",
       "61112  0.070656  "
      ]
     },
     "execution_count": 17,
     "metadata": {},
     "output_type": "execute_result"
    }
   ],
   "source": [
    "image_annotations[image_annotations.LabelName.isin(label_map)]"
   ]
  },
  {
   "cell_type": "code",
   "execution_count": null,
   "metadata": {},
   "outputs": [],
   "source": []
  }
 ],
 "metadata": {
  "kernelspec": {
   "display_name": "Python 2",
   "language": "python",
   "name": "python2"
  },
  "language_info": {
   "codemirror_mode": {
    "name": "ipython",
    "version": 2
   },
   "file_extension": ".py",
   "mimetype": "text/x-python",
   "name": "python",
   "nbconvert_exporter": "python",
   "pygments_lexer": "ipython2",
   "version": "2.7.12"
  }
 },
 "nbformat": 4,
 "nbformat_minor": 2
}
