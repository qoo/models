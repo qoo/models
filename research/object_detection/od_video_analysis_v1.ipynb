{
 "cells": [
  {
   "cell_type": "markdown",
   "metadata": {},
   "source": [
    "# Imports"
   ]
  },
  {
   "cell_type": "code",
   "execution_count": 8,
   "metadata": {},
   "outputs": [
    {
     "name": "stdout",
     "output_type": "stream",
     "text": [
      "1.12.0\n"
     ]
    }
   ],
   "source": [
    "import numpy as np\n",
    "import os\n",
    "import six.moves.urllib as urllib\n",
    "import sys\n",
    "import tarfile\n",
    "import tensorflow as tf\n",
    "import zipfile\n",
    "\n",
    "from collections import defaultdict\n",
    "from io import StringIO\n",
    "from matplotlib import pyplot as plt\n",
    "from PIL import Image\n",
    "\n",
    "# This is needed since the notebook is stored in the object_detection folder.\n",
    "sys.path.append(\"..\")\n",
    "from object_detection.utils import ops as utils_ops\n",
    "print(tf.__version__)\n",
    "# if tf.__version__ < '1.14.0':\n",
    "#   raise ImportError('Please upgrade your tensorflow installation to v1.4.* or later!')\n",
    "\n",
    "import pickle"
   ]
  },
  {
   "cell_type": "markdown",
   "metadata": {},
   "source": [
    "## Env setup"
   ]
  },
  {
   "cell_type": "code",
   "execution_count": 2,
   "metadata": {},
   "outputs": [],
   "source": [
    "# This is needed to display the images.\n",
    "%matplotlib inline"
   ]
  },
  {
   "cell_type": "markdown",
   "metadata": {},
   "source": [
    "## Object detection imports\n",
    "Here are the imports from the object detection module."
   ]
  },
  {
   "cell_type": "code",
   "execution_count": 3,
   "metadata": {},
   "outputs": [
    {
     "name": "stderr",
     "output_type": "stream",
     "text": [
      "utils/visualization_utils.py:25: UserWarning: \n",
      "This call to matplotlib.use() has no effect because the backend has already\n",
      "been chosen; matplotlib.use() must be called *before* pylab, matplotlib.pyplot,\n",
      "or matplotlib.backends is imported for the first time.\n",
      "\n",
      "The backend was *originally* set to 'module://ipykernel.pylab.backend_inline' by the following code:\n",
      "  File \"/usr/lib/python2.7/runpy.py\", line 174, in _run_module_as_main\n",
      "    \"__main__\", fname, loader, pkg_name)\n",
      "  File \"/usr/lib/python2.7/runpy.py\", line 72, in _run_code\n",
      "    exec code in run_globals\n",
      "  File \"/usr/local/lib/python2.7/dist-packages/ipykernel_launcher.py\", line 16, in <module>\n",
      "    app.launch_new_instance()\n",
      "  File \"/usr/local/lib/python2.7/dist-packages/traitlets/config/application.py\", line 664, in launch_instance\n",
      "    app.start()\n",
      "  File \"/usr/local/lib/python2.7/dist-packages/ipykernel/kernelapp.py\", line 499, in start\n",
      "    self.io_loop.start()\n",
      "  File \"/usr/local/lib/python2.7/dist-packages/tornado/ioloop.py\", line 1073, in start\n",
      "    handler_func(fd_obj, events)\n",
      "  File \"/usr/local/lib/python2.7/dist-packages/tornado/stack_context.py\", line 300, in null_wrapper\n",
      "    return fn(*args, **kwargs)\n",
      "  File \"/usr/local/lib/python2.7/dist-packages/zmq/eventloop/zmqstream.py\", line 456, in _handle_events\n",
      "    self._handle_recv()\n",
      "  File \"/usr/local/lib/python2.7/dist-packages/zmq/eventloop/zmqstream.py\", line 486, in _handle_recv\n",
      "    self._run_callback(callback, msg)\n",
      "  File \"/usr/local/lib/python2.7/dist-packages/zmq/eventloop/zmqstream.py\", line 438, in _run_callback\n",
      "    callback(*args, **kwargs)\n",
      "  File \"/usr/local/lib/python2.7/dist-packages/tornado/stack_context.py\", line 300, in null_wrapper\n",
      "    return fn(*args, **kwargs)\n",
      "  File \"/usr/local/lib/python2.7/dist-packages/ipykernel/kernelbase.py\", line 283, in dispatcher\n",
      "    return self.dispatch_shell(stream, msg)\n",
      "  File \"/usr/local/lib/python2.7/dist-packages/ipykernel/kernelbase.py\", line 233, in dispatch_shell\n",
      "    handler(stream, idents, msg)\n",
      "  File \"/usr/local/lib/python2.7/dist-packages/ipykernel/kernelbase.py\", line 399, in execute_request\n",
      "    user_expressions, allow_stdin)\n",
      "  File \"/usr/local/lib/python2.7/dist-packages/ipykernel/ipkernel.py\", line 208, in do_execute\n",
      "    res = shell.run_cell(code, store_history=store_history, silent=silent)\n",
      "  File \"/usr/local/lib/python2.7/dist-packages/ipykernel/zmqshell.py\", line 537, in run_cell\n",
      "    return super(ZMQInteractiveShell, self).run_cell(*args, **kwargs)\n",
      "  File \"/usr/local/lib/python2.7/dist-packages/IPython/core/interactiveshell.py\", line 2714, in run_cell\n",
      "    interactivity=interactivity, compiler=compiler, result=result)\n",
      "  File \"/usr/local/lib/python2.7/dist-packages/IPython/core/interactiveshell.py\", line 2824, in run_ast_nodes\n",
      "    if self.run_code(code, result):\n",
      "  File \"/usr/local/lib/python2.7/dist-packages/IPython/core/interactiveshell.py\", line 2878, in run_code\n",
      "    exec(code_obj, self.user_global_ns, self.user_ns)\n",
      "  File \"<ipython-input-2-48fe9407af3a>\", line 2, in <module>\n",
      "    get_ipython().magic(u'matplotlib inline')\n",
      "  File \"/usr/local/lib/python2.7/dist-packages/IPython/core/interactiveshell.py\", line 2160, in magic\n",
      "    return self.run_line_magic(magic_name, magic_arg_s)\n",
      "  File \"/usr/local/lib/python2.7/dist-packages/IPython/core/interactiveshell.py\", line 2081, in run_line_magic\n",
      "    result = fn(*args,**kwargs)\n",
      "  File \"</usr/local/lib/python2.7/dist-packages/decorator.pyc:decorator-gen-105>\", line 2, in matplotlib\n",
      "  File \"/usr/local/lib/python2.7/dist-packages/IPython/core/magic.py\", line 188, in <lambda>\n",
      "    call = lambda f, *a, **k: f(*a, **k)\n",
      "  File \"/usr/local/lib/python2.7/dist-packages/IPython/core/magics/pylab.py\", line 100, in matplotlib\n",
      "    gui, backend = self.shell.enable_matplotlib(args.gui)\n",
      "  File \"/usr/local/lib/python2.7/dist-packages/IPython/core/interactiveshell.py\", line 2966, in enable_matplotlib\n",
      "    pt.activate_matplotlib(backend)\n",
      "  File \"/usr/local/lib/python2.7/dist-packages/IPython/core/pylabtools.py\", line 315, in activate_matplotlib\n",
      "    matplotlib.pyplot.switch_backend(backend)\n",
      "  File \"/usr/local/lib/python2.7/dist-packages/matplotlib/pyplot.py\", line 231, in switch_backend\n",
      "    matplotlib.use(newbackend, warn=False, force=True)\n",
      "  File \"/usr/local/lib/python2.7/dist-packages/matplotlib/__init__.py\", line 1422, in use\n",
      "    reload(sys.modules['matplotlib.backends'])\n",
      "  File \"/usr/local/lib/python2.7/dist-packages/matplotlib/backends/__init__.py\", line 16, in <module>\n",
      "    line for line in traceback.format_stack()\n",
      "\n",
      "\n",
      "  import matplotlib; matplotlib.use('Agg')  # pylint: disable=multiple-statements\n"
     ]
    }
   ],
   "source": [
    "from utils import label_map_util\n",
    "\n",
    "from utils import visualization_utils as vis_util"
   ]
  },
  {
   "cell_type": "markdown",
   "metadata": {},
   "source": [
    "## Loading label map\n",
    "Label maps map indices to category names, so that when our convolution network predicts `5`, we know that this corresponds to `airplane`.  Here we use internal utility functions, but anything that returns a dictionary mapping integers to appropriate string labels would be fine"
   ]
  },
  {
   "cell_type": "code",
   "execution_count": 5,
   "metadata": {},
   "outputs": [],
   "source": [
    "# List of the strings that is used to add correct label for each box.\n",
    "PATH_TO_LABELS = os.path.join('/root/models/research/object_detection/data', 'oid_bbox_trainable_label_map_add2.pbtxt')\n",
    "NUM_CLASSES = 547\n",
    "\n",
    "label_map = label_map_util.load_labelmap(PATH_TO_LABELS)\n",
    "categories = label_map_util.convert_label_map_to_categories(label_map, max_num_classes=NUM_CLASSES, use_display_name=True)\n",
    "category_index = label_map_util.create_category_index(categories)"
   ]
  },
  {
   "cell_type": "code",
   "execution_count": null,
   "metadata": {},
   "outputs": [],
   "source": [
    "# read od inference to dictionary"
   ]
  },
  {
   "cell_type": "code",
   "execution_count": 25,
   "metadata": {},
   "outputs": [],
   "source": [
    "input_dir = '/root/video_inference/od_infrence_1252812627'\n",
    "od_dict = {}\n",
    "for folder in sorted(os.listdir(input_dir)):\n",
    "    input_file = os.path.join(input_dir, folder)\n",
    "    with open(input_file, 'rb') as handle:\n",
    "        output_dict = pickle.load(handle)\n",
    "    od_dict[folder] = output_dict"
   ]
  },
  {
   "cell_type": "code",
   "execution_count": 24,
   "metadata": {},
   "outputs": [
    {
     "data": {
      "text/plain": [
       "{'image-000001.pickle': {'detection_boxes': array([[2.27657124e-01, 0.00000000e+00, 8.07455540e-01, 1.00000000e+00],\n",
       "         [1.22367300e-01, 3.25111896e-02, 5.87794363e-01, 1.00000000e+00],\n",
       "         [2.12763757e-01, 0.00000000e+00, 8.15154731e-01, 9.89240110e-01],\n",
       "         [6.52081594e-02, 0.00000000e+00, 9.16295469e-01, 1.00000000e+00],\n",
       "         [3.75423074e-01, 9.14133713e-02, 9.85507250e-01, 9.79070246e-01],\n",
       "         [1.26425788e-01, 0.00000000e+00, 9.25530612e-01, 7.19124794e-01],\n",
       "         [7.01541901e-02, 2.40336619e-02, 9.14988220e-01, 9.81801569e-01],\n",
       "         [2.38233596e-01, 6.85864761e-02, 5.68482995e-01, 8.69941235e-01],\n",
       "         [1.20200478e-01, 0.00000000e+00, 5.99289894e-01, 1.00000000e+00],\n",
       "         [3.47968549e-01, 0.00000000e+00, 9.28800046e-01, 1.00000000e+00],\n",
       "         [6.04562387e-02, 2.58695483e-02, 8.78907979e-01, 9.61916924e-01],\n",
       "         [1.81778491e-01, 7.23174065e-02, 8.48291755e-01, 9.79897201e-01],\n",
       "         [1.19388051e-01, 3.28919999e-02, 8.29369307e-01, 1.00000000e+00],\n",
       "         [0.00000000e+00, 0.00000000e+00, 9.73237753e-01, 1.00000000e+00],\n",
       "         [3.12696069e-01, 8.85920227e-03, 9.84783769e-01, 1.00000000e+00],\n",
       "         [6.51623830e-02, 9.95136574e-02, 8.56691122e-01, 9.85543430e-01],\n",
       "         [1.52796075e-01, 7.50717195e-03, 6.62185848e-01, 6.18273973e-01],\n",
       "         [1.31717205e-01, 0.00000000e+00, 8.55248868e-01, 9.29406762e-01],\n",
       "         [2.22314820e-01, 2.16973126e-02, 6.32371664e-01, 4.76914287e-01],\n",
       "         [6.03843629e-01, 3.00915018e-02, 9.83070374e-01, 1.00000000e+00],\n",
       "         [6.21986091e-01, 4.03322875e-02, 9.76882756e-01, 1.00000000e+00],\n",
       "         [7.39018023e-02, 2.57176217e-02, 8.51374149e-01, 9.85834599e-01],\n",
       "         [1.58487350e-01, 7.64912963e-02, 8.77863467e-01, 1.00000000e+00],\n",
       "         [5.02796434e-02, 5.67751564e-02, 9.36142921e-01, 9.91097033e-01],\n",
       "         [1.38554588e-01, 0.00000000e+00, 9.06056464e-01, 1.00000000e+00],\n",
       "         [2.19312087e-01, 3.33815515e-02, 8.64592910e-01, 1.00000000e+00],\n",
       "         [1.96982965e-01, 0.00000000e+00, 9.48760092e-01, 1.00000000e+00],\n",
       "         [1.48316324e-01, 5.55069089e-01, 9.47075129e-01, 1.00000000e+00],\n",
       "         [1.15415297e-01, 0.00000000e+00, 1.00000000e+00, 1.00000000e+00],\n",
       "         [3.47504854e-01, 6.28973916e-02, 1.00000000e+00, 1.00000000e+00],\n",
       "         [6.56983733e-01, 0.00000000e+00, 9.38982844e-01, 1.00000000e+00],\n",
       "         [2.44327471e-01, 9.09654260e-01, 6.62264407e-01, 9.87281442e-01],\n",
       "         [2.74625957e-01, 0.00000000e+00, 9.25549030e-01, 1.00000000e+00],\n",
       "         [8.68514776e-02, 3.21622699e-01, 9.29822624e-01, 1.00000000e+00],\n",
       "         [2.31849268e-01, 4.43159491e-02, 9.23237026e-01, 9.95605469e-01],\n",
       "         [2.24126637e-01, 8.93272683e-02, 4.94889677e-01, 7.08923876e-01],\n",
       "         [1.03104353e-01, 6.17980957e-04, 9.57627177e-01, 1.00000000e+00],\n",
       "         [0.00000000e+00, 0.00000000e+00, 1.00000000e+00, 1.00000000e+00],\n",
       "         [2.55679280e-01, 1.87816806e-02, 3.38721722e-01, 4.57873531e-02],\n",
       "         [4.83026914e-02, 0.00000000e+00, 8.16488743e-01, 1.00000000e+00],\n",
       "         [1.42717719e-01, 5.36628217e-02, 9.36985493e-01, 9.97145712e-01],\n",
       "         [1.54943466e-01, 0.00000000e+00, 8.73647273e-01, 1.00000000e+00],\n",
       "         [3.55615795e-01, 0.00000000e+00, 9.27821279e-01, 1.00000000e+00],\n",
       "         [1.49775445e-02, 4.04115804e-02, 8.40426564e-01, 9.97498691e-01],\n",
       "         [1.13244556e-01, 0.00000000e+00, 9.18176115e-01, 9.95911479e-01],\n",
       "         [6.52316809e-02, 0.00000000e+00, 9.62023973e-01, 1.00000000e+00],\n",
       "         [6.24675266e-02, 0.00000000e+00, 8.31388891e-01, 1.00000000e+00],\n",
       "         [1.61330953e-01, 0.00000000e+00, 8.20732117e-01, 1.00000000e+00],\n",
       "         [1.00811057e-01, 5.43544032e-02, 1.00000000e+00, 9.95978236e-01],\n",
       "         [0.00000000e+00, 3.51191983e-02, 8.54827166e-01, 8.66951942e-01],\n",
       "         [3.47456895e-02, 2.84201559e-02, 8.85289013e-01, 9.72328901e-01],\n",
       "         [2.33624354e-01, 4.34433520e-02, 8.40640783e-01, 1.00000000e+00],\n",
       "         [3.31692368e-01, 0.00000000e+00, 1.00000000e+00, 1.00000000e+00],\n",
       "         [2.67983705e-01, 2.61771157e-02, 3.24777573e-01, 5.22636175e-02],\n",
       "         [2.00562134e-01, 7.74764046e-02, 7.15009153e-01, 9.80997920e-01],\n",
       "         [2.16594428e-01, 0.00000000e+00, 9.07941639e-01, 9.70435500e-01],\n",
       "         [9.96354222e-02, 3.24911512e-02, 9.27333415e-01, 1.00000000e+00],\n",
       "         [9.18947905e-02, 1.78295419e-01, 7.07655430e-01, 1.00000000e+00],\n",
       "         [2.14000553e-01, 0.00000000e+00, 7.65088499e-01, 9.87322032e-01],\n",
       "         [3.52236658e-01, 6.61976635e-02, 9.93196666e-01, 1.00000000e+00],\n",
       "         [2.41868779e-01, 1.38516743e-02, 6.92069292e-01, 1.00000000e+00],\n",
       "         [2.62975305e-01, 2.51501128e-02, 3.46073747e-01, 5.83658740e-02],\n",
       "         [1.53971612e-01, 6.34887874e-01, 6.68896019e-01, 1.00000000e+00],\n",
       "         [2.55930603e-01, 0.00000000e+00, 1.00000000e+00, 1.00000000e+00],\n",
       "         [9.87763777e-02, 9.98920202e-02, 9.32169020e-01, 9.62558806e-01],\n",
       "         [8.99984017e-02, 3.91962714e-02, 5.61115146e-01, 1.00000000e+00],\n",
       "         [1.00763552e-01, 0.00000000e+00, 9.17158544e-01, 1.00000000e+00],\n",
       "         [1.71848625e-01, 0.00000000e+00, 8.98186386e-01, 4.33904320e-01],\n",
       "         [1.35545969e-01, 1.87885035e-02, 1.00000000e+00, 1.00000000e+00],\n",
       "         [4.11070511e-02, 6.19256608e-02, 8.17351401e-01, 1.00000000e+00],\n",
       "         [1.84313104e-01, 0.00000000e+00, 8.62175107e-01, 1.00000000e+00],\n",
       "         [1.30480886e-01, 4.13036607e-02, 9.39318955e-01, 1.00000000e+00],\n",
       "         [9.22037754e-03, 1.19107058e-02, 9.10314143e-01, 8.99078310e-01],\n",
       "         [9.61138457e-02, 4.27547731e-02, 9.68306482e-01, 7.58384645e-01],\n",
       "         [2.69378215e-01, 9.50054348e-01, 3.41450304e-01, 9.86848772e-01],\n",
       "         [3.25690508e-01, 7.43855834e-02, 9.79103625e-01, 9.55218732e-01],\n",
       "         [6.92419708e-02, 1.75119817e-01, 6.84642732e-01, 9.99413908e-01],\n",
       "         [1.84429839e-01, 9.34241265e-02, 8.60120237e-01, 9.72345173e-01],\n",
       "         [9.60102901e-02, 3.78826931e-02, 9.64199424e-01, 9.70571935e-01],\n",
       "         [2.68173188e-01, 1.97535865e-02, 3.57844263e-01, 4.96814065e-02],\n",
       "         [3.50271970e-01, 9.01099145e-02, 9.31955159e-01, 9.84973967e-01],\n",
       "         [9.19148549e-02, 2.36626696e-02, 8.74104738e-01, 9.81915891e-01],\n",
       "         [6.01711750e-01, 2.55062357e-02, 9.88554418e-01, 1.00000000e+00],\n",
       "         [1.70450091e-01, 0.00000000e+00, 8.89159977e-01, 1.00000000e+00],\n",
       "         [4.24128994e-02, 5.68332933e-02, 3.76321763e-01, 1.00000000e+00],\n",
       "         [1.32931858e-01, 0.00000000e+00, 8.50928783e-01, 1.00000000e+00],\n",
       "         [1.00477017e-01, 2.98900723e-01, 9.24819171e-01, 1.00000000e+00],\n",
       "         [1.93161085e-01, 2.77975984e-02, 9.75540876e-01, 9.63016152e-01],\n",
       "         [2.14023232e-01, 3.41595709e-02, 7.07977951e-01, 8.50272357e-01],\n",
       "         [1.79037422e-01, 0.00000000e+00, 7.91313529e-01, 9.74598229e-01],\n",
       "         [1.76712424e-01, 0.00000000e+00, 9.34109330e-01, 1.00000000e+00],\n",
       "         [2.53522605e-01, 1.62054598e-02, 3.37063611e-01, 3.70491482e-02],\n",
       "         [2.67885685e-01, 3.27027440e-02, 3.12674373e-01, 5.93912266e-02],\n",
       "         [2.13459000e-01, 1.03740975e-01, 6.66183054e-01, 9.29609716e-01],\n",
       "         [1.40835166e-01, 5.16589880e-02, 8.52745175e-01, 9.84682441e-01],\n",
       "         [6.81901574e-02, 3.38326767e-02, 1.00000000e+00, 8.45443428e-01],\n",
       "         [2.88957715e-01, 0.00000000e+00, 1.00000000e+00, 1.00000000e+00],\n",
       "         [2.13636562e-01, 1.24929860e-01, 8.60062480e-01, 1.00000000e+00],\n",
       "         [2.35559136e-01, 7.86519870e-02, 6.41216516e-01, 9.15209770e-01],\n",
       "         [2.42214948e-01, 0.00000000e+00, 6.21233523e-01, 4.64451879e-01]],\n",
       "        dtype=float32),\n",
       "  'detection_classes': array([276, 276,  17, 146, 341, 276, 497, 276,  17, 343, 153,   2,   6,\n",
       "         124,  18, 156, 276, 101, 276, 341, 158,  52, 134, 338,   5,   1,\n",
       "         326, 276,  94,   2, 343, 276,  23, 276, 389, 276,  82,   9, 276,\n",
       "          85, 158, 123, 153, 371, 237, 515, 135,  27, 391, 384,  65,  22,\n",
       "           8, 276, 338, 460, 203,   1, 343, 116,   5, 276, 276, 327, 325,\n",
       "           5, 183,  17, 416,  58,  50, 140,  19,   1, 276,  33,   2,  48,\n",
       "         105, 276, 505, 286,  18, 162, 276, 219,  17, 167, 101, 243,  13,\n",
       "         276, 276,   6, 501,  20, 133,   3,   1,  17]),\n",
       "  'detection_scores': array([5.9771252e-01, 9.9282131e-02, 8.0066264e-02, 6.3174330e-02,\n",
       "         3.4578588e-02, 2.7641987e-02, 1.4169385e-02, 1.2963955e-02,\n",
       "         1.2694618e-02, 8.2185483e-03, 7.4634375e-03, 6.5359874e-03,\n",
       "         5.7731103e-03, 5.5638384e-03, 5.4092528e-03, 5.2859271e-03,\n",
       "         4.7891205e-03, 4.7682193e-03, 4.6900408e-03, 4.6389461e-03,\n",
       "         4.1935989e-03, 4.0706405e-03, 4.0591299e-03, 3.8727724e-03,\n",
       "         3.6325555e-03, 3.5871170e-03, 2.9994957e-03, 2.7953109e-03,\n",
       "         2.6815892e-03, 2.6465219e-03, 2.6396054e-03, 2.4958423e-03,\n",
       "         2.1799898e-03, 2.1221284e-03, 2.0132742e-03, 1.9698907e-03,\n",
       "         1.8583296e-03, 1.8194673e-03, 1.7767722e-03, 1.7675115e-03,\n",
       "         1.6773260e-03, 1.6384160e-03, 1.5884510e-03, 1.5596085e-03,\n",
       "         1.4531318e-03, 1.3948391e-03, 1.3732534e-03, 1.3182340e-03,\n",
       "         1.3082606e-03, 1.2173285e-03, 1.1567273e-03, 1.1549534e-03,\n",
       "         1.1408881e-03, 1.0882556e-03, 1.0839486e-03, 1.0712786e-03,\n",
       "         1.0685173e-03, 1.0449557e-03, 1.0204752e-03, 9.9832122e-04,\n",
       "         9.8246243e-04, 9.6816471e-04, 9.4569154e-04, 9.3751913e-04,\n",
       "         9.3184755e-04, 9.1979466e-04, 9.1610273e-04, 8.8846532e-04,\n",
       "         8.8621263e-04, 8.7828975e-04, 8.6741784e-04, 8.5821719e-04,\n",
       "         8.4972812e-04, 8.2801864e-04, 8.2778966e-04, 7.6515338e-04,\n",
       "         7.2854134e-04, 7.1776169e-04, 6.8667385e-04, 6.8313646e-04,\n",
       "         6.7638652e-04, 6.6698273e-04, 6.5261842e-04, 6.5213401e-04,\n",
       "         6.5201311e-04, 6.4754928e-04, 6.2936870e-04, 6.1880582e-04,\n",
       "         6.0787844e-04, 6.0683559e-04, 5.9320073e-04, 5.8874791e-04,\n",
       "         5.8740471e-04, 5.7880749e-04, 5.7142862e-04, 5.6682556e-04,\n",
       "         5.6625507e-04, 5.6309736e-04, 5.6144799e-04, 5.5831356e-04],\n",
       "        dtype=float32),\n",
       "  'num_detections': 100}}"
      ]
     },
     "execution_count": 24,
     "metadata": {},
     "output_type": "execute_result"
    }
   ],
   "source": [
    "# od_dict"
   ]
  },
  {
   "cell_type": "code",
   "execution_count": null,
   "metadata": {},
   "outputs": [],
   "source": []
  },
  {
   "cell_type": "code",
   "execution_count": null,
   "metadata": {},
   "outputs": [],
   "source": []
  },
  {
   "cell_type": "code",
   "execution_count": null,
   "metadata": {},
   "outputs": [],
   "source": []
  },
  {
   "cell_type": "code",
   "execution_count": null,
   "metadata": {},
   "outputs": [],
   "source": []
  }
 ],
 "metadata": {
  "kernelspec": {
   "display_name": "Python 2",
   "language": "python",
   "name": "python2"
  },
  "language_info": {
   "codemirror_mode": {
    "name": "ipython",
    "version": 2
   },
   "file_extension": ".py",
   "mimetype": "text/x-python",
   "name": "python",
   "nbconvert_exporter": "python",
   "pygments_lexer": "ipython2",
   "version": "2.7.12"
  }
 },
 "nbformat": 4,
 "nbformat_minor": 2
}
