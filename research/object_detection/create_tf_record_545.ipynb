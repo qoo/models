{
 "cells": [
  {
   "cell_type": "code",
   "execution_count": 1,
   "metadata": {},
   "outputs": [],
   "source": [
    "\"\"\"Example usage:\n",
    "  python object_detection/dataset_tools/create_oid_tf_record.py \\\n",
    "    --input_annotations_csv=/path/to/input/annotations-human-bbox.csv \\\n",
    "    --input_images_directory=/path/to/input/image_pixels_directory \\\n",
    "    --input_label_map=/path/to/input/labels_bbox_545.labelmap \\\n",
    "    --output_tf_record_path_prefix=/path/to/output/prefix.tfrecord\n",
    "CSVs with bounding box annotations and image metadata (including the image URLs)\n",
    "can be downloaded from the Open Images GitHub repository:\n",
    "https://github.com/openimages/dataset\n",
    "This script will include every image found in the input_images_directory in the\n",
    "output TFRecord, even if the image has no corresponding bounding box annotations\n",
    "in the input_annotations_csv.\n",
    "\"\"\"\n",
    "from __future__ import absolute_import\n",
    "from __future__ import division\n",
    "from __future__ import print_function\n",
    "\n",
    "import os\n",
    "\n",
    "import contextlib2\n",
    "import pandas as pd\n",
    "import tensorflow as tf\n",
    "\n",
    "from object_detection.dataset_tools import oid_tfrecord_creation\n",
    "from object_detection.utils import label_map_util"
   ]
  },
  {
   "cell_type": "code",
   "execution_count": 5,
   "metadata": {},
   "outputs": [
    {
     "name": "stdout",
     "output_type": "stream",
     "text": [
      "mkdir: cannot create directory ‘test_tfrecords’: File exists\r\n"
     ]
    }
   ],
   "source": [
    "input_annotations_csv='/root/2017_07/validation/annotations-human-bbox.csv'\n",
    "input_images_directory='/root/raw_images_validation'\n",
    "input_label_map='../object_detection/data/oid_bbox_trainable_label_map.pbtxt'\n",
    "!mkdir test_tfrecords\n",
    "output_tf_record_path_prefix='test_tfrecords/test.tfrecord'\n",
    "num_shards=100"
   ]
  },
  {
   "cell_type": "code",
   "execution_count": 6,
   "metadata": {},
   "outputs": [
    {
     "name": "stdout",
     "output_type": "stream",
     "text": [
      "INFO:tensorflow:Found 41620 images...\n"
     ]
    },
    {
     "name": "stderr",
     "output_type": "stream",
     "text": [
      "/usr/local/lib/python2.7/dist-packages/ipykernel_launcher.py:14: FutureWarning: Sorting because non-concatenation axis is not aligned. A future version\n",
      "of pandas will change to not sort by default.\n",
      "\n",
      "To accept the future behavior, pass 'sort=False'.\n",
      "\n",
      "To retain the current behavior and silence the warning, pass 'sort=True'.\n",
      "\n",
      "  \n"
     ]
    }
   ],
   "source": [
    "tf.logging.set_verbosity(tf.logging.INFO)\n",
    "\n",
    "required_flags = [\n",
    "  'input_annotations_csv', 'input_images_directory', 'input_label_map',\n",
    "  'output_tf_record_path_prefix'\n",
    "]\n",
    "\n",
    "label_map = label_map_util.get_label_map_dict(input_label_map)\n",
    "all_annotations = pd.read_csv(input_annotations_csv)\n",
    "all_images = tf.gfile.Glob(\n",
    "  os.path.join(input_images_directory, '*.jpg'))\n",
    "all_image_ids = [os.path.splitext(os.path.basename(v))[0] for v in all_images]\n",
    "all_image_ids = pd.DataFrame({'ImageID': all_image_ids})\n",
    "all_annotations = pd.concat([all_annotations, all_image_ids])\n",
    "\n",
    "tf.logging.log(tf.logging.INFO, 'Found %d images...', len(all_image_ids))"
   ]
  },
  {
   "cell_type": "code",
   "execution_count": null,
   "metadata": {},
   "outputs": [],
   "source": []
  }
 ],
 "metadata": {
  "kernelspec": {
   "display_name": "Python 2",
   "language": "python",
   "name": "python2"
  },
  "language_info": {
   "codemirror_mode": {
    "name": "ipython",
    "version": 2
   },
   "file_extension": ".py",
   "mimetype": "text/x-python",
   "name": "python",
   "nbconvert_exporter": "python",
   "pygments_lexer": "ipython2",
   "version": "2.7.12"
  }
 },
 "nbformat": 4,
 "nbformat_minor": 2
}
