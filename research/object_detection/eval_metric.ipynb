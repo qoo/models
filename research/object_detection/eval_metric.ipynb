{
 "cells": [
  {
   "cell_type": "code",
   "execution_count": 2,
   "metadata": {},
   "outputs": [],
   "source": [
    "\"\"\"Example usage:\n",
    "  python object_detection/dataset_tools/create_oid_tf_record.py \\\n",
    "    --input_annotations_csv=/path/to/input/annotations-human-bbox.csv \\\n",
    "    --input_images_directory=/path/to/input/image_pixels_directory \\\n",
    "    --input_label_map=/path/to/input/labels_bbox_545.labelmap \\\n",
    "    --output_tf_record_path_prefix=/path/to/output/prefix.tfrecord\n",
    "CSVs with bounding box annotations and image metadata (including the image URLs)\n",
    "can be downloaded from the Open Images GitHub repository:\n",
    "https://github.com/openimages/dataset\n",
    "This script will include every image found in the input_images_directory in the\n",
    "output TFRecord, even if the image has no corresponding bounding box annotations\n",
    "in the input_annotations_csv.\n",
    "\"\"\"\n",
    "from __future__ import absolute_import\n",
    "from __future__ import division\n",
    "from __future__ import print_function\n",
    "\n",
    "import os\n",
    "\n",
    "import contextlib2\n",
    "import pandas as pd\n",
    "import tensorflow as tf\n",
    "\n",
    "from object_detection.dataset_tools import oid_tfrecord_creation\n",
    "from object_detection.utils import label_map_util"
   ]
  },
  {
   "cell_type": "code",
   "execution_count": 6,
   "metadata": {},
   "outputs": [],
   "source": [
    "# all_annotations = pd.read_csv('/root/oid_per300_ckpt476120_eval_metrics/metrics.csv', header=None)"
   ]
  },
  {
   "cell_type": "code",
   "execution_count": 36,
   "metadata": {},
   "outputs": [],
   "source": [
    "all_annotations = pd.read_csv('/root/oid_v4_label_map_validation_eval_metrics_modelv4/metrics.csv', names=['class', 'AP@0.5'])"
   ]
  },
  {
   "cell_type": "code",
   "execution_count": 9,
   "metadata": {},
   "outputs": [],
   "source": [
    "# df=all_annotations\n",
    "# df[df['class'].isin(list(ImageID_per300_set))]"
   ]
  },
  {
   "cell_type": "code",
   "execution_count": 37,
   "metadata": {},
   "outputs": [
    {
     "data": {
      "text/html": [
       "<div>\n",
       "<style scoped>\n",
       "    .dataframe tbody tr th:only-of-type {\n",
       "        vertical-align: middle;\n",
       "    }\n",
       "\n",
       "    .dataframe tbody tr th {\n",
       "        vertical-align: top;\n",
       "    }\n",
       "\n",
       "    .dataframe thead th {\n",
       "        text-align: right;\n",
       "    }\n",
       "</style>\n",
       "<table border=\"1\" class=\"dataframe\">\n",
       "  <thead>\n",
       "    <tr style=\"text-align: right;\">\n",
       "      <th></th>\n",
       "      <th>class</th>\n",
       "      <th>AP@0.5</th>\n",
       "    </tr>\n",
       "  </thead>\n",
       "  <tbody>\n",
       "    <tr>\n",
       "      <th>239</th>\n",
       "      <td>OpenImagesV2_PerformanceByCategory/AP@0.5IOU/P...</td>\n",
       "      <td>NaN</td>\n",
       "    </tr>\n",
       "  </tbody>\n",
       "</table>\n",
       "</div>"
      ],
      "text/plain": [
       "                                                 class  AP@0.5\n",
       "239  OpenImagesV2_PerformanceByCategory/AP@0.5IOU/P...     NaN"
      ]
     },
     "execution_count": 37,
     "metadata": {},
     "output_type": "execute_result"
    }
   ],
   "source": [
    "df=all_annotations\n",
    "df[df['class'].str.contains('Parking meter', regex=False)]"
   ]
  },
  {
   "cell_type": "code",
   "execution_count": null,
   "metadata": {},
   "outputs": [],
   "source": [
    "df.iloc[224]['class']"
   ]
  },
  {
   "cell_type": "code",
   "execution_count": null,
   "metadata": {},
   "outputs": [],
   "source": [
    "df=all_annotations\n",
    "df[df['class'].str.contains('Plastic bag', regex=False)]"
   ]
  },
  {
   "cell_type": "code",
   "execution_count": null,
   "metadata": {},
   "outputs": [],
   "source": [
    "df.iloc[202]['class']"
   ]
  },
  {
   "cell_type": "code",
   "execution_count": 11,
   "metadata": {},
   "outputs": [
    {
     "data": {
      "text/html": [
       "<div>\n",
       "<style scoped>\n",
       "    .dataframe tbody tr th:only-of-type {\n",
       "        vertical-align: middle;\n",
       "    }\n",
       "\n",
       "    .dataframe tbody tr th {\n",
       "        vertical-align: top;\n",
       "    }\n",
       "\n",
       "    .dataframe thead th {\n",
       "        text-align: right;\n",
       "    }\n",
       "</style>\n",
       "<table border=\"1\" class=\"dataframe\">\n",
       "  <thead>\n",
       "    <tr style=\"text-align: right;\">\n",
       "      <th></th>\n",
       "      <th>class</th>\n",
       "      <th>AP@0.5</th>\n",
       "    </tr>\n",
       "  </thead>\n",
       "  <tbody>\n",
       "    <tr>\n",
       "      <th>218</th>\n",
       "      <td>OpenImagesV2_PerformanceByCategory/AP@0.5IOU/C...</td>\n",
       "      <td>NaN</td>\n",
       "    </tr>\n",
       "  </tbody>\n",
       "</table>\n",
       "</div>"
      ],
      "text/plain": [
       "                                                 class  AP@0.5\n",
       "218  OpenImagesV2_PerformanceByCategory/AP@0.5IOU/C...     NaN"
      ]
     },
     "execution_count": 11,
     "metadata": {},
     "output_type": "execute_result"
    }
   ],
   "source": [
    "df=all_annotations\n",
    "df[df['class'].str.contains('Coconut', regex=False)]"
   ]
  },
  {
   "cell_type": "code",
   "execution_count": 20,
   "metadata": {},
   "outputs": [
    {
     "data": {
      "text/plain": [
       "nan"
      ]
     },
     "execution_count": 20,
     "metadata": {},
     "output_type": "execute_result"
    }
   ],
   "source": [
    "df[df['class'].str.contains('Coconut', regex=False)].iloc[0]['AP@0.5']"
   ]
  },
  {
   "cell_type": "code",
   "execution_count": 12,
   "metadata": {},
   "outputs": [],
   "source": [
    "filtered_df = df[df['AP@0.5'].notnull()]['AP@0.5']\n",
    "\n"
   ]
  },
  {
   "cell_type": "code",
   "execution_count": 13,
   "metadata": {},
   "outputs": [
    {
     "data": {
      "text/plain": [
       "0.43269935664028225"
      ]
     },
     "execution_count": 13,
     "metadata": {},
     "output_type": "execute_result"
    }
   ],
   "source": [
    "filtered_df.mean()"
   ]
  },
  {
   "cell_type": "code",
   "execution_count": null,
   "metadata": {},
   "outputs": [],
   "source": [
    "df[df['AP@0.5'].isnull()]"
   ]
  },
  {
   "cell_type": "code",
   "execution_count": 23,
   "metadata": {},
   "outputs": [
    {
     "name": "stdout",
     "output_type": "stream",
     "text": [
      "afd11,dfdf33\n"
     ]
    }
   ],
   "source": [
    "print(\"afd{},dfdf{}\".format(11,33))"
   ]
  },
  {
   "cell_type": "code",
   "execution_count": 24,
   "metadata": {},
   "outputs": [],
   "source": [
    "import json\n",
    "import sys\n"
   ]
  },
  {
   "cell_type": "code",
   "execution_count": 34,
   "metadata": {},
   "outputs": [
    {
     "name": "stdout",
     "output_type": "stream",
     "text": [
      "Eval for /root/oid_bbox_trainable_label_map_validation_eval_metrics_faster_rcnn_inception_resnet_v2_atrous_oid/metrics.csv\n",
      "mAP@0.5: 0.00105359674273\n",
      "Saving to: /root/oid_bbox_trainable_label_map_validation_eval_metrics_faster_rcnn_inception_resnet_v2_atrous_oid/metrics.json\n"
     ]
    }
   ],
   "source": [
    "metric_dir = '/root/oid_bbox_trainable_label_map_validation_eval_metrics_faster_rcnn_inception_resnet_v2_atrous_oid'\n",
    "# metric_output = sys.argv[2]\n",
    "\n",
    "\n",
    "df = pd.read_csv(os.path.join(metric_dir ,'metrics.csv'), names=['class', 'AP@0.5'])\n",
    "\n",
    "filtered_df = df[df['AP@0.5'].notnull()]['AP@0.5']\n",
    "mAP_dict = {}\n",
    "mAP_dict['mAP'] = filtered_df.mean()\n",
    "# mAP_dict['Coconut'] = df[df['class'].str.contains('Coconut', regex=False)].iloc[0]['AP@0.5']\n",
    "# mAP_dict['Parking meter'] = df[df['class'].str.contains('Parking', regex=False)].iloc[0]['AP@0.5']\n",
    "mAP_dict['metric_path'] = os.path.join(metric_dir ,'metrics.csv')\n",
    "\n",
    "##display\n",
    "print(\"Eval for {}\".format(mAP_dict['metric_path']))\n",
    "print(\"mAP@0.5: {}\".format(mAP_dict['mAP']))\n",
    "# print(\"Coconut AP@0.5: {}\".format(mAP_dict['Coconut']))\n",
    "# print(\"Parking meter AP@0.5: {}\".format(mAP_dict['Parking meter']))\n",
    "print(\"Saving to: {}\".format(os.path.join(metric_dir ,'metrics.json')))\n"
   ]
  },
  {
   "cell_type": "code",
   "execution_count": 31,
   "metadata": {},
   "outputs": [
    {
     "data": {
      "text/plain": [
       "0"
      ]
     },
     "execution_count": 31,
     "metadata": {},
     "output_type": "execute_result"
    }
   ],
   "source": [
    "len(df[df['class'].str.contains('Coconut', regex=False)])"
   ]
  },
  {
   "cell_type": "code",
   "execution_count": 32,
   "metadata": {},
   "outputs": [],
   "source": [
    "query_df = df[df['class'].str.contains('Coconut', regex=False)]\n",
    "if len(query_df) > 0:\n",
    "    mAP_dict['Coconut'] = query_df.iloc[0]['AP@0.5']\n",
    "else:\n",
    "    mAP_dict['Coconut'] = 'NOT EXIST'\n",
    "query_df = df[df['class'].str.contains('Parking meter', regex=False)]\n",
    "if len(query_df) > 0:\n",
    "    mAP_dict['Parking meter'] = query_df.iloc[0]['AP@0.5']\n",
    "else:\n",
    "    mAP_dict['Parking meter'] = 'NOT EXIST'"
   ]
  },
  {
   "cell_type": "code",
   "execution_count": 33,
   "metadata": {},
   "outputs": [
    {
     "data": {
      "text/plain": [
       "{'Coconut': 'NOT EXIST',\n",
       " 'Parking meter': 'NOT EXIST',\n",
       " 'mAP': 0.0010535967427278612,\n",
       " 'metric_path': '/root/oid_bbox_trainable_label_map_validation_eval_metrics_faster_rcnn_inception_resnet_v2_atrous_oid/metrics.csv'}"
      ]
     },
     "execution_count": 33,
     "metadata": {},
     "output_type": "execute_result"
    }
   ],
   "source": [
    "mAP_dict"
   ]
  },
  {
   "cell_type": "code",
   "execution_count": null,
   "metadata": {},
   "outputs": [],
   "source": []
  }
 ],
 "metadata": {
  "kernelspec": {
   "display_name": "Python 2",
   "language": "python",
   "name": "python2"
  },
  "language_info": {
   "codemirror_mode": {
    "name": "ipython",
    "version": 2
   },
   "file_extension": ".py",
   "mimetype": "text/x-python",
   "name": "python",
   "nbconvert_exporter": "python",
   "pygments_lexer": "ipython2",
   "version": "2.7.12"
  }
 },
 "nbformat": 4,
 "nbformat_minor": 2
}
