{
 "cells": [
  {
   "cell_type": "code",
   "execution_count": null,
   "metadata": {},
   "outputs": [],
   "source": [
    "\"\"\"Example usage:\n",
    "  python object_detection/dataset_tools/create_oid_tf_record.py \\\n",
    "    --input_annotations_csv=/path/to/input/annotations-human-bbox.csv \\\n",
    "    --input_images_directory=/path/to/input/image_pixels_directory \\\n",
    "    --input_label_map=/path/to/input/labels_bbox_545.labelmap \\\n",
    "    --output_tf_record_path_prefix=/path/to/output/prefix.tfrecord\n",
    "CSVs with bounding box annotations and image metadata (including the image URLs)\n",
    "can be downloaded from the Open Images GitHub repository:\n",
    "https://github.com/openimages/dataset\n",
    "This script will include every image found in the input_images_directory in the\n",
    "output TFRecord, even if the image has no corresponding bounding box annotations\n",
    "in the input_annotations_csv.\n",
    "\"\"\"\n",
    "from __future__ import absolute_import\n",
    "from __future__ import division\n",
    "from __future__ import print_function\n",
    "\n",
    "import os\n",
    "\n",
    "import contextlib2\n",
    "import pandas as pd\n",
    "import tensorflow as tf\n",
    "\n",
    "from object_detection.dataset_tools import oid_tfrecord_creation\n",
    "from object_detection.utils import label_map_util"
   ]
  },
  {
   "cell_type": "code",
   "execution_count": null,
   "metadata": {},
   "outputs": [],
   "source": [
    "all_annotations = pd.read_csv('/root/oid_per300_ckpt476120_eval_metrics/metrics.csv', header=None)\n",
    "\n",
    "\n"
   ]
  },
  {
   "cell_type": "code",
   "execution_count": null,
   "metadata": {},
   "outputs": [],
   "source": [
    "all_annotations = pd.read_csv('/root/oid_per300_ckpt476120_eval_metrics/metrics.csv', names=['class', 'AP@0.5'])\n",
    "\n",
    "\n",
    "\n"
   ]
  },
  {
   "cell_type": "code",
   "execution_count": null,
   "metadata": {},
   "outputs": [],
   "source": [
    "df=all_annotations\n",
    "df[df['class'].isin(list(ImageID_per300_set))]"
   ]
  },
  {
   "cell_type": "code",
   "execution_count": null,
   "metadata": {},
   "outputs": [],
   "source": [
    "df=all_annotations\n",
    "df[df['class'].str.contains('meter', regex=False)]"
   ]
  },
  {
   "cell_type": "code",
   "execution_count": null,
   "metadata": {},
   "outputs": [],
   "source": [
    "df.iloc[224]['class']"
   ]
  },
  {
   "cell_type": "code",
   "execution_count": null,
   "metadata": {},
   "outputs": [],
   "source": [
    "df=all_annotations\n",
    "df[df['class'].str.contains('Plastic bag', regex=False)]"
   ]
  },
  {
   "cell_type": "code",
   "execution_count": null,
   "metadata": {},
   "outputs": [],
   "source": [
    "df.iloc[202]['class']"
   ]
  },
  {
   "cell_type": "code",
   "execution_count": null,
   "metadata": {},
   "outputs": [],
   "source": [
    "df=all_annotations\n",
    "df[df['class'].str.contains('Coconut', regex=False)]"
   ]
  },
  {
   "cell_type": "code",
   "execution_count": null,
   "metadata": {},
   "outputs": [],
   "source": [
    "filtered_df = df[df['AP@0.5'].notnull()]['AP@0.5']\n",
    "\n"
   ]
  },
  {
   "cell_type": "code",
   "execution_count": null,
   "metadata": {},
   "outputs": [],
   "source": [
    "filtered_df.mean()"
   ]
  },
  {
   "cell_type": "code",
   "execution_count": null,
   "metadata": {},
   "outputs": [],
   "source": [
    "df[df['AP@0.5'].isnull()]"
   ]
  }
 ],
 "metadata": {
  "kernelspec": {
   "display_name": "Python 2",
   "language": "python",
   "name": "python2"
  },
  "language_info": {
   "codemirror_mode": {
    "name": "ipython",
    "version": 2
   },
   "file_extension": ".py",
   "mimetype": "text/x-python",
   "name": "python",
   "nbconvert_exporter": "python",
   "pygments_lexer": "ipython2",
   "version": "2.7.12"
  }
 },
 "nbformat": 4,
 "nbformat_minor": 2
}
