{
 "cells": [
  {
   "cell_type": "code",
   "execution_count": 16,
   "metadata": {},
   "outputs": [],
   "source": [
    "import csv\n",
    "import os\n",
    "import re\n",
    "import tensorflow as tf\n",
    "\n",
    "from object_detection import evaluator\n",
    "from object_detection.core import standard_fields\n",
    "from object_detection.metrics import tf_example_parser\n",
    "from object_detection.utils import config_util\n",
    "from object_detection.utils import label_map_util\n",
    "\n",
    "import numpy as np\n",
    "# flags = tf.app.flags\n",
    "# tf.logging.set_verbosity(tf.logging.INFO)\n",
    "\n",
    "# flags.DEFINE_string('eval_dir', None, 'Directory to write eval summaries to.')\n",
    "# flags.DEFINE_string('eval_config_path', None,\n",
    "#                     'Path to an eval_pb2.EvalConfig config file.')\n",
    "# flags.DEFINE_string('input_config_path', None,\n",
    "#                     'Path to an eval_pb2.InputConfig config file.')\n",
    "\n",
    "# FLAGS = flags.FLAGS\n",
    "import cv2\n",
    "from utils import visualization_utils as vis_util\n",
    "from matplotlib import pyplot as plt\n",
    "%matplotlib inline\n",
    "\n"
   ]
  },
  {
   "cell_type": "code",
   "execution_count": 107,
   "metadata": {},
   "outputs": [],
   "source": [
    "PATH_TO_LABELS = os.path.join('/root/models/research/object_detection/data', 'oid_bbox_trainable_label_map_add2.pbtxt')\n",
    "NUM_CLASSES = 547\n",
    "label_map = label_map_util.load_labelmap(PATH_TO_LABELS)\n",
    "categories = label_map_util.convert_label_map_to_categories(label_map, max_num_classes=NUM_CLASSES, use_display_name=True)\n",
    "category_index = label_map_util.create_category_index(categories)"
   ]
  },
  {
   "cell_type": "code",
   "execution_count": 2,
   "metadata": {},
   "outputs": [],
   "source": [
    "def _generate_filenames(filenames):\n",
    "  result = []\n",
    "  for filename in filenames:\n",
    "    result += _generate_sharded_filenames(filename)\n",
    "  return result"
   ]
  },
  {
   "cell_type": "code",
   "execution_count": 3,
   "metadata": {},
   "outputs": [],
   "source": [
    "def _generate_sharded_filenames(filename):\n",
    "  m = re.search(r'@(\\d{1,})', filename)\n",
    "  if m:\n",
    "    num_shards = int(m.group(1))\n",
    "    return [\n",
    "        re.sub(r'@(\\d{1,})', '-%.5d-of-%.5d' % (i, num_shards), filename)\n",
    "        for i in range(num_shards)\n",
    "    ]\n",
    "  else:\n",
    "    return [filename]"
   ]
  },
  {
   "cell_type": "code",
   "execution_count": 4,
   "metadata": {},
   "outputs": [],
   "source": [
    "  # new format, train_out_547_1GPU1batch_lrPet, all test data \n",
    "  required_flags = ['input_config_path', 'eval_config_path', 'eval_dir']\n",
    "#   for flag_name in required_flags:\n",
    "#     if not getattr(FLAGS, flag_name):\n",
    "#       raise ValueError('Flag --{} is required'.format(flag_name))\n",
    "\n",
    "  configs = config_util.get_configs_from_multiple_files(\n",
    "      eval_input_config_path='/root/oid_bbox_trainable_label_map_add2_test_eval_metrics_train_out_547_1GPU1batch_lrPet_frozen_697960_annotations-human-bbox/test_input_config.pbtxt',\n",
    "      eval_config_path='/root/oid_bbox_trainable_label_map_add2_test_eval_metrics_train_out_547_1GPU1batch_lrPet_frozen_697960_annotations-human-bbox/test_eval_config.pbtxt')\n",
    "\n",
    "  eval_config = configs['eval_config']\n",
    "  input_config = configs['eval_input_config']"
   ]
  },
  {
   "cell_type": "code",
   "execution_count": 5,
   "metadata": {},
   "outputs": [],
   "source": [
    "  if input_config.WhichOneof('input_reader') == 'tf_record_input_reader':\n",
    "    input_paths = input_config.tf_record_input_reader.input_path\n",
    "\n",
    "    label_map = label_map_util.load_labelmap(input_config.label_map_path)\n",
    "    max_num_classes = max([item.id for item in label_map.item])\n",
    "    categories = label_map_util.convert_label_map_to_categories(\n",
    "        label_map, max_num_classes)\n",
    "\n",
    "    object_detection_evaluators = evaluator.get_evaluators(\n",
    "        eval_config, categories)\n",
    "    # Support a single evaluator\n",
    "    object_detection_evaluator = object_detection_evaluators[0]\n",
    "\n",
    "    skipped_images = 0\n",
    "    processed_images = 0"
   ]
  },
  {
   "cell_type": "code",
   "execution_count": 7,
   "metadata": {},
   "outputs": [
    {
     "name": "stdout",
     "output_type": "stream",
     "text": [
      "INFO:tensorflow:Processing file: /root/oid_bbox_trainable_label_map_add2_train_out_547_1GPU1batch_lrPet_frozen_697960_test_annotations-human-bbox_detections.tfrecord-00000-of-00001\n",
      "INFO:tensorflow:Processed 10 images...\n",
      "INFO:tensorflow:Processed 1010 images...\n",
      "INFO:tensorflow:Processed 2010 images...\n",
      "INFO:tensorflow:Processed 3010 images...\n",
      "INFO:tensorflow:Processed 4010 images...\n",
      "INFO:tensorflow:Processed 5010 images...\n",
      "INFO:tensorflow:Processed 6010 images...\n",
      "INFO:tensorflow:Processed 7010 images...\n",
      "INFO:tensorflow:Processed 8010 images...\n",
      "INFO:tensorflow:Processed 9010 images...\n",
      "INFO:tensorflow:Processed 10010 images...\n",
      "INFO:tensorflow:Processed 11010 images...\n",
      "INFO:tensorflow:Processed 12010 images...\n",
      "INFO:tensorflow:Processed 13010 images...\n",
      "INFO:tensorflow:Processed 14010 images...\n",
      "INFO:tensorflow:Processed 15010 images...\n",
      "INFO:tensorflow:Processed 16010 images...\n",
      "INFO:tensorflow:Processed 17010 images...\n",
      "INFO:tensorflow:Processed 18010 images...\n",
      "INFO:tensorflow:Processed 19010 images...\n",
      "INFO:tensorflow:Processed 20010 images...\n",
      "INFO:tensorflow:Processed 21010 images...\n",
      "INFO:tensorflow:Processed 22010 images...\n",
      "INFO:tensorflow:Processed 23010 images...\n",
      "INFO:tensorflow:Processed 24010 images...\n",
      "INFO:tensorflow:Processed 25010 images...\n",
      "INFO:tensorflow:Processed 26010 images...\n",
      "INFO:tensorflow:Processed 27010 images...\n",
      "INFO:tensorflow:Processed 28010 images...\n",
      "INFO:tensorflow:Processed 29010 images...\n",
      "INFO:tensorflow:Processed 30010 images...\n",
      "INFO:tensorflow:Processed 31010 images...\n",
      "INFO:tensorflow:Processed 32010 images...\n",
      "INFO:tensorflow:Processed 33010 images...\n",
      "INFO:tensorflow:Processed 34010 images...\n",
      "INFO:tensorflow:Processed 35010 images...\n",
      "INFO:tensorflow:Processed 36010 images...\n",
      "INFO:tensorflow:Processed 37010 images...\n",
      "INFO:tensorflow:Processed 38010 images...\n",
      "INFO:tensorflow:Processed 39010 images...\n",
      "INFO:tensorflow:Processed 40010 images...\n",
      "INFO:tensorflow:Processed 41010 images...\n",
      "INFO:tensorflow:Processed 42010 images...\n",
      "INFO:tensorflow:Processed 43010 images...\n",
      "INFO:tensorflow:Processed 44010 images...\n",
      "INFO:tensorflow:Processed 45010 images...\n",
      "INFO:tensorflow:Processed 46010 images...\n",
      "INFO:tensorflow:Processed 47010 images...\n",
      "INFO:tensorflow:Processed 48010 images...\n",
      "INFO:tensorflow:Processed 49010 images...\n",
      "INFO:tensorflow:Processed 50010 images...\n",
      "INFO:tensorflow:Processed 51010 images...\n",
      "INFO:tensorflow:Processed 52010 images...\n",
      "INFO:tensorflow:Processed 53010 images...\n",
      "INFO:tensorflow:Processed 54010 images...\n",
      "INFO:tensorflow:Processed 55010 images...\n",
      "INFO:tensorflow:Processed 56010 images...\n",
      "INFO:tensorflow:Processed 57010 images...\n",
      "INFO:tensorflow:Processed 58010 images...\n",
      "INFO:tensorflow:Processed 59010 images...\n",
      "INFO:tensorflow:Processed 60010 images...\n",
      "INFO:tensorflow:Processed 61010 images...\n",
      "INFO:tensorflow:Processed 62010 images...\n",
      "INFO:tensorflow:Processed 63010 images...\n",
      "INFO:tensorflow:Processed 64010 images...\n",
      "INFO:tensorflow:Processed 65010 images...\n",
      "INFO:tensorflow:Processed 66010 images...\n",
      "INFO:tensorflow:Processed 67010 images...\n",
      "INFO:tensorflow:Processed 68010 images...\n",
      "INFO:tensorflow:Processed 69010 images...\n",
      "INFO:tensorflow:Processed 70010 images...\n",
      "INFO:tensorflow:Processed 71010 images...\n",
      "INFO:tensorflow:Processed 72010 images...\n",
      "INFO:tensorflow:Processed 73010 images...\n",
      "INFO:tensorflow:Processed 74010 images...\n",
      "INFO:tensorflow:Processed 75010 images...\n",
      "INFO:tensorflow:Processed 76010 images...\n",
      "INFO:tensorflow:Processed 77010 images...\n",
      "INFO:tensorflow:Processed 78010 images...\n",
      "INFO:tensorflow:Processed 79010 images...\n",
      "INFO:tensorflow:Processed 80010 images...\n",
      "INFO:tensorflow:Processed 81010 images...\n",
      "INFO:tensorflow:Processed 82010 images...\n",
      "INFO:tensorflow:Processed 83010 images...\n",
      "INFO:tensorflow:Processed 84010 images...\n",
      "INFO:tensorflow:Processed 85010 images...\n",
      "INFO:tensorflow:Processed 86010 images...\n",
      "INFO:tensorflow:Processed 87010 images...\n",
      "INFO:tensorflow:Processed 88010 images...\n",
      "INFO:tensorflow:Processed 89010 images...\n",
      "INFO:tensorflow:Processed 90010 images...\n",
      "INFO:tensorflow:Processed 91010 images...\n",
      "INFO:tensorflow:Processed 92010 images...\n",
      "INFO:tensorflow:Processed 93010 images...\n",
      "INFO:tensorflow:Processed 94010 images...\n",
      "INFO:tensorflow:Processed 95010 images...\n",
      "INFO:tensorflow:Processed 96010 images...\n",
      "INFO:tensorflow:Processed 97010 images...\n",
      "INFO:tensorflow:Processed 98010 images...\n",
      "INFO:tensorflow:Processed 99010 images...\n",
      "INFO:tensorflow:Processed 100010 images...\n",
      "INFO:tensorflow:Processed 101010 images...\n",
      "INFO:tensorflow:Processed 102010 images...\n",
      "INFO:tensorflow:Processed 103010 images...\n",
      "INFO:tensorflow:Processed 104010 images...\n",
      "INFO:tensorflow:Processed 105010 images...\n",
      "INFO:tensorflow:Processed 106010 images...\n",
      "INFO:tensorflow:Processed 107010 images...\n",
      "INFO:tensorflow:Processed 108010 images...\n",
      "108169\n"
     ]
    }
   ],
   "source": [
    "    infer_dict = {}\n",
    "    for input_path in _generate_filenames(input_paths):\n",
    "      tf.logging.info('Processing file: {0}'.format(input_path))\n",
    "\n",
    "      record_iterator = tf.python_io.tf_record_iterator(path=input_path)\n",
    "      data_parser = tf_example_parser.TfExampleDetectionAndGTParser()\n",
    "\n",
    "      for string_record in record_iterator:\n",
    "        tf.logging.log_every_n(tf.logging.INFO, 'Processed %d images...', 1000,\n",
    "                               processed_images)\n",
    "        processed_images += 1\n",
    "\n",
    "        example = tf.train.Example()\n",
    "        example.ParseFromString(string_record)\n",
    "        decoded_dict = data_parser.parse(example)\n",
    "#         print(decoded_dict)\n",
    "        if True:\n",
    "#             decoded_dict['detection_classes'][0] = 15\n",
    "            if decoded_dict:\n",
    "                infer_dict[decoded_dict[standard_fields.DetectionResultFields.key]]= \\\n",
    "                    decoded_dict\n",
    "#               object_detection_evaluator.add_single_ground_truth_image_info(\n",
    "#                   decoded_dict[standard_fields.DetectionResultFields.key],\n",
    "#                   decoded_dict)\n",
    "#               object_detection_evaluator.add_single_detected_image_info(\n",
    "#                   decoded_dict[standard_fields.DetectionResultFields.key],\n",
    "#                   decoded_dict)\n",
    "            else:\n",
    "              skipped_images += 1\n",
    "              tf.logging.info('Skipped images: {0}'.format(skipped_images))\n",
    "#             break\n",
    "          \n",
    "        else:\n",
    "            continue\n",
    "#         if processed_images == 10:\n",
    "#           break\n",
    "print(processed_images)\n",
    "\n",
    "\n"
   ]
  },
  {
   "cell_type": "code",
   "execution_count": 8,
   "metadata": {},
   "outputs": [
    {
     "name": "stderr",
     "output_type": "stream",
     "text": [
      "/usr/local/lib/python2.7/dist-packages/ipykernel_launcher.py:59: RuntimeWarning: Mean of empty slice\n",
      "/usr/local/lib/python2.7/dist-packages/ipykernel_launcher.py:61: RuntimeWarning: Mean of empty slice\n"
     ]
    }
   ],
   "source": [
    "## th 0 - 1.0\n",
    "# threshold = 0.2\n",
    "thresholds = np.linspace(0.0, 1.0, num=11)\n",
    "precision_per_th = []\n",
    "recall_per_th = []\n",
    "fscore_per_th = []\n",
    "\n",
    "for idx, threshold in enumerate(thresholds):\n",
    "\n",
    "    gt_num_per_class = np.zeros(object_detection_evaluator._evaluation.num_class+1 )#ignore index = 0\n",
    "    det_num_per_class = np.zeros(object_detection_evaluator._evaluation.num_class+1 )#ignore index = 0\n",
    "    tp_num_per_class = np.zeros(object_detection_evaluator._evaluation.num_class+1 )#ignore index = 0\n",
    "    fp_num_per_class = np.zeros(object_detection_evaluator._evaluation.num_class+1 )#ignore index = 0\n",
    "\n",
    "\n",
    "    for image, decoded_dict in infer_dict.items():\n",
    "        gt_classes_set = set()\n",
    "        for groundtruth_classes in decoded_dict['groundtruth_classes']:\n",
    "            gt_classes_set.add(groundtruth_classes)\n",
    "        for groundtruth_classes in gt_classes_set:\n",
    "            gt_num_per_class[groundtruth_classes] += 1\n",
    "\n",
    "\n",
    "    for image, decoded_dict in infer_dict.items():\n",
    "        index_threshold = np.where(decoded_dict['detection_scores'] >= threshold)\n",
    "        detection_classes_set = set()\n",
    "        for detection_classes in decoded_dict['detection_classes'][index_threshold]:\n",
    "            detection_classes_set.add(detection_classes)\n",
    "        for detection_classes in detection_classes_set:\n",
    "            if detection_classes in decoded_dict['groundtruth_classes']:\n",
    "                tp_num_per_class[detection_classes] += 1\n",
    "            else:\n",
    "                fp_num_per_class[detection_classes] += 1\n",
    "            det_num_per_class[detection_classes] += 1\n",
    "\n",
    "\n",
    "    precision_per_class = np.zeros(object_detection_evaluator._evaluation.num_class+1 )#ignore index = 0\n",
    "    recall_per_class = np.zeros(object_detection_evaluator._evaluation.num_class+1 )#ignore index = 0\n",
    "\n",
    "    for idx, det in enumerate(det_num_per_class):\n",
    "        if det == 0:\n",
    "            precision_per_class[idx] = np.nan\n",
    "        else:\n",
    "            precision_per_class[idx] = tp_num_per_class[idx] / det\n",
    "\n",
    "    for idx, det in enumerate(gt_num_per_class):\n",
    "        if det == 0:\n",
    "            recall_per_class[idx] = np.nan\n",
    "        else:\n",
    "            recall_per_class[idx] = tp_num_per_class[idx] / det\n",
    "\n",
    "    fscore_per_class = np.zeros(object_detection_evaluator._evaluation.num_class+1 )#ignore index = 0\n",
    "    for idx, fscore in enumerate(fscore_per_class):\n",
    "        if precision_per_class[idx] == 0 and recall_per_class[idx] == 0:\n",
    "            fscore_per_class[idx] = 0\n",
    "        else :\n",
    "            fscore_per_class[idx] = 2.0/(precision_per_class[idx] + recall_per_class[idx])*precision_per_class[idx]*recall_per_class[idx]\n",
    "\n",
    "    precision_per_th.append(np.nanmean(precision_per_class))\n",
    "    recall_per_th.append(np.nanmean(recall_per_class))\n",
    "    fscore_per_th.append(np.nanmean(fscore_per_class))\n",
    "    \n"
   ]
  },
  {
   "cell_type": "code",
   "execution_count": 9,
   "metadata": {},
   "outputs": [
    {
     "data": {
      "text/plain": [
       "[0.050069938167170314,\n",
       " 0.24939399208971888,\n",
       " 0.3290305762488304,\n",
       " 0.3879310183092538,\n",
       " 0.4414531362512061,\n",
       " 0.49039468019181165,\n",
       " 0.5427926885556201,\n",
       " 0.5907752607497697,\n",
       " 0.6539410167997285,\n",
       " 0.7506911335151922,\n",
       " nan]"
      ]
     },
     "execution_count": 9,
     "metadata": {},
     "output_type": "execute_result"
    }
   ],
   "source": [
    "precision_per_th"
   ]
  },
  {
   "cell_type": "code",
   "execution_count": 10,
   "metadata": {},
   "outputs": [],
   "source": [
    "precision_per_th[-1] = 1"
   ]
  },
  {
   "cell_type": "code",
   "execution_count": 11,
   "metadata": {},
   "outputs": [
    {
     "data": {
      "text/plain": [
       "[0.978271374678879,\n",
       " 0.8751691580054135,\n",
       " 0.8103461352093065,\n",
       " 0.7532346940588762,\n",
       " 0.6997962076205048,\n",
       " 0.6456939910486823,\n",
       " 0.5899710846434647,\n",
       " 0.5258750701528474,\n",
       " 0.4528139539864711,\n",
       " 0.3509684569650623,\n",
       " 0.0]"
      ]
     },
     "execution_count": 11,
     "metadata": {},
     "output_type": "execute_result"
    }
   ],
   "source": [
    "recall_per_th"
   ]
  },
  {
   "cell_type": "code",
   "execution_count": 12,
   "metadata": {},
   "outputs": [
    {
     "data": {
      "text/plain": [
       "[0.0875372466334172,\n",
       " 0.35338289488935015,\n",
       " 0.4253990563594993,\n",
       " 0.46516131746048167,\n",
       " 0.4874327103572455,\n",
       " 0.49801489231907986,\n",
       " 0.5021881283293139,\n",
       " 0.49420613076846437,\n",
       " 0.48171222568401517,\n",
       " 0.4606441715834243,\n",
       " nan]"
      ]
     },
     "execution_count": 12,
     "metadata": {},
     "output_type": "execute_result"
    }
   ],
   "source": [
    "fscore_per_th"
   ]
  },
  {
   "cell_type": "code",
   "execution_count": 34,
   "metadata": {},
   "outputs": [
    {
     "data": {
      "image/png": "[encoded data removed]",
      "text/plain": [
       "<Figure size 432x288 with 1 Axes>"
      ]
     },
     "metadata": {
      "needs_background": "light"
     },
     "output_type": "display_data"
    }
   ],
   "source": [
    "x=precision_per_th\n",
    "y=recall_per_th\n",
    "plt.xlim(0, 1.0);\n",
    "plt.ylim(0, 1.0);\n",
    "# IMAGE_SIZE = (12, 8)\n",
    "# plt.figure(figsize=IMAGE_SIZE)\n",
    "\n",
    "# plt.figure(figsize=IMAGE_SIZE, dpi=80)\n",
    "\n",
    "plt.plot(x, y, '-ob');\n",
    "plt.savefig('/root/PR_100test.png', transparent=False, dpi = 300)\n",
    "\n"
   ]
  },
  {
   "cell_type": "code",
   "execution_count": 35,
   "metadata": {},
   "outputs": [
    {
     "data": {
      "text/plain": [
       "0.5423760011211842"
      ]
     },
     "execution_count": 35,
     "metadata": {},
     "output_type": "execute_result"
    }
   ],
   "source": [
    "from sklearn.metrics import roc_curve, auc\n",
    "\n",
    "auc(x,y)"
   ]
  },
  {
   "cell_type": "code",
   "execution_count": 53,
   "metadata": {},
   "outputs": [],
   "source": []
  },
  {
   "cell_type": "code",
   "execution_count": 59,
   "metadata": {},
   "outputs": [
    {
     "name": "stdout",
     "output_type": "stream",
     "text": [
      "0.5919019638252115\n"
     ]
    },
    {
     "data": {
      "image/png": "[encoded data removed]",
      "text/plain": [
       "<Figure size 432x288 with 1 Axes>"
      ]
     },
     "metadata": {
      "needs_background": "light"
     },
     "output_type": "display_data"
    }
   ],
   "source": [
    "from sklearn.metrics import roc_curve, auc\n",
    "xx = x[:]\n",
    "yy = y[:]\n",
    "xx.insert(0,0)\n",
    "yy.insert(0,1)\n",
    "print(auc(xx,yy))\n",
    "\n",
    "plt.xlim(0, 1.0);\n",
    "plt.ylim(0, 1.0);\n",
    "plt.plot(xx, yy, '-ob');\n",
    "plt.savefig('/root/PR_100test2.png', transparent=False, dpi = 300)\n",
    "\n",
    "# simcloud -c mr2 job scp -r   $DID:~/PR_100test2.png ~/openimage\n"
   ]
  },
  {
   "cell_type": "code",
   "execution_count": 66,
   "metadata": {},
   "outputs": [
    {
     "name": "stdout",
     "output_type": "stream",
     "text": [
      "0.5919019638252115\n"
     ]
    },
    {
     "data": {
      "image/png": "[encoded data removed]",
      "text/plain": [
       "<Figure size 432x288 with 1 Axes>"
      ]
     },
     "metadata": {
      "needs_background": "light"
     },
     "output_type": "display_data"
    }
   ],
   "source": [
    "from sklearn.metrics import roc_curve, auc\n",
    "xx = x[:]\n",
    "yy = y[:]\n",
    "xx.insert(0,0)\n",
    "yy.insert(0,1)\n",
    "print(auc(xx,yy))\n",
    "\n",
    "plt.xlim(0, 1.0);\n",
    "plt.ylim(0, 1.0);\n",
    "plt.plot(xx, yy, '-ob', x, fscore_per_th,'xr');\n",
    "# plt.savefig('/root/PR_100test2.png', transparent=False, dpi = 300)\n",
    "\n",
    "# simcloud -c mr2 job scp -r   $DID:~/PR_100test2.png ~/openimage\n",
    "\n"
   ]
  },
  {
   "cell_type": "code",
   "execution_count": 72,
   "metadata": {},
   "outputs": [
    {
     "name": "stdout",
     "output_type": "stream",
     "text": [
      "0.5919019638252115\n"
     ]
    },
    {
     "data": {
      "image/png": "[encoded data removed]",
      "text/plain": [
       "<Figure size 432x288 with 1 Axes>"
      ]
     },
     "metadata": {
      "needs_background": "light"
     },
     "output_type": "display_data"
    }
   ],
   "source": [
    "from sklearn.metrics import roc_curve, auc\n",
    "xx = recall_per_th[:]\n",
    "yy = precision_per_th[:]\n",
    "xx.insert(0,1)\n",
    "yy.insert(0,0)\n",
    "print(auc(xx,yy))\n",
    "\n",
    "plt.xlim(0, 1.0);\n",
    "plt.ylim(0, 1.0);\n",
    "plt.plot(xx, yy, '-ob');\n",
    "plt.savefig('/root/PR_100test2.png', transparent=False, dpi = 300)\n",
    "\n",
    "# simcloud -c mr2 job scp -r   $DID:~/PR_100test2.png ~/openimage\n",
    "\n",
    "\n"
   ]
  },
  {
   "cell_type": "code",
   "execution_count": 74,
   "metadata": {},
   "outputs": [
    {
     "name": "stdout",
     "output_type": "stream",
     "text": [
      "0.5919019638252115\n"
     ]
    },
    {
     "data": {
      "image/png": "[encoded data removed]",
      "text/plain": [
       "<Figure size 432x288 with 1 Axes>"
      ]
     },
     "metadata": {
      "needs_background": "light"
     },
     "output_type": "display_data"
    }
   ],
   "source": [
    "from sklearn.metrics import roc_curve, auc\n",
    "xx = recall_per_th[:]\n",
    "yy = precision_per_th[:]\n",
    "xx.insert(0,1)\n",
    "yy.insert(0,0)\n",
    "print(auc(xx,yy))\n",
    "\n",
    "plt.xlim(0, 1.0);\n",
    "plt.ylim(0, 1.0);\n",
    "plt.plot(xx, yy, '-ob', recall_per_th, fscore_per_th,'xr');\n",
    "\n",
    "plt.savefig('/root/PR_100test2_fscore.png', transparent=False, dpi = 300)\n",
    "\n",
    "# simcloud -c mr2 job scp -r   $DID:~/PR_100test2.png ~/openimage\n",
    "\n"
   ]
  },
  {
   "cell_type": "code",
   "execution_count": 75,
   "metadata": {},
   "outputs": [
    {
     "name": "stdout",
     "output_type": "stream",
     "text": [
      "[0.978271374678879, 0.8751691580054135, 0.8103461352093065, 0.7532346940588762, 0.6997962076205048, 0.6456939910486823, 0.5899710846434647, 0.5258750701528474, 0.4528139539864711, 0.3509684569650623, 0.0]\n",
      "[0.050069938167170314, 0.24939399208971888, 0.3290305762488304, 0.3879310183092538, 0.4414531362512061, 0.49039468019181165, 0.5427926885556201, 0.5907752607497697, 0.6539410167997285, 0.7506911335151922, 1]\n",
      "[0.0875372466334172, 0.35338289488935015, 0.4253990563594993, 0.46516131746048167, 0.4874327103572455, 0.49801489231907986, 0.5021881283293139, 0.49420613076846437, 0.48171222568401517, 0.4606441715834243, nan]\n"
     ]
    }
   ],
   "source": [
    "print(recall_per_th)\n",
    "print(precision_per_th)\n",
    "print(fscore_per_th)"
   ]
  },
  {
   "cell_type": "code",
   "execution_count": null,
   "metadata": {},
   "outputs": [],
   "source": []
  },
  {
   "cell_type": "code",
   "execution_count": 93,
   "metadata": {},
   "outputs": [],
   "source": [
    "    threshold = 0.6\n",
    "    gt_num_per_class = np.zeros(object_detection_evaluator._evaluation.num_class+1 )#ignore index = 0\n",
    "    det_num_per_class = np.zeros(object_detection_evaluator._evaluation.num_class+1 )#ignore index = 0\n",
    "    tp_num_per_class = np.zeros(object_detection_evaluator._evaluation.num_class+1 )#ignore index = 0\n",
    "    fp_num_per_class = np.zeros(object_detection_evaluator._evaluation.num_class+1 )#ignore index = 0\n",
    "\n",
    "\n",
    "    for image, decoded_dict in infer_dict.items():\n",
    "        gt_classes_set = set()\n",
    "        for groundtruth_classes in decoded_dict['groundtruth_classes']:\n",
    "            gt_classes_set.add(groundtruth_classes)\n",
    "        for groundtruth_classes in gt_classes_set:\n",
    "            gt_num_per_class[groundtruth_classes] += 1\n",
    "\n",
    "\n",
    "    for image, decoded_dict in infer_dict.items():\n",
    "        index_threshold = np.where(decoded_dict['detection_scores'] >= threshold)\n",
    "        detection_classes_set = set()\n",
    "        for detection_classes in decoded_dict['detection_classes'][index_threshold]:\n",
    "            detection_classes_set.add(detection_classes)\n",
    "        for detection_classes in detection_classes_set:\n",
    "            if detection_classes in decoded_dict['groundtruth_classes']:\n",
    "                tp_num_per_class[detection_classes] += 1\n",
    "            else:\n",
    "                fp_num_per_class[detection_classes] += 1\n",
    "            det_num_per_class[detection_classes] += 1\n",
    "\n",
    "\n",
    "    precision_per_class = np.zeros(object_detection_evaluator._evaluation.num_class+1 )#ignore index = 0\n",
    "    recall_per_class = np.zeros(object_detection_evaluator._evaluation.num_class+1 )#ignore index = 0\n",
    "\n",
    "    for idx, det in enumerate(det_num_per_class):\n",
    "        if det == 0:\n",
    "            precision_per_class[idx] = np.nan\n",
    "        else:\n",
    "            precision_per_class[idx] = tp_num_per_class[idx] / det\n",
    "\n",
    "    for idx, det in enumerate(gt_num_per_class):\n",
    "        if det == 0:\n",
    "            recall_per_class[idx] = np.nan\n",
    "        else:\n",
    "            recall_per_class[idx] = tp_num_per_class[idx] / det\n",
    "\n",
    "    fscore_per_class = np.zeros(object_detection_evaluator._evaluation.num_class+1 )#ignore index = 0\n",
    "    for idx, fscore in enumerate(fscore_per_class):\n",
    "        if precision_per_class[idx] == 0 and recall_per_class[idx] == 0:\n",
    "            fscore_per_class[idx] = 0\n",
    "        else :\n",
    "            fscore_per_class[idx] = 2.0/(precision_per_class[idx] + recall_per_class[idx])*precision_per_class[idx]*recall_per_class[idx]\n",
    "\n",
    "#     precision_per_th.append(np.nanmean(precision_per_class))\n",
    "#     recall_per_th.append(np.nanmean(recall_per_class))\n",
    "#     fscore_per_th.append(np.nanmean(fscore_per_class))\n",
    "    \n",
    "\n"
   ]
  },
  {
   "cell_type": "code",
   "execution_count": 113,
   "metadata": {},
   "outputs": [],
   "source": [
    "det_num_per_class == tp_num_per_class + fp_num_per_class # all true!"
   ]
  },
  {
   "cell_type": "code",
   "execution_count": 94,
   "metadata": {},
   "outputs": [
    {
     "data": {
      "text/plain": [
       "array([       nan, 0.87196468, 0.66016713, 0.78445122, 0.79414975,\n",
       "       0.80162675, 0.73479853, 0.79647218, 0.5       , 0.83129856,\n",
       "       0.55984556, 0.72766416, 0.84732824, 0.13461538, 0.97136733,\n",
       "       0.86824769, 0.79620853, 0.96003308, 0.31707317, 0.64402174,\n",
       "       0.56312057, 0.75786925, 0.66      , 0.62941176, 0.70992366,\n",
       "       0.70557491, 0.3362069 , 0.93177738, 0.        , 0.72110286,\n",
       "       0.9857393 , 0.12681638,        nan, 0.59459459, 0.4       ,\n",
       "       0.66666667, 0.88333333, 0.98830409, 0.74011299, 0.66666667,\n",
       "       0.96547884, 0.14202899, 0.71196755, 0.86324786, 0.55648536,\n",
       "              nan, 0.6557377 ,        nan, 0.67466667, 0.65551839,\n",
       "       0.37777778, 0.655     , 0.40108401, 0.8       , 0.90942029,\n",
       "       0.99115044, 0.43181818, 0.        , 0.50902527, 0.79075426,\n",
       "       0.52808989, 0.5625    , 0.92741935, 0.5       , 0.97142857,\n",
       "       0.15433404, 0.97102273, 0.84      , 0.48880597, 0.3442623 ,\n",
       "       0.97142857, 0.7628866 , 0.62815126, 0.325     , 0.82258065,\n",
       "       0.65178571, 0.90193548, 0.33333333, 0.52333333, 0.63809524,\n",
       "       0.72325581, 0.81904762, 0.58510638, 0.07142857, 0.69148936,\n",
       "       0.37084399, 0.77464789, 0.71698113, 0.51102589, 0.70042194,\n",
       "       0.58064516, 0.528     , 0.44827586, 0.62095238, 0.37912088,\n",
       "       0.47887324, 0.45714286, 0.35897436, 0.7029703 , 0.30350195,\n",
       "       0.950783  , 0.48865979, 0.25273834, 0.44444444, 0.16666667,\n",
       "       0.61904762, 0.68981481, 0.40794702, 0.92307692, 0.65771812,\n",
       "       0.6146789 , 0.96039604, 0.63814181, 0.84415584, 0.35121951,\n",
       "       0.8030303 , 0.37106918, 0.25      , 0.79470199, 0.90374332,\n",
       "       0.87352941, 0.59615385, 0.77666667, 0.275     , 0.61594203,\n",
       "       0.83840749, 0.        , 0.30172414, 0.43497758, 0.25      ,\n",
       "       0.53846154, 0.76315789, 0.35087719, 0.38194444, 0.53658537,\n",
       "       0.25531915, 0.85057471, 0.52964427, 0.41071429, 0.6779661 ,\n",
       "       0.84942085, 0.81481481, 0.52280702, 0.2987013 , 0.25471698,\n",
       "       0.34545455, 0.44025157, 0.72820513, 0.78461538, 0.34259259,\n",
       "       0.69465649, 0.42424242, 0.45      , 0.3857868 , 0.41791045,\n",
       "       0.26923077, 0.29602888, 0.65      , 0.77777778, 0.22222222,\n",
       "       0.5       , 0.65      , 0.23529412, 0.70289855, 0.76691729,\n",
       "       0.36756757, 0.75714286, 0.66315789, 0.3862069 , 0.86509636,\n",
       "       0.34782609, 0.55555556, 0.08695652, 0.58974359, 0.83690987,\n",
       "       0.74144487, 0.64117647,        nan, 0.06521739, 0.57272727,\n",
       "       0.41489362, 0.42857143, 0.58015267, 0.27083333, 0.70567376,\n",
       "       0.95      , 0.57142857, 0.18181818, 0.4600639 , 0.83333333,\n",
       "       0.3125    , 0.95811518, 0.71657754, 0.73786408, 0.51552795,\n",
       "       0.79444444, 0.97435897, 0.74468085, 0.78709677, 0.88581315,\n",
       "       0.61904762, 0.36363636, 0.77254902, 0.09895833, 0.4011976 ,\n",
       "       0.70886076, 0.4562212 , 0.578125  , 0.60416667, 0.82926829,\n",
       "       0.61403509, 0.54285714, 0.44874715, 0.66666667, 0.13946588,\n",
       "       0.23875433,        nan, 0.52380952, 0.34831461, 0.28220859,\n",
       "       0.81557377, 0.73282443, 0.68125   , 0.33333333, 0.44295302,\n",
       "       0.8961039 , 0.62251656,        nan, 0.79831933, 0.79187817,\n",
       "       0.32748538, 0.8245614 , 0.60763889, 0.35064935, 0.63432836,\n",
       "       0.46385542, 0.69767442, 0.62643678, 0.70588235, 0.18181818,\n",
       "       0.78378378, 0.95098039, 0.33333333, 0.17334424, 0.58396947,\n",
       "       0.76842105, 0.3245614 , 0.6779661 , 0.5       , 0.88888889,\n",
       "       0.69411765, 0.72435897, 0.22222222, 0.61256545, 0.49221184,\n",
       "       0.71428571, 0.54421769, 0.47887324, 0.56637168, 0.21666667,\n",
       "       0.76818182, 0.60655738, 0.92951542, 0.36470588, 0.58222222,\n",
       "       0.56880734, 0.51801802, 0.7235023 , 0.1053719 ,        nan,\n",
       "       0.79861111, 0.51578947, 0.6       , 0.19230769, 0.55      ,\n",
       "       0.39053254, 0.32363636, 0.89411765, 0.46472019, 0.59322034,\n",
       "       0.65217391, 0.16666667, 0.42465753, 0.31914894, 0.41304348,\n",
       "       0.875     , 0.57042254, 0.82653061, 0.6969697 , 0.36312849,\n",
       "       0.41025641, 0.55279503, 0.39108911, 0.89385475, 0.93103448,\n",
       "       0.796875  , 0.5       , 0.62777778, 0.64285714, 0.62790698,\n",
       "       0.53738318, 0.225     , 0.33333333, 0.31656805, 0.69491525,\n",
       "       0.3372093 , 0.81481481, 0.67924528, 0.88235294, 1.        ,\n",
       "       0.36363636, 0.86419753, 0.51041667, 0.61261261, 0.43093923,\n",
       "       0.52238806, 0.23636364, 0.51851852, 0.49823322, 0.18932039,\n",
       "       0.6344086 , 0.31451613, 0.31496063, 0.89      , 0.41393443,\n",
       "       0.34146341, 0.796875  , 0.44444444, 0.60526316, 0.17346939,\n",
       "       0.48543689, 0.57055215, 0.68292683, 0.93333333, 0.56190476,\n",
       "       0.6122449 , 0.34259259, 0.84328358, 0.48387097, 0.6031746 ,\n",
       "       0.52727273, 0.6       , 0.77777778, 0.53061224, 0.94949495,\n",
       "              nan, 0.80851064, 0.576     , 0.65486726, 0.73076923,\n",
       "       0.77142857, 0.52702703, 0.73076923, 0.3968254 , 0.3964497 ,\n",
       "       0.92307692, 0.5483871 , 0.76470588, 1.        , 0.75925926,\n",
       "       0.1928934 , 0.27118644, 0.64788732, 0.60824742, 0.57142857,\n",
       "       0.4587156 , 0.60674157, 0.58035714, 0.5862069 , 0.65853659,\n",
       "       0.52083333, 0.44444444, 0.54545455, 0.46496815, 0.34146341,\n",
       "       0.55813953, 0.40449438, 0.61038961, 0.66176471, 0.4084507 ,\n",
       "       0.21686747, 0.67021277, 0.59459459, 0.3255814 , 0.26804124,\n",
       "       0.51315789, 0.68965517, 0.15909091, 0.52941176, 0.53125   ,\n",
       "       0.58878505, 0.54455446, 0.54545455, 0.64285714, 0.30769231,\n",
       "       0.46031746, 0.58715596, 0.74418605, 0.53968254, 0.84313725,\n",
       "       0.6185567 , 0.57407407, 0.58083832, 0.3515625 , 0.68085106,\n",
       "       0.66666667, 0.06956522, 0.34831461, 0.70212766, 0.66666667,\n",
       "       0.52173913, 0.71969697, 0.29655172, 0.68627451, 0.32352941,\n",
       "       0.3875    , 0.42372881, 0.61538462, 0.55279503, 0.35114504,\n",
       "       0.37313433, 0.30909091, 0.68831169, 0.74545455, 0.45588235,\n",
       "       0.52380952, 0.64615385, 0.47619048, 0.67      , 0.67857143,\n",
       "       0.14285714, 0.0212766 , 0.83870968, 0.20869565, 0.64705882,\n",
       "       0.61290323, 0.58108108, 0.24      , 0.41176471, 0.42857143,\n",
       "       0.20909091, 0.54545455, 0.42675159, 0.75      , 0.2972973 ,\n",
       "       0.38461538, 0.16470588, 0.57894737, 0.62068966, 0.64864865,\n",
       "       0.5505618 , 0.61702128, 0.40243902, 0.81818182, 0.44117647,\n",
       "       0.09090909, 0.65      , 0.6       , 0.475     , 0.77777778,\n",
       "       0.03418803, 0.33668342, 0.25974026, 0.64772727, 0.5       ,\n",
       "       0.48351648, 0.41176471, 0.39449541, 0.68      , 0.4140625 ,\n",
       "       0.60869565, 0.91304348, 0.59322034, 0.32432432, 0.12643678,\n",
       "       0.36363636, 0.26605505, 0.11392405, 0.60869565, 0.57142857,\n",
       "       0.5       , 0.94736842, 0.32467532, 0.51162791, 0.57954545,\n",
       "       0.46938776, 0.07142857, 0.69512195, 0.42857143, 0.62857143,\n",
       "       0.25      , 0.46315789, 0.03816794, 0.56410256, 0.49450549,\n",
       "       0.34931507, 0.84210526, 0.18085106, 0.66666667, 0.5862069 ,\n",
       "       0.70833333, 0.34677419, 0.32727273, 0.575     , 0.76190476,\n",
       "       0.14285714, 0.8       , 0.95833333, 0.26666667, 0.22580645,\n",
       "       0.57142857, 0.75      , 0.14814815, 0.25      , 0.17647059,\n",
       "       0.24324324, 0.38461538, 0.45454545, 0.45238095, 0.71428571,\n",
       "       0.46666667, 0.4       , 0.16666667,        nan, 0.12      ,\n",
       "       0.53571429, 0.25      , 0.81818182, 0.11764706, 0.14285714,\n",
       "       0.19047619, 0.31147541, 0.91666667, 0.43478261, 0.32432432,\n",
       "       0.08695652, 0.        , 0.10344828, 0.44      , 0.33333333,\n",
       "       0.5       , 0.31578947, 0.42857143,        nan,        nan,\n",
       "       0.2962963 , 0.375     , 0.30232558])"
      ]
     },
     "execution_count": 94,
     "metadata": {},
     "output_type": "execute_result"
    }
   ],
   "source": [
    "precision_per_class"
   ]
  },
  {
   "cell_type": "code",
   "execution_count": 120,
   "metadata": {},
   "outputs": [
    {
     "name": "stdout",
     "output_type": "stream",
     "text": [
      "(array([ 13,  18,  26,  28,  31,  34,  41,  50,  52,  56,  57,  65,  68,\n",
      "        69,  73,  77,  83,  85,  92,  94,  95,  96,  97,  99, 101, 102,\n",
      "       103, 104, 107, 114, 116, 117, 123, 126, 127, 128, 129, 132, 133,\n",
      "       135, 138, 143, 144, 145, 146, 149, 151, 152, 153, 154, 155, 156,\n",
      "       159, 162, 165, 168, 170, 172, 178, 180, 181, 183, 187, 188, 190,\n",
      "       201, 203, 204, 206, 212, 214, 215, 218, 219, 223, 224, 230, 233,\n",
      "       235, 239, 242, 243, 246, 252, 257, 259, 263, 268, 273, 275, 276,\n",
      "       278, 281, 282, 283, 284, 289, 290, 292, 301, 302, 303, 305, 310,\n",
      "       314, 316, 319, 321, 322, 324, 325, 327, 329, 330, 336, 338, 353,\n",
      "       354, 360, 361, 365, 371, 373, 374, 376, 379, 380, 383, 384, 387,\n",
      "       394, 395, 403, 406, 407, 412, 414, 415, 416, 419, 420, 421, 424,\n",
      "       427, 430, 431, 433, 437, 438, 439, 440, 442, 444, 445, 446, 452,\n",
      "       454, 455, 458, 460, 461, 462, 465, 466, 467, 469, 473, 474, 475,\n",
      "       476, 477, 482, 485, 486, 488, 490, 491, 492, 495, 497, 501, 502,\n",
      "       505, 508, 509, 512, 513, 514, 515, 516, 517, 518, 520, 521, 522,\n",
      "       524, 526, 528, 529, 530, 531, 533, 534, 535, 536, 537, 538, 539,\n",
      "       541, 542, 545, 546, 547]),)\n",
      "213\n"
     ]
    },
    {
     "name": "stderr",
     "output_type": "stream",
     "text": [
      "/usr/local/lib/python2.7/dist-packages/ipykernel_launcher.py:1: RuntimeWarning: invalid value encountered in less_equal\n",
      "  \"\"\"Entry point for launching an IPython kernel.\n"
     ]
    }
   ],
   "source": [
    "select_idx = np.where(precision_per_class <= 0.49)\n",
    "print(select_idx)\n",
    "print(len(select_idx[0]))\n",
    "set_precision = set(select_idx[0])"
   ]
  },
  {
   "cell_type": "code",
   "execution_count": 121,
   "metadata": {},
   "outputs": [
    {
     "data": {
      "text/plain": [
       "array([           nan, 8.13678031e-02, 1.71714244e-02, 3.05872563e-01,\n",
       "       4.29972816e-01, 2.66206483e-01, 2.26923077e-01, 2.00375491e-01,\n",
       "       6.33312223e-04, 2.88076923e-01, 2.92044310e-02, 1.47856518e-01,\n",
       "       2.30721264e-02, 1.01449275e-02, 8.65307236e-01, 1.21856509e-01,\n",
       "       1.53089120e-02, 5.13792595e-01, 1.03420843e-02, 1.58740790e-01,\n",
       "       6.07033639e-01, 2.43959470e-01, 1.97841727e-02, 8.59437751e-02,\n",
       "       2.72727273e-01, 6.82967960e-01, 5.32423208e-02, 5.19779670e-01,\n",
       "       0.00000000e+00, 5.93368237e-01, 8.19126819e-01, 1.97125257e-01,\n",
       "       0.00000000e+00, 2.78873239e-01, 4.88997555e-03, 8.01603206e-03,\n",
       "       2.91208791e-01, 2.91278869e-02, 3.09619475e-02, 2.01106083e-04,\n",
       "       8.82892057e-01, 1.47147147e-01, 4.83471074e-01, 7.16312057e-01,\n",
       "       6.04545455e-01, 0.00000000e+00, 6.29921260e-01, 0.00000000e+00,\n",
       "       3.30287206e-01, 3.90438247e-01, 5.61056106e-02, 5.74561404e-01,\n",
       "       4.82084691e-01, 4.11214953e-01, 8.17589577e-01, 3.03728814e-02,\n",
       "       1.00263852e-01, 0.00000000e+00, 4.04011461e-01, 5.38971808e-01,\n",
       "       1.64335664e-01, 9.03614458e-03, 2.43644068e-02, 4.68227425e-03,\n",
       "       6.31149063e-03, 1.65532880e-01, 7.02136401e-01, 8.61940299e-01,\n",
       "       3.70056497e-01, 3.33333333e-01, 3.24551355e-02, 5.46932742e-02,\n",
       "       3.83333333e-01, 1.30000000e-01, 4.78424015e-01, 3.73083475e-01,\n",
       "       8.80352645e-01, 2.84403670e-01, 7.44075829e-01, 6.78137652e-02,\n",
       "       2.30199852e-01, 1.98843931e-02, 4.05904059e-01, 1.12233446e-03,\n",
       "       6.25000000e-01, 8.14606742e-01, 7.85714286e-01, 9.23076923e-01,\n",
       "       6.50000000e-01, 3.40163934e-01, 7.53138075e-01, 4.97487437e-01,\n",
       "       6.91489362e-02, 8.71657754e-01, 5.94827586e-01, 3.38870432e-01,\n",
       "       2.82907662e-01, 3.41463415e-01, 1.62100457e-01, 4.84472050e-01,\n",
       "       4.64989059e-01, 7.59615385e-01, 5.59748428e-01, 4.54545455e-02,\n",
       "       7.01754386e-03, 5.87570621e-01, 6.23430962e-01, 7.33333333e-01,\n",
       "       1.82741117e-01, 6.57718121e-01, 6.11872146e-01, 8.39826840e-01,\n",
       "       7.60932945e-01, 4.20439845e-02, 7.12871287e-01, 8.83333333e-01,\n",
       "       5.61904762e-01, 2.23529412e-01, 5.82524272e-01, 3.00177620e-01,\n",
       "       8.38983051e-01, 1.65775401e-01, 5.69682152e-01, 5.50000000e-01,\n",
       "       5.48387097e-01, 9.59785523e-01,            nan, 9.85915493e-01,\n",
       "       5.30054645e-01, 8.33333333e-02, 6.43916914e-01, 9.03426791e-02,\n",
       "       7.22891566e-01, 6.87500000e-01, 8.14814815e-01, 6.15384615e-01,\n",
       "       6.82027650e-01, 8.70129870e-01, 5.22727273e-01, 1.73661360e-01,\n",
       "       8.33333333e-01, 2.87581699e-01, 3.02231237e-01, 7.79661017e-01,\n",
       "       6.42857143e-01, 1.53225806e-01, 6.08695652e-01, 5.28864060e-01,\n",
       "       7.21698113e-01, 4.25287356e-01, 5.96721311e-01, 1.10236220e-01,\n",
       "       2.90322581e-01, 6.22950820e-01, 5.28301887e-01, 3.33333333e-02,\n",
       "       5.35947712e-01, 2.00000000e-01, 2.30769231e-01, 2.63157895e-02,\n",
       "       9.41176471e-01, 7.76729560e-01, 8.14814815e-01, 5.24324324e-01,\n",
       "       6.27692308e-01, 7.81609195e-01, 8.09160305e-01, 7.00000000e-01,\n",
       "       7.51677852e-01, 9.57345972e-01, 8.64864865e-01, 5.74712644e-02,\n",
       "       1.39860140e-02, 3.00653595e-01, 6.39344262e-01, 6.96428571e-01,\n",
       "       7.03225806e-01, 0.00000000e+00, 7.40740741e-02, 7.41176471e-01,\n",
       "       6.00000000e-01, 4.15662651e-01, 8.68571429e-01, 4.12698413e-01,\n",
       "       5.05076142e-01, 2.74038462e-01, 2.78260870e-01, 2.60869565e-01,\n",
       "       8.52071006e-01, 2.95857988e-02, 9.01639344e-01, 8.47222222e-01,\n",
       "       4.74336283e-01, 8.44444444e-01, 6.10294118e-01, 5.76612903e-01,\n",
       "       4.93506494e-01, 8.43373494e-01, 8.97058824e-01, 8.76712329e-01,\n",
       "       9.54128440e-01, 5.14285714e-01, 6.00609756e-01, 3.72549020e-01,\n",
       "       8.37500000e-01, 5.83333333e-01, 7.98387097e-01, 5.28571429e-01,\n",
       "       5.87837838e-01, 5.17110266e-01, 3.84615385e-01, 5.75757576e-01,\n",
       "       8.17427386e-01, 6.08000000e-01, 6.71428571e-01, 9.20000000e-01,\n",
       "       0.00000000e+00, 2.75000000e-01, 2.81818182e-01, 4.84210526e-01,\n",
       "       8.76651982e-01, 5.10638298e-01, 8.44961240e-01, 9.25925926e-03,\n",
       "       3.64640884e-01, 7.66666667e-01, 9.79166667e-01, 0.00000000e+00,\n",
       "       9.31372549e-01, 9.39759036e-01, 6.15384615e-01, 4.65346535e-01,\n",
       "       7.77777778e-01, 4.42622951e-01, 6.64062500e-01, 8.36956522e-01,\n",
       "       9.00000000e-01, 7.21854305e-01, 8.27586207e-01, 2.89855072e-02,\n",
       "       9.35483871e-01, 7.40458015e-01, 8.05555556e-01, 9.50672646e-01,\n",
       "       9.16167665e-01, 9.66887417e-01, 3.89473684e-01, 2.00000000e-01,\n",
       "       7.70925110e-01, 2.03821656e-01, 6.94117647e-01, 9.41666667e-01,\n",
       "       1.14285714e-01, 9.28571429e-01, 7.63285024e-01, 8.21917808e-01,\n",
       "       6.72268908e-01, 6.80000000e-01, 7.90123457e-01, 7.87878788e-01,\n",
       "       9.18478261e-01, 7.98561151e-01, 9.09482759e-01, 4.92063492e-01,\n",
       "       9.29078014e-01, 8.61111111e-01, 7.66666667e-01, 8.30687831e-01,\n",
       "       6.71052632e-01, 0.00000000e+00, 7.01219512e-01, 4.45454545e-01,\n",
       "       3.91304348e-01, 4.87804878e-01, 7.02127660e-01, 7.95180723e-01,\n",
       "       9.08163265e-01, 7.91666667e-01, 8.05907173e-01, 8.53658537e-01,\n",
       "       8.06451613e-01, 1.35135135e-02, 6.01941748e-01, 6.52173913e-01,\n",
       "       5.20547945e-01, 2.38636364e-01, 8.10000000e-01, 9.00000000e-01,\n",
       "       9.78723404e-01, 9.28571429e-01, 4.32432432e-01, 8.98989899e-01,\n",
       "       5.80882353e-01, 7.17488789e-01, 2.41071429e-01, 8.94736842e-01,\n",
       "       5.80246914e-01, 5.43269231e-01, 5.20231214e-02, 6.75000000e-01,\n",
       "       9.12698413e-01, 1.28571429e-01, 1.42857143e-02, 8.77049180e-01,\n",
       "       6.40625000e-01, 6.59090909e-01, 5.00000000e-01, 7.57894737e-01,\n",
       "       8.57142857e-01, 6.30630631e-02, 8.00000000e-01, 9.45945946e-01,\n",
       "       7.00000000e-01, 7.39130435e-01, 3.59447005e-01, 7.60869565e-01,\n",
       "       4.33333333e-01, 6.36363636e-01, 8.92405063e-01, 7.35849057e-01,\n",
       "       8.67647059e-01, 6.96428571e-01, 6.89655172e-01, 9.27083333e-01,\n",
       "       8.70689655e-01, 8.75000000e-01, 9.90291262e-01, 8.33333333e-01,\n",
       "       8.67924528e-01, 9.44444444e-01, 5.88235294e-01, 8.94230769e-01,\n",
       "       5.71428571e-01, 4.00000000e-01, 1.00000000e+00, 4.91803279e-01,\n",
       "       6.98113208e-01, 8.96825397e-01, 8.37988827e-01, 7.16981132e-01,\n",
       "       4.56692913e-01, 8.91891892e-01, 3.11111111e-01, 7.42857143e-01,\n",
       "       5.83850932e-01, 0.00000000e+00, 3.14049587e-01, 9.35064935e-01,\n",
       "       8.70588235e-01, 5.13513514e-01, 6.75000000e-01, 9.06976744e-01,\n",
       "       9.50000000e-01, 4.09836066e-01, 8.81578947e-01, 4.06779661e-01,\n",
       "       9.18918919e-01, 2.95454545e-01, 2.37500000e-01, 9.11111111e-01,\n",
       "       8.08510638e-01, 6.95652174e-01, 7.93103448e-01, 7.46835443e-01,\n",
       "       5.33333333e-01, 8.47457627e-01, 7.50000000e-01, 8.44155844e-01,\n",
       "       7.08333333e-01, 7.50000000e-01, 4.90196078e-01, 9.62962963e-01,\n",
       "       1.00000000e+00, 9.60526316e-01, 5.60000000e-01, 9.23076923e-01,\n",
       "       7.50000000e-01, 8.70370370e-01, 7.62711864e-01, 8.52941176e-01,\n",
       "       9.72972973e-01, 1.00000000e+00, 3.23529412e-01, 9.33333333e-01,\n",
       "       8.66666667e-01, 9.17647059e-01, 3.10077519e-01, 5.00000000e-01,\n",
       "       5.86956522e-01, 8.60759494e-01, 5.47826087e-01, 9.32203390e-01,\n",
       "       1.50000000e-01, 3.67346939e-01, 3.07692308e-01, 6.04166667e-01,\n",
       "       9.14285714e-01, 3.55555556e-01, 9.44444444e-01, 7.96296296e-01,\n",
       "       9.67741935e-01, 8.85714286e-01, 9.50980392e-01, 9.78260870e-01,\n",
       "       9.41176471e-01, 1.03448276e-01, 8.00000000e-01, 7.84810127e-01,\n",
       "       4.85294118e-01, 4.09090909e-01, 8.57142857e-01, 9.79381443e-01,\n",
       "       7.96296296e-01, 5.30303030e-01, 6.28571429e-01, 8.85714286e-01,\n",
       "       5.81395349e-01, 9.69696970e-01, 8.39622642e-01, 6.47887324e-01,\n",
       "       7.81250000e-01, 5.66666667e-01, 9.46428571e-01, 9.31818182e-01,\n",
       "       7.75000000e-01, 9.16666667e-01, 9.33333333e-01, 6.06060606e-01,\n",
       "       9.71014493e-01, 5.67164179e-01, 6.00000000e-01, 1.66666667e-01,\n",
       "       3.33333333e-01, 1.00000000e+00, 2.82051282e-01, 1.00000000e+00,\n",
       "       8.43137255e-01, 7.74193548e-01, 3.04347826e-01, 9.26470588e-01,\n",
       "       8.51851852e-01, 9.23076923e-01, 8.48101266e-01, 1.00000000e+00,\n",
       "       1.00000000e+00, 8.33333333e-01, 9.18032787e-01, 1.57142857e-01,\n",
       "       3.15789474e-01, 7.05882353e-01, 9.80000000e-01, 9.66666667e-01,\n",
       "       8.68421053e-01, 4.28571429e-01, 2.45901639e-01, 7.14285714e-01,\n",
       "       1.00000000e+00, 6.00000000e-01, 7.60000000e-01, 1.00000000e-01,\n",
       "       6.66666667e-01, 8.17073171e-01, 9.52380952e-01, 8.26086957e-01,\n",
       "       7.27272727e-02, 8.46153846e-01, 7.77777778e-01, 1.00000000e+00,\n",
       "       5.86206897e-01, 9.46428571e-01, 9.13043478e-01, 5.83333333e-01,\n",
       "       7.77777778e-01, 7.50000000e-01, 9.16666667e-01, 8.42105263e-01,\n",
       "       8.78787879e-01, 6.92307692e-01, 8.75000000e-01, 4.00000000e-01,\n",
       "       5.45454545e-01, 7.82608696e-01, 7.81250000e-01, 9.77777778e-01,\n",
       "       8.64406780e-01, 6.96969697e-01, 2.30769231e-01, 1.00000000e+00,\n",
       "       1.87500000e-01, 6.47058824e-01, 8.00000000e-01, 9.77777778e-01,\n",
       "       1.00000000e+00, 9.56521739e-01, 8.49056604e-01, 9.80769231e-01,\n",
       "       9.79591837e-01, 9.44444444e-01, 3.78378378e-01, 8.94736842e-01,\n",
       "       6.80000000e-01, 9.34782609e-01, 6.00000000e-01, 8.21428571e-01,\n",
       "       8.88888889e-01, 1.66666667e-01, 1.42857143e-01, 9.78723404e-01,\n",
       "       5.00000000e-01, 6.36363636e-01, 8.88888889e-01, 4.28571429e-01,\n",
       "       2.50000000e-01, 1.00000000e+00, 1.00000000e+00, 9.00000000e-01,\n",
       "       7.14285714e-01, 8.33333333e-01, 9.04761905e-01, 6.00000000e-01,\n",
       "       1.00000000e+00, 5.00000000e-01, 2.50000000e-01, 0.00000000e+00,\n",
       "       3.75000000e-01, 5.35714286e-01, 6.00000000e-01, 9.00000000e-01,\n",
       "       6.66666667e-01, 8.42105263e-01, 2.85714286e-01, 9.04761905e-01,\n",
       "       5.50000000e-01, 6.25000000e-01, 8.00000000e-01, 2.22222222e-01,\n",
       "       0.00000000e+00, 1.00000000e+00, 6.11111111e-01, 7.50000000e-01,\n",
       "       8.33333333e-01, 6.31578947e-01, 6.66666667e-01, 0.00000000e+00,\n",
       "                  nan, 7.27272727e-01, 1.00000000e+00, 6.19047619e-01])"
      ]
     },
     "execution_count": 121,
     "metadata": {},
     "output_type": "execute_result"
    }
   ],
   "source": [
    "recall_per_class"
   ]
  },
  {
   "cell_type": "code",
   "execution_count": 126,
   "metadata": {},
   "outputs": [
    {
     "name": "stdout",
     "output_type": "stream",
     "text": [
      "(array([  1,   2,   3,   4,   5,   6,   7,   8,   9,  10,  11,  12,  13,\n",
      "        15,  16,  18,  19,  21,  22,  23,  24,  26,  28,  31,  32,  33,\n",
      "        34,  35,  36,  37,  38,  39,  41,  42,  45,  47,  48,  49,  50,\n",
      "        52,  53,  55,  56,  57,  58,  60,  61,  62,  63,  64,  65,  68,\n",
      "        69,  70,  71,  72,  73,  74,  75,  77,  79,  80,  81,  82,  83,\n",
      "        89,  92,  95,  96,  97,  98,  99, 100, 103, 104, 108, 113, 117,\n",
      "       119, 121, 129, 131, 139, 141, 142, 145, 149, 151, 152, 155, 157,\n",
      "       158, 159, 171, 172, 173, 177, 178, 181, 183, 185, 186, 187, 189,\n",
      "       192, 203, 210, 216, 217, 218, 219, 223, 224, 227, 231, 233, 239,\n",
      "       246, 247, 249, 252, 269, 271, 272, 273, 281, 285, 290, 294, 298,\n",
      "       301, 302, 309, 314, 316, 333, 340, 342, 345, 346, 353, 355, 357,\n",
      "       358, 382, 386, 392, 393, 394, 397, 405, 408, 409, 431, 432, 434,\n",
      "       438, 447, 448, 453, 454, 459, 464, 479, 486, 488, 498, 505, 506,\n",
      "       511, 512, 522, 523, 524, 530, 535, 536, 543]),)\n",
      "178\n"
     ]
    },
    {
     "name": "stderr",
     "output_type": "stream",
     "text": [
      "/usr/local/lib/python2.7/dist-packages/ipykernel_launcher.py:1: RuntimeWarning: invalid value encountered in less_equal\n",
      "  \"\"\"Entry point for launching an IPython kernel.\n"
     ]
    }
   ],
   "source": [
    "select_idx = np.where(recall_per_class <= 0.49)\n",
    "print(select_idx)\n",
    "print(len(select_idx[0]))\n",
    "set_recall = set(select_idx[0])"
   ]
  },
  {
   "cell_type": "code",
   "execution_count": 127,
   "metadata": {},
   "outputs": [
    {
     "name": "stdout",
     "output_type": "stream",
     "text": [
      "set([512, 129, 224, 522, 535, 273, 13, 301, 145, 18, 149, 151, 152, 281, 26, 155, 28, 31, 34, 41, 172, 178, 223, 431, 50, 52, 181, 438, 183, 56, 57, 314, 159, 316, 394, 65, 68, 69, 454, 353, 73, 187, 203, 77, 83, 218, 219, 92, 95, 96, 97, 99, 486, 536, 103, 104, 233, 530, 239, 488, 302, 117, 246, 524, 505, 252, 290])\n",
      "67\n",
      "[u'Personal care', u'Porch', u'Sandal', u'Serving tray', u'Bench', u'Baseball bat', u'Animal', u'Nightstand', u'Hiking equipment', u'Furniture', u'Coffee table', u'Marine mammal', u'Goose', u'Racket', u'Auto part', u'Home appliance', u'Sports equipment', u'Carnivore', u'Musical instrument', u'Watercraft', u'Kitchen appliance', u'Tool', u'Platter', u'Seat belt', u'Invertebrate', u'Poster', u'Canoe', u'Tiara', u'Scarf', u'Hat', u'Tableware', u'Foot', u'Luggage and bags', u'Wok', u'Bathroom cabinet', u'Aircraft', u'Jacket', u'Street light', u'Kitchen knife', u'Mechanical fan', u'Trousers', u'Clock', u'Skirt', u'Desk', u'Fast food', u'Bowl', u'Glove', u'Goggles', u'Shorts', u'Sports uniform', u'Moths and butterflies', u'Shirt', u'Cutting board', u'Cricket ball', u'Couch', u'Weapon', u'Bear', u'Briefcase', u'Kitchen utensil', u'Harpsichord', u'Bathroom accessory', u'Reptile', u'Cosmetics', u'Dumbbell', u'Paper towel', u'Squash', u'Snowboard']\n"
     ]
    }
   ],
   "source": [
    "union = set_recall.intersection(set_precision)\n",
    "print(union)\n",
    "print(len(union))\n",
    "print([category_index[x]['name'] for x in union])"
   ]
  },
  {
   "cell_type": "code",
   "execution_count": 128,
   "metadata": {},
   "outputs": [],
   "source": [
    "interset_select = (np.array(sorted(list(union))), )"
   ]
  },
  {
   "cell_type": "code",
   "execution_count": 130,
   "metadata": {},
   "outputs": [],
   "source": [
    "# recall_per_class[interset_select] = np.nan"
   ]
  },
  {
   "cell_type": "code",
   "execution_count": 131,
   "metadata": {},
   "outputs": [],
   "source": [
    "# precision_per_class[interset_select] = np.nan"
   ]
  },
  {
   "cell_type": "code",
   "execution_count": 132,
   "metadata": {},
   "outputs": [
    {
     "data": {
      "text/plain": [
       "0.5816493627546684"
      ]
     },
     "execution_count": 132,
     "metadata": {},
     "output_type": "execute_result"
    }
   ],
   "source": [
    "np.nanmean(precision_per_class)"
   ]
  },
  {
   "cell_type": "code",
   "execution_count": 134,
   "metadata": {},
   "outputs": [
    {
     "data": {
      "text/plain": [
       "0.6429637792375303"
      ]
     },
     "execution_count": 134,
     "metadata": {},
     "output_type": "execute_result"
    }
   ],
   "source": [
    "np.nanmean(recall_per_class)"
   ]
  },
  {
   "cell_type": "code",
   "execution_count": 135,
   "metadata": {},
   "outputs": [],
   "source": [
    "## bbox_labels_600_hierarchy.json\n",
    "import json\n",
    "\n",
    "with open('/root/bbox_labels_600_hierarchy.json') as json_file:\n",
    "    data = json.load(json_file)\n"
   ]
  },
  {
   "cell_type": "code",
   "execution_count": 150,
   "metadata": {},
   "outputs": [
    {
     "name": "stdout",
     "output_type": "stream",
     "text": [
      "(u'Person', 0.8719646799116998, 0.08136780306931712, 19418.0, 0.14884597268016958)\n",
      "(u'Man', 0.7844512195121951, 0.30587256300523064, 8412.0, 0.44013000342114267)\n",
      "(u'Woman', 0.7964721845318861, 0.20037549069807134, 5859.0, 0.3201963725623892)\n",
      "(u'Boy', 0.7578692493946732, 0.24395946999220577, 1283.0, 0.36910377358490565)\n",
      "(u'Girl', 0.8473282442748091, 0.02307212637705259, 4811.0, 0.044921084581141246)\n"
     ]
    }
   ],
   "source": [
    "idx = 1\n",
    "print(category_index[idx]['name'],precision_per_class[idx],recall_per_class[idx],gt_num_per_class[idx],fscore_per_class[idx])\n",
    "idx = 3\n",
    "print(category_index[idx]['name'],precision_per_class[idx],recall_per_class[idx],gt_num_per_class[idx],fscore_per_class[idx])\n",
    "idx = 7\n",
    "print(category_index[idx]['name'],precision_per_class[idx],recall_per_class[idx],gt_num_per_class[idx],fscore_per_class[idx])\n",
    "idx = 21\n",
    "print(category_index[idx]['name'],precision_per_class[idx],recall_per_class[idx],gt_num_per_class[idx],fscore_per_class[idx])\n",
    "idx = 12\n",
    "print(category_index[idx]['name'],precision_per_class[idx],recall_per_class[idx],gt_num_per_class[idx],fscore_per_class[idx])"
   ]
  },
  {
   "cell_type": "code",
   "execution_count": 142,
   "metadata": {},
   "outputs": [
    {
     "data": {
      "text/plain": [
       "-947"
      ]
     },
     "execution_count": 142,
     "metadata": {},
     "output_type": "execute_result"
    }
   ],
   "source": [
    "19418-8412-5859-1283-4811"
   ]
  },
  {
   "cell_type": "code",
   "execution_count": 196,
   "metadata": {},
   "outputs": [],
   "source": [
    "    threshold = 0.5\n",
    "    gt_num_per_class = np.zeros(object_detection_evaluator._evaluation.num_class+1 )#ignore index = 0\n",
    "    det_num_per_class = np.zeros(object_detection_evaluator._evaluation.num_class+1 )#ignore index = 0\n",
    "    tp_num_per_class = np.zeros(object_detection_evaluator._evaluation.num_class+1 )#ignore index = 0\n",
    "    fp_num_per_class = np.zeros(object_detection_evaluator._evaluation.num_class+1 )#ignore index = 0\n",
    "\n",
    "\n",
    "    for image, decoded_dict in infer_dict.items():\n",
    "        gt_classes_set = set()\n",
    "        for groundtruth_classes in decoded_dict['groundtruth_classes']:\n",
    "            gt_classes_set.add(groundtruth_classes)\n",
    "        for groundtruth_classes in gt_classes_set:\n",
    "            gt_num_per_class[groundtruth_classes] += 1\n",
    "\n",
    "\n",
    "    for image, decoded_dict in infer_dict.items():\n",
    "        index_threshold = np.where(decoded_dict['detection_scores'] >= threshold)\n",
    "        detection_classes_set = set()\n",
    "        for detection_classes in decoded_dict['detection_classes'][index_threshold]:\n",
    "            detection_classes_set.add(detection_classes)\n",
    "            # add mens to person\n",
    "            if detection_classes in [3, 7, 21, 12]:\n",
    "                detection_classes_set.add(1)\n",
    "        for detection_classes in detection_classes_set:\n",
    "            if detection_classes in decoded_dict['groundtruth_classes']:\n",
    "                tp_num_per_class[detection_classes] += 1\n",
    "            else:\n",
    "                fp_num_per_class[detection_classes] += 1\n",
    "            det_num_per_class[detection_classes] += 1\n",
    "\n",
    "\n",
    "    precision_per_class = np.zeros(object_detection_evaluator._evaluation.num_class+1 )#ignore index = 0\n",
    "    recall_per_class = np.zeros(object_detection_evaluator._evaluation.num_class+1 )#ignore index = 0\n",
    "\n",
    "    for idx, det in enumerate(det_num_per_class):\n",
    "        if det == 0:\n",
    "            precision_per_class[idx] = np.nan\n",
    "        else:\n",
    "            precision_per_class[idx] = tp_num_per_class[idx] / det\n",
    "\n",
    "    for idx, det in enumerate(gt_num_per_class):\n",
    "        if det == 0:\n",
    "            recall_per_class[idx] = np.nan\n",
    "        else:\n",
    "            recall_per_class[idx] = tp_num_per_class[idx] / det\n",
    "\n",
    "    fscore_per_class = np.zeros(object_detection_evaluator._evaluation.num_class+1 )#ignore index = 0\n",
    "    for idx, fscore in enumerate(fscore_per_class):\n",
    "        if precision_per_class[idx] == 0 and recall_per_class[idx] == 0:\n",
    "            fscore_per_class[idx] = 0\n",
    "        else :\n",
    "            fscore_per_class[idx] = 2.0/(precision_per_class[idx] + recall_per_class[idx])*precision_per_class[idx]*recall_per_class[idx]\n",
    "\n",
    "#     precision_per_th.append(np.nanmean(precision_per_class))\n",
    "#     recall_per_th.append(np.nanmean(recall_per_class))\n",
    "#     fscore_per_th.append(np.nanmean(fscore_per_class))\n",
    "    \n",
    "\n",
    "\n"
   ]
  },
  {
   "cell_type": "code",
   "execution_count": 180,
   "metadata": {},
   "outputs": [
    {
     "name": "stdout",
     "output_type": "stream",
     "text": [
      "(u'Person', 0.5216332378223496, 0.18750643732619218, 19418.0, 0.2758542313811652)\n",
      "(u'Man', 0.7844512195121951, 0.30587256300523064, 8412.0, 0.44013000342114267)\n",
      "(u'Woman', 0.7964721845318861, 0.20037549069807134, 5859.0, 0.3201963725623892)\n",
      "(u'Boy', 0.7578692493946732, 0.24395946999220577, 1283.0, 0.36910377358490565)\n",
      "(u'Girl', 0.8473282442748091, 0.02307212637705259, 4811.0, 0.044921084581141246)\n"
     ]
    }
   ],
   "source": [
    "idx = 1 # th 0.6\n",
    "print(category_index[idx]['name'],precision_per_class[idx],recall_per_class[idx],gt_num_per_class[idx],fscore_per_class[idx])\n",
    "idx = 3\n",
    "print(category_index[idx]['name'],precision_per_class[idx],recall_per_class[idx],gt_num_per_class[idx],fscore_per_class[idx])\n",
    "idx = 7\n",
    "print(category_index[idx]['name'],precision_per_class[idx],recall_per_class[idx],gt_num_per_class[idx],fscore_per_class[idx])\n",
    "idx = 21\n",
    "print(category_index[idx]['name'],precision_per_class[idx],recall_per_class[idx],gt_num_per_class[idx],fscore_per_class[idx])\n",
    "idx = 12\n",
    "print(category_index[idx]['name'],precision_per_class[idx],recall_per_class[idx],gt_num_per_class[idx],fscore_per_class[idx])"
   ]
  },
  {
   "cell_type": "code",
   "execution_count": 197,
   "metadata": {},
   "outputs": [
    {
     "name": "stdout",
     "output_type": "stream",
     "text": [
      "(u'Parking meter', 0.375, 1.0, 3.0, 0.5454545454545454)\n",
      "(u'Coconut', 0.19117647058823528, 0.6190476190476191, 21.0, 0.29213483146067415)\n"
     ]
    }
   ],
   "source": [
    "idx = 546 # th 0.5\n",
    "print(category_index[idx]['name'],precision_per_class[idx],recall_per_class[idx],gt_num_per_class[idx],fscore_per_class[idx])\n",
    "idx = 547 \n",
    "print(category_index[idx]['name'],precision_per_class[idx],recall_per_class[idx],gt_num_per_class[idx],fscore_per_class[idx])"
   ]
  },
  {
   "cell_type": "code",
   "execution_count": 195,
   "metadata": {},
   "outputs": [
    {
     "name": "stdout",
     "output_type": "stream",
     "text": [
      "(u'Parking meter', 0.375, 1.0, 3.0, 0.5454545454545454)\n",
      "(u'Coconut', 0.3023255813953488, 0.6190476190476191, 21.0, 0.40625)\n"
     ]
    }
   ],
   "source": [
    "idx = 546 # th 0.6\n",
    "print(category_index[idx]['name'],precision_per_class[idx],recall_per_class[idx],gt_num_per_class[idx],fscore_per_class[idx])\n",
    "idx = 547 \n",
    "print(category_index[idx]['name'],precision_per_class[idx],recall_per_class[idx],gt_num_per_class[idx],fscore_per_class[idx])"
   ]
  },
  {
   "cell_type": "code",
   "execution_count": 193,
   "metadata": {},
   "outputs": [
    {
     "name": "stdout",
     "output_type": "stream",
     "text": [
      "(u'Parking meter', 0.75, 1.0, 3.0, 0.8571428571428571)\n",
      "(u'Coconut', 0.35714285714285715, 0.23809523809523808, 21.0, 0.2857142857142857)\n"
     ]
    }
   ],
   "source": [
    "idx = 546 # th 0.8\n",
    "print(category_index[idx]['name'],precision_per_class[idx],recall_per_class[idx],gt_num_per_class[idx],fscore_per_class[idx])\n",
    "idx = 547 \n",
    "print(category_index[idx]['name'],precision_per_class[idx],recall_per_class[idx],gt_num_per_class[idx],fscore_per_class[idx])"
   ]
  },
  {
   "cell_type": "code",
   "execution_count": 191,
   "metadata": {},
   "outputs": [
    {
     "name": "stdout",
     "output_type": "stream",
     "text": [
      "(u'Parking meter', 1.0, 1.0, 3.0, 1.0)\n",
      "(u'Coconut', 0.75, 0.14285714285714285, 21.0, 0.24000000000000002)\n"
     ]
    }
   ],
   "source": [
    "idx = 546 # th 0.9\n",
    "print(category_index[idx]['name'],precision_per_class[idx],recall_per_class[idx],gt_num_per_class[idx],fscore_per_class[idx])\n",
    "idx = 547 \n",
    "print(category_index[idx]['name'],precision_per_class[idx],recall_per_class[idx],gt_num_per_class[idx],fscore_per_class[idx])"
   ]
  },
  {
   "cell_type": "code",
   "execution_count": 184,
   "metadata": {},
   "outputs": [
    {
     "name": "stdout",
     "output_type": "stream",
     "text": [
      "[u'Dress', u'Dress', u'Person', u'Human body', u'Woman', u'Woman', u'Woman', u'Hair', u'Hair', u'Clothing', u'Hand', u'Hand']\n",
      "[u'Woman', u'Dress', u'Face', u'Face', u'Woman', u'Face', u'Man', u'Face', u'Woman', u'Man', u'Clothing', u'Face', u'Face', u'Coat', u'Face', u'Clothing', u'Hair', u'Dress', u'Clothing', u'Suit', u'Man', u'Brassiere', u'Girl', u'Clothing', u'Hand', u'Face']\n",
      "[0.796 0.767 0.68  0.57  0.53  0.441 0.395 0.388 0.383 0.382 0.335 0.277\n",
      " 0.262 0.262 0.261 0.187 0.179 0.158 0.152 0.151 0.15  0.144 0.13  0.119\n",
      " 0.108 0.104]\n"
     ]
    }
   ],
   "source": [
    "decoded_dict=infer_dict['e9ec2617897763cc']\n",
    "select_idx = np.where(decoded_dict['detection_scores'] >= 0.1)\n",
    "\n",
    "\n",
    "print([category_index[x]['name'] for x in decoded_dict['groundtruth_classes']])\n",
    "print([category_index[x]['name'] for x in decoded_dict['detection_classes'][select_idx]])\n",
    "print(decoded_dict['detection_scores'][select_idx])\n",
    "\n",
    "#https://storage.googleapis.com/openimages/web/visualizer/index.html?set=valtest&type=detection&c=%2Fm%2F05r655&id=e9ec2617897763cc"
   ]
  },
  {
   "cell_type": "code",
   "execution_count": 168,
   "metadata": {},
   "outputs": [
    {
     "name": "stdout",
     "output_type": "stream",
     "text": [
      "{u'Subcategory': [{u'LabelName': u'/m/0167gd'}, {u'LabelName': u'/m/01j51'}, {u'LabelName': u'/m/029b3'}, {u'LabelName': u'/m/02wmf'}, {u'LabelName': u'/m/02zt3'}, {u'LabelName': u'/m/0kmg4'}], u'LabelName': u'/m/0138tl'}\n",
      "{u'Subcategory': [{u'LabelName': u'/m/0174k2'}, {u'LabelName': u'/m/01k6s3'}, {u'LabelName': u'/m/029bxz'}, {u'LabelName': u'/m/02pjr4'}, {u'LabelName': u'/m/02wv84t'}, {u'LabelName': u'/m/02x984l'}, {u'LabelName': u'/m/03qhv5'}, {u'LabelName': u'/m/03s_tn'}, {u'LabelName': u'/m/03wvsk'}, {u'LabelName': u'/m/040b_t'}, {u'LabelName': u'/m/04169hn'}, {u'LabelName': u'/m/04lvq_'}, {u'LabelName': u'/m/063rgb'}, {u'LabelName': u'/m/07xyvk'}, {u'LabelName': u'/m/0fx9l'}, {u'LabelName': u'/m/0ky7b'}, {u'LabelName': u'/m/0llzx'}, {u'LabelName': u'/m/0c3m8g'}, {u'LabelName': u'/m/03ldnb'}], u'LabelName': u'/m/019dx1'}\n",
      "{u'Subcategory': [{u'LabelName': u'/m/0130jx'}, {u'LabelName': u'/m/01vbnl'}, {u'LabelName': u'/m/02f9f_'}, {u'LabelName': u'/m/02jz0l'}, {u'LabelName': u'/m/03dnzn'}, {u'LabelName': u'/m/09g1w'}], u'LabelName': u'/m/02pkr5'}\n",
      "{u'Subcategory': [{u'LabelName': u'/m/01lsmm'}, {u'LabelName': u'/m/01n5jq'}, {u'LabelName': u'/m/024d2'}, {u'LabelName': u'/m/025dyy'}, {u'LabelName': u'/m/025fsf'}, {u'LabelName': u'/m/02d9qx'}, {u'LabelName': u'/m/02ddwp'}, {u'LabelName': u'/m/02fh7f'}, {u'LabelName': u'/m/02xqq'}, {u'LabelName': u'/m/03m3vtv'}, {u'LabelName': u'/m/04zwwv'}, {u'LabelName': u'/m/05676x'}, {u'LabelName': u'/m/05gqfk'}, {u'LabelName': u'/m/080n7g'}, {u'LabelName': u'/m/09gtd'}, {u'LabelName': u'/m/0frqm'}, {u'LabelName': u'/m/0k1tl'}], u'LabelName': u'/m/02rdsp'}\n",
      "{u'Subcategory': [{u'Subcategory': [{u'LabelName': u'/m/01_5g'}, {u'LabelName': u'/m/027rl48'}, {u'LabelName': u'/m/02d1br'}, {u'LabelName': u'/m/02mqfb'}, {u'LabelName': u'/m/02pdsw'}, {u'LabelName': u'/m/02vwcm'}, {u'LabelName': u'/m/03v5tg'}, {u'LabelName': u'/m/04ctx'}, {u'LabelName': u'/m/04f5ws'}, {u'LabelName': u'/m/07v9_z'}, {u'LabelName': u'/m/08ks85'}, {u'LabelName': u'/m/0cmx8'}, {u'LabelName': u'/m/0dt3t'}], u'LabelName': u'/m/03hlz0c'}, {u'Subcategory': [{u'LabelName': u'/m/01_5g'}, {u'LabelName': u'/m/01fh4r'}, {u'LabelName': u'/m/02jvh9'}, {u'LabelName': u'/m/02p5f1q'}, {u'LabelName': u'/m/02x8cch'}, {u'LabelName': u'/m/03hj559'}, {u'LabelName': u'/m/03q5c7'}, {u'LabelName': u'/m/0440zs'}, {u'LabelName': u'/m/04dr76w'}, {u'LabelName': u'/m/04kkgm'}, {u'LabelName': u'/m/050gv4'}, {u'LabelName': u'/m/054fyh'}, {u'LabelName': u'/m/058qzx'}, {u'LabelName': u'/m/08hvt4'}, {u'LabelName': u'/m/099ssp'}, {u'LabelName': u'/m/09tvcd'}, {u'LabelName': u'/m/0cmx8'}, {u'LabelName': u'/m/0dt3t'}, {u'LabelName': u'/m/0h8n27j'}, {u'LabelName': u'/m/0h8n6ft'}], u'LabelName': u'/m/04brg2'}, {u'LabelName': u'/m/04v6l4'}, {u'LabelName': u'/m/084rd'}, {u'LabelName': u'/m/0h8kx63'}, {u'Subcategory': [{u'LabelName': u'/m/029bxz'}, {u'LabelName': u'/m/02pjr4'}, {u'LabelName': u'/m/02tsc9'}, {u'LabelName': u'/m/03y6mg'}, {u'LabelName': u'/m/040b_t'}, {u'LabelName': u'/m/04z4wx'}, {u'LabelName': u'/m/063rgb'}, {u'LabelName': u'/m/07xyvk'}, {u'LabelName': u'/m/0fx9l'}, {u'LabelName': u'/m/0h8ntjv'}, {u'LabelName': u'/m/0ky7b'}], u'LabelName': u'/m/0h99cwc'}], u'LabelName': u'/m/03_wxk'}\n",
      "{u'Subcategory': [{u'LabelName': u'/m/01mzpv'}, {u'LabelName': u'/m/01s105'}, {u'LabelName': u'/m/01y9k5'}, {u'LabelName': u'/m/0271qf7'}, {u'Subcategory': [{u'LabelName': u'/m/03m3pdh'}, {u'LabelName': u'/m/0703r8'}], u'LabelName': u'/m/02crq1'}, {u'LabelName': u'/m/02vkqh8'}, {u'LabelName': u'/m/02z51p'}, {u'LabelName': u'/m/03__z0'}, {u'Subcategory': [{u'LabelName': u'/m/061hd_'}, {u'LabelName': u'/m/026qbn5'}], u'LabelName': u'/m/03ssj5'}, {u'LabelName': u'/m/047j0r'}, {u'Subcategory': [{u'LabelName': u'/m/078n6m'}, {u'LabelName': u'/m/0h8n5zk'}], u'LabelName': u'/m/04bcr3'}, {u'LabelName': u'/m/05kyg_'}, {u'LabelName': u'/m/0642b4'}, {u'LabelName': u'/m/0cvnqh'}, {u'LabelName': u'/m/0fqfqc'}, {u'LabelName': u'/m/0fqt361'}, {u'LabelName': u'/m/0gjbg72'}, {u'LabelName': u'/m/0h8mzrc'}, {u'LabelName': u'/m/04y4h8h'}, {u'LabelName': u'/m/0d4w1'}], u'LabelName': u'/m/0c_jw'}\n",
      "{u'Subcategory': [{u'LabelName': u'/m/046dlr'}, {u'LabelName': u'/m/06_72j'}, {u'LabelName': u'/m/0h8mzrc'}], u'LabelName': u'/m/01x3z'}\n",
      "{u'Subcategory': [{u'LabelName': u'/m/0152hh'}, {u'LabelName': u'/m/04yqq2'}, {u'LabelName': u'/m/01yx86'}], u'LabelName': u'/m/06msq'}\n",
      "{u'Subcategory': [{u'LabelName': u'/m/0162_1'}, {u'LabelName': u'/m/09gtd'}, {u'LabelName': u'/m/0c3mkw'}, {u'LabelName': u'/m/0h8nsvg'}], u'LabelName': u'/m/0h8nr_l'}\n",
      "{u'Subcategory': [{u'LabelName': u'/m/02pv19'}], u'LabelName': u'/m/01mqdt'}\n",
      "{u'Part': [{u'Subcategory': [{u'LabelName': u'/m/012ysf'}, {u'LabelName': u'/m/02lbcq'}, {u'LabelName': u'/m/073g6'}, {u'LabelName': u'/m/0j496'}], u'LabelName': u'/m/01xgg_'}, {u'Subcategory': [{u'LabelName': u'/m/013y1f'}, {u'LabelName': u'/m/018j2'}, {u'LabelName': u'/m/01xqw'}, {u'LabelName': u'/m/026t6'}, {u'LabelName': u'/m/0319l'}, {u'LabelName': u'/m/0342h'}, {u'LabelName': u'/m/03m5k'}, {u'LabelName': u'/m/03q5t'}, {u'LabelName': u'/m/03qjg'}, {u'LabelName': u'/m/057cc'}, {u'LabelName': u'/m/05kms'}, {u'LabelName': u'/m/05r5c'}, {u'LabelName': u'/m/06ncr'}, {u'LabelName': u'/m/07c6l'}, {u'LabelName': u'/m/07gql'}, {u'LabelName': u'/m/07y_7'}, {u'LabelName': u'/m/0f8s22'}, {u'LabelName': u'/m/0l14j_'}, {u'LabelName': u'/m/0mkg'}, {u'LabelName': u'/m/0xzly'}], u'LabelName': u'/m/04szw'}, {u'Subcategory': [{u'LabelName': u'/m/014y4n'}, {u'Subcategory': [{u'LabelName': u'/m/01226z'}, {u'LabelName': u'/m/02ctlc'}, {u'LabelName': u'/m/02rgn06'}, {u'LabelName': u'/m/05ctyq'}, {u'LabelName': u'/m/0wdt60w'}], u'LabelName': u'/m/018xm'}, {u'Part': [{u'LabelName': u'/m/01bqk0'}], u'LabelName': u'/m/0199g'}, {u'LabelName': u'/m/019w40'}, {u'LabelName': u'/m/01g3x7'}, {u'LabelName': u'/m/0268lbt'}, {u'LabelName': u'/m/02p3w7d'}, {u'LabelName': u'/m/02wmf'}, {u'LabelName': u'/m/03g8mr'}, {u'LabelName': u'/m/03grzl'}, {u'LabelName': u'/m/0420v5'}, {u'LabelName': u'/m/044r5d'}, {u'LabelName': u'/m/054xkw'}, {u'LabelName': u'/m/057p5t'}, {u'LabelName': u'/m/06__v'}, {u'LabelName': u'/m/06_fw'}, {u'LabelName': u'/m/071p9'}, {u'LabelName': u'/m/07pj7bq'}, {u'LabelName': u'/m/04h8sr'}, {u'LabelName': u'/m/03kt2w'}, {u'LabelName': u'/m/030610'}, {u'LabelName': u'/m/076lb9'}, {u'LabelName': u'/m/03wym'}, {u'LabelName': u'/m/0cqn2'}, {u'LabelName': u'/m/0cyfs'}, {u'Subcategory': [{u'LabelName': u'/m/0h8my_4'}, {u'LabelName': u'/m/05_5p_0'}], u'LabelName': u'/m/0dv9c'}, {u'LabelName': u'/m/0l3ms'}, {u'Subcategory': [{u'LabelName': u'/m/03p3bw'}, {u'LabelName': u'/m/07qxg_'}], u'LabelName': u'/m/0zvk5'}, {u'LabelName': u'/m/04p0qw'}], u'LabelName': u'/m/05y5lj'}, {u'Subcategory': [{u'Subcategory': [{u'LabelName': u'/m/02jnhm'}, {u'LabelName': u'/m/02zn6n'}, {u'LabelName': u'/m/04dr76w'}, {u'LabelName': u'/m/07kng9'}, {u'LabelName': u'/m/08hvt4'}, {u'LabelName': u'/m/0bjyj5'}, {u'LabelName': u'/m/0d20w4'}, {u'LabelName': u'/m/0fm3zh'}], u'LabelName': u'/m/011q46kg'}, {u'LabelName': u'/m/012w5l'}, {u'LabelName': u'/m/012xff'}, {u'LabelName': u'/m/01bms0'}, {u'LabelName': u'/m/01d380'}, {u'LabelName': u'/m/01j4z9'}, {u'LabelName': u'/m/01j5ks'}, {u'LabelName': u'/m/01kb5b'}, {u'LabelName': u'/m/01lsmm'}, {u'LabelName': u'/m/02bm9n'}, {u'Subcategory': [{u'LabelName': u'/m/01_5g'}, {u'LabelName': u'/m/027rl48'}, {u'LabelName': u'/m/02d1br'}, {u'LabelName': u'/m/02mqfb'}, {u'LabelName': u'/m/02pdsw'}, {u'LabelName': u'/m/02vwcm'}, {u'LabelName': u'/m/03v5tg'}, {u'LabelName': u'/m/04ctx'}, {u'LabelName': u'/m/04f5ws'}, {u'LabelName': u'/m/07v9_z'}, {u'LabelName': u'/m/08ks85'}, {u'LabelName': u'/m/0cmx8'}, {u'LabelName': u'/m/0dt3t'}], u'LabelName': u'/m/03hlz0c'}, {u'LabelName': u'/m/03l9g'}, {u'LabelName': u'/m/03txqz'}, {u'LabelName': u'/m/04vv5k'}, {u'LabelName': u'/m/05bm6'}, {u'LabelName': u'/m/073bxn'}, {u'LabelName': u'/m/07dd4'}, {u'LabelName': u'/m/0_dqb'}, {u'LabelName': u'/m/0c2jj'}, {u'LabelName': u'/m/0dv5r'}, {u'LabelName': u'/m/0h8jyh6'}, {u'LabelName': u'/m/0hdln'}, {u'LabelName': u'/m/0lt4_'}], u'LabelName': u'/m/07k1x'}, {u'Subcategory': [{u'LabelName': u'/m/01g3x7'}, {u'LabelName': u'/m/020kz'}, {u'LabelName': u'/m/02gzp'}, {u'LabelName': u'/m/04ctx'}, {u'LabelName': u'/m/06c54'}, {u'LabelName': u'/m/06nrc'}, {u'LabelName': u'/m/07cmd'}, {u'LabelName': u'/m/0c2jj'}, {u'LabelName': u'/m/0gxl3'}, {u'LabelName': u'/m/06y5r'}, {u'LabelName': u'/m/04ylt'}, {u'LabelName': u'/m/0ct4f'}], u'LabelName': u'/m/083kb'}, {u'LabelName': u'/m/01432t'}, {u'LabelName': u'/m/01b7fy'}, {u'LabelName': u'/m/01c648'}, {u'LabelName': u'/m/01m2v'}, {u'LabelName': u'/m/01m4t'}, {u'LabelName': u'/m/020lf'}, {u'LabelName': u'/m/02522'}, {u'LabelName': u'/m/03bbps'}, {u'LabelName': u'/m/03jbxj'}, {u'LabelName': u'/m/057cc'}, {u'LabelName': u'/m/07c52'}, {u'Subcategory': [{u'LabelName': u'/m/050k8'}, {u'LabelName': u'/m/0h8lkj8'}], u'LabelName': u'/m/07cx4'}, {u'LabelName': u'/m/0bh9flk'}, {u'LabelName': u'/m/0hg7b'}, {u'LabelName': u'/m/0mcx2'}, {u'LabelName': u'/m/0qjjc'}], u'Subcategory': [{u'LabelName': u'/m/02wg_p'}, {u'LabelName': u'/m/04h7h'}, {u'LabelName': u'/m/079cl'}, {u'LabelName': u'/m/0d5gx'}, {u'LabelName': u'/m/01fdzj'}, {u'LabelName': u'/m/03jm5'}, {u'LabelName': u'/m/021sj1'}, {u'LabelName': u'/m/0crjs'}], u'LabelName': u'/m/0cgh4'}\n",
      "{u'Part': [{u'Part': [{u'LabelName': u'/m/014sv8'}, {u'LabelName': u'/m/016m2d'}, {u'LabelName': u'/m/04hgtk'}, {u'LabelName': u'/m/0dzct'}, {u'LabelName': u'/m/0283dt1'}, {u'LabelName': u'/m/039xj_'}, {u'LabelName': u'/m/0k0pj'}, {u'LabelName': u'/m/03q69'}, {u'LabelName': u'/m/0k65p'}, {u'LabelName': u'/m/031n1'}, {u'LabelName': u'/m/0dzf4'}, {u'LabelName': u'/m/035r7c'}, {u'LabelName': u'/m/015h_t'}], u'LabelName': u'/m/02p0tk3'}], u'Subcategory': [{u'LabelName': u'/m/04yx4'}, {u'LabelName': u'/m/03bt1vf'}, {u'LabelName': u'/m/01bl7v'}, {u'LabelName': u'/m/05r655'}], u'LabelName': u'/m/01g317'}\n",
      "{u'Subcategory': [{u'Subcategory': [{u'LabelName': u'/m/01b9xk'}, {u'LabelName': u'/m/02y6n'}], u'LabelName': u'/m/01_bhs'}, {u'LabelName': u'/m/01dwsz'}, {u'LabelName': u'/m/01dwwc'}, {u'LabelName': u'/m/01j3zr'}, {u'Subcategory': [{u'LabelName': u'/m/01f91_'}, {u'LabelName': u'/m/01hrv5'}, {u'LabelName': u'/m/021mn'}], u'LabelName': u'/m/01ww8y'}, {u'Subcategory': [{u'LabelName': u'/m/01tcjp'}, {u'LabelName': u'/m/021mn'}, {u'LabelName': u'/m/0cxn2'}, {u'LabelName': u'/m/0fszt'}, {u'LabelName': u'/m/0gm28'}], u'LabelName': u'/m/0270h'}, {u'LabelName': u'/m/02g30s'}, {u'Subcategory': [{u'LabelName': u'/m/014j1m'}, {u'LabelName': u'/m/0388q'}, {u'LabelName': u'/m/043nyj'}, {u'LabelName': u'/m/061_f'}, {u'LabelName': u'/m/07fbm7'}, {u'LabelName': u'/m/07j87'}, {u'LabelName': u'/m/09k_b'}, {u'LabelName': u'/m/09qck'}, {u'LabelName': u'/m/0cyhj_'}, {u'LabelName': u'/m/0dj6p'}, {u'LabelName': u'/m/0fldg'}, {u'LabelName': u'/m/0fp6w'}, {u'LabelName': u'/m/0hqkz'}, {u'LabelName': u'/m/0jwn_'}, {u'LabelName': u'/m/0kpqd'}, {u'LabelName': u'/m/0kpt_'}], u'LabelName': u'/m/02xwb'}, {u'LabelName': u'/m/033cnk'}, {u'Subcategory': [{u'LabelName': u'/m/01f91_'}, {u'LabelName': u'/m/01fb_0'}, {u'LabelName': u'/m/01tcjp'}, {u'LabelName': u'/m/021mn'}, {u'LabelName': u'/m/09728'}, {u'Subcategory': [{u'LabelName': u'/m/0jy4k'}, {u'LabelName': u'/m/015wgc'}, {u'LabelName': u'/m/02zvsm'}], u'LabelName': u'/m/0hnyx'}], u'LabelName': u'/m/052lwg6'}, {u'LabelName': u'/m/052sf'}, {u'LabelName': u'/m/05z55'}, {u'LabelName': u'/m/0663v'}, {u'Subcategory': [{u'LabelName': u'/m/09gys'}, {u'Subcategory': [{u'LabelName': u'/m/0_cp5'}, {u'LabelName': u'/m/0cjq5'}, {u'LabelName': u'/m/0ll1f78'}, {u'LabelName': u'/m/0n28_'}], u'LabelName': u'/m/0fbdv'}], u'LabelName': u'/m/06nwz'}, {u'LabelName': u'/m/07crc'}, {u'LabelName': u'/m/07mcwg'}, {u'Subcategory': [{u'LabelName': u'/m/015x4r'}, {u'LabelName': u'/m/015x5n'}, {u'LabelName': u'/m/047v4b'}, {u'LabelName': u'/m/05vtc'}, {u'LabelName': u'/m/07j87'}, {u'LabelName': u'/m/0cjs7'}, {u'Subcategory': [{u'LabelName': u'/m/05zsy'}, {u'LabelName': u'/m/027pcv'}], u'LabelName': u'/m/0dv77'}, {u'LabelName': u'/m/0fbw6'}, {u'LabelName': u'/m/0fj52s'}, {u'LabelName': u'/m/0grw1'}, {u'LabelName': u'/m/0hkxq'}, {u'LabelName': u'/m/0jg57'}, {u'LabelName': u'/m/02cvgx'}], u'LabelName': u'/m/0f4s2w'}, {u'LabelName': u'/m/0fz0h'}, {u'Subcategory': [{u'LabelName': u'/m/0cdn1'}, {u'LabelName': u'/m/06pcq'}], u'LabelName': u'/m/0l515'}, {u'Subcategory': [{u'LabelName': u'/m/01nkt'}, {u'LabelName': u'/m/04zpv'}], u'LabelName': u'/m/0284d'}, {u'LabelName': u'/m/07030'}], u'LabelName': u'/m/02wbm'}\n",
      "{u'Subcategory': [{u'LabelName': u'/m/03fp41'}, {u'Subcategory': [{u'LabelName': u'/m/025nd'}, {u'LabelName': u'/m/0cdl1'}, {u'LabelName': u'/m/0cffdh'}, {u'LabelName': u'/m/0mw_6'}], u'LabelName': u'/m/07j7r'}, {u'Subcategory': [{u'LabelName': u'/m/04gth'}, {u'LabelName': u'/m/06m11'}, {u'LabelName': u'/m/0ftb8'}, {u'LabelName': u'/m/0jqgx'}], u'LabelName': u'/m/0c9ph5'}], u'LabelName': u'/m/05s2s'}\n",
      "{u'Subcategory': [{u'Part': [{u'Subcategory': [{u'LabelName': u'/m/01jfm_'}, {u'LabelName': u'/m/083wq'}, {u'LabelName': u'/m/0dkzw'}, {u'LabelName': u'/m/0h9mv'}], u'LabelName': u'/m/08dz3q'}], u'Subcategory': [{u'LabelName': u'/m/012n7d'}, {u'LabelName': u'/m/018p4k'}, {u'Part': [{u'LabelName': u'/m/01bqk0'}], u'LabelName': u'/m/0199g'}, {u'LabelName': u'/m/01bjv'}, {u'LabelName': u'/m/01x3jk'}, {u'LabelName': u'/m/0323sq'}, {u'LabelName': u'/m/04_sv'}, {u'LabelName': u'/m/076bq'}, {u'LabelName': u'/m/07cmd'}, {u'LabelName': u'/m/07jdr'}, {u'LabelName': u'/m/07r04'}, {u'LabelName': u'/m/0f6nr'}, {u'Subcategory': [{u'LabelName': u'/m/01lcw4'}, {u'LabelName': u'/m/0h2r6'}], u'LabelName': u'/m/0k4j'}, {u'LabelName': u'/m/0pg52'}, {u'LabelName': u'/m/0qmmr'}], u'LabelName': u'/m/01prls'}, {u'Subcategory': [{u'Subcategory': [{u'LabelName': u'/m/01btn'}, {u'LabelName': u'/m/02068x'}, {u'LabelName': u'/m/0ph39'}], u'LabelName': u'/m/019jd'}, {u'LabelName': u'/m/01xs3r'}, {u'LabelName': u'/m/074d1'}], u'LabelName': u'/m/01rzcn'}, {u'Subcategory': [{u'LabelName': u'/m/09ct_'}, {u'LabelName': u'/m/0cmf2'}, {u'LabelName': u'/m/09rvcxw'}], u'LabelName': u'/m/0k5j'}], u'LabelName': u'/m/07yv9'}\n",
      "{u'Subcategory': [{u'LabelName': u'/m/01bfm9'}, {u'LabelName': u'/m/01d40f'}, {u'LabelName': u'/m/01gkx_'}, {u'LabelName': u'/m/01gmv2'}, {u'LabelName': u'/m/01krhy'}, {u'LabelName': u'/m/01n4qj'}, {u'LabelName': u'/m/01xygc'}, {u'LabelName': u'/m/01xyhv'}, {u'Subcategory': [{u'LabelName': u'/m/025rp__'}, {u'LabelName': u'/m/02fq_6'}, {u'LabelName': u'/m/02jfl0'}, {u'LabelName': u'/m/02wbtzl'}], u'LabelName': u'/m/02dl1y'}, {u'LabelName': u'/m/02h19r'}, {u'Subcategory': [{u'LabelName': u'/m/01cmb2'}], u'LabelName': u'/m/02wv6h6'}, {u'LabelName': u'/m/032b3c'}, {u'Subcategory': [{u'Subcategory': [{u'LabelName': u'/m/03grzl'}], u'LabelName': u'/m/0174n1'}, {u'LabelName': u'/m/0176mf'}, {u'LabelName': u'/m/017ftj'}, {u'LabelName': u'/m/01krhy'}, {u'LabelName': u'/m/01llwg'}, {u'LabelName': u'/m/01nq26'}, {u'LabelName': u'/m/01r546'}, {u'LabelName': u'/m/01rkbr'}, {u'LabelName': u'/m/02_n6y'}, {u'Subcategory': [{u'LabelName': u'/m/025rp__'}, {u'LabelName': u'/m/02fq_6'}, {u'LabelName': u'/m/02jfl0'}, {u'LabelName': u'/m/02wbtzl'}], u'LabelName': u'/m/02dl1y'}, {u'LabelName': u'/m/02h19r'}, {u'LabelName': u'/m/080hkjn'}, {u'LabelName': u'/m/0gjkl'}, {u'LabelName': u'/m/0hnnb'}, {u'LabelName': u'/m/0jyfg'}, {u'LabelName': u'/m/0nl46'}], u'LabelName': u'/m/0463sg'}, {u'LabelName': u'/m/04tn4x'}, {u'Subcategory': [{u'LabelName': u'/m/0fly7'}], u'LabelName': u'/m/07mhn'}, {u'Subcategory': [{u'LabelName': u'/m/02p3w7d'}, {u'LabelName': u'/m/01b638'}, {u'LabelName': u'/m/06k2mb'}, {u'LabelName': u'/m/03nfch'}], u'LabelName': u'/m/09j5n'}, {u'LabelName': u'/m/0h8mhzd'}, {u'Subcategory': [{u'LabelName': u'/m/01940j'}, {u'LabelName': u'/m/01s55n'}, {u'LabelName': u'/m/0584n8'}, {u'LabelName': u'/m/080hkjn'}], u'LabelName': u'/m/0hf58v5'}, {u'Subcategory': [{u'LabelName': u'/m/03p3bw'}, {u'LabelName': u'/m/07qxg_'}], u'LabelName': u'/m/0zvk5'}], u'LabelName': u'/m/09j2d'}\n",
      "{u'Subcategory': [{u'Subcategory': [{u'LabelName': u'/m/012074'}, {u'LabelName': u'/m/01dy8n'}, {u'LabelName': u'/m/01f8m5'}, {u'LabelName': u'/m/05n4y'}, {u'LabelName': u'/m/05z6w'}, {u'LabelName': u'/m/06j2d'}, {u'LabelName': u'/m/09b5t'}, {u'LabelName': u'/m/09csl'}, {u'LabelName': u'/m/09d5_'}, {u'LabelName': u'/m/09ddx'}, {u'LabelName': u'/m/0ccs93'}, {u'LabelName': u'/m/0dbvp'}, {u'LabelName': u'/m/0dftk'}, {u'LabelName': u'/m/0f6wt'}, {u'LabelName': u'/m/0gv1x'}, {u'LabelName': u'/m/0h23m'}, {u'LabelName': u'/m/0jly1'}], u'LabelName': u'/m/015p6'}, {u'Subcategory': [{u'LabelName': u'/m/0175cv'}, {u'LabelName': u'/m/019h78'}, {u'Subcategory': [{u'LabelName': u'/m/01h8tj'}, {u'LabelName': u'/m/035vxb'}, {u'LabelName': u'/m/09gys'}, {u'LabelName': u'/m/0cjq5'}, {u'LabelName': u'/m/0d8zb'}, {u'LabelName': u'/m/0ll1f78'}, {u'LabelName': u'/m/0n28_'}], u'LabelName': u'/m/03hl4l9'}, {u'Subcategory': [{u'LabelName': u'/m/01h3n'}, {u'Subcategory': [{u'LabelName': u'/m/0gj37'}], u'LabelName': u'/m/020jm'}, {u'LabelName': u'/m/0_k2'}, {u'Subcategory': [{u'LabelName': u'/m/0cydv'}, {u'LabelName': u'/m/0cyf8'}], u'LabelName': u'/m/0d_2m'}, {u'LabelName': u'/m/0ft9s'}], u'LabelName': u'/m/03vt0'}, {u'LabelName': u'/m/0755b'}, {u'LabelName': u'/m/084hf'}, {u'LabelName': u'/m/09kmb'}, {u'LabelName': u'/m/0_cp5'}, {u'LabelName': u'/m/0f9_l'}], u'LabelName': u'/m/03xxp'}, {u'Subcategory': [{u'LabelName': u'/m/01h44'}, {u'Subcategory': [{u'Subcategory': [{u'LabelName': u'/m/01dxs'}, {u'LabelName': u'/m/03bj1'}, {u'LabelName': u'/m/0633h'}, {u'LabelName': u'/m/0kmg4'}], u'LabelName': u'/m/01dws'}, {u'LabelName': u'/m/01yrx'}, {u'LabelName': u'/m/0306r'}, {u'LabelName': u'/m/0449p'}, {u'LabelName': u'/m/04g2r'}, {u'LabelName': u'/m/06l9r'}, {u'LabelName': u'/m/07dm6'}, {u'LabelName': u'/m/096mb'}, {u'LabelName': u'/m/0bt9lr'}, {u'LabelName': u'/m/0c29q'}, {u'LabelName': u'/m/0cd4d'}, {u'LabelName': u'/m/0cn6p'}, {u'LabelName': u'/m/0dq75'}], u'LabelName': u'/m/01lrl'}, {u'LabelName': u'/m/01x_v'}, {u'LabelName': u'/m/01xq0k1'}, {u'LabelName': u'/m/03bk1'}, {u'LabelName': u'/m/03d443'}, {u'LabelName': u'/m/03fwl'}, {u'LabelName': u'/m/03k3r'}, {u'LabelName': u'/m/03qrc'}, {u'LabelName': u'/m/04c0y'}, {u'LabelName': u'/m/04cp_'}, {u'LabelName': u'/m/04rmv'}, {u'LabelName': u'/m/068zj'}, {u'LabelName': u'/m/06mf6'}, {u'LabelName': u'/m/071qp'}, {u'LabelName': u'/m/07bgp'}, {u'LabelName': u'/m/0898b'}, {u'LabelName': u'/m/08pbxl'}, {u'LabelName': u'/m/09f20'}, {u'LabelName': u'/m/09kx5'}, {u'LabelName': u'/m/0bwd_0j'}, {u'LabelName': u'/m/0c568'}, {u'LabelName': u'/m/0cl4p'}, {u'LabelName': u'/m/0cnyhnx'}, {u'LabelName': u'/m/0czz2'}, {u'LabelName': u'/m/0dbzx'}, {u'Subcategory': [{u'LabelName': u'/m/02hj4'}, {u'LabelName': u'/m/084zz'}, {u'LabelName': u'/m/0gd36'}, {u'LabelName': u'/m/02l8p9'}], u'LabelName': u'/m/0gd2v'}, {u'LabelName': u'/m/0km7z'}, {u'LabelName': u'/m/0pcr'}, {u'LabelName': u'/m/0xfy'}], u'LabelName': u'/m/04rky'}, {u'Subcategory': [{u'LabelName': u'/m/029tx'}, {u'LabelName': u'/m/04m9y'}, {u'LabelName': u'/m/078jl'}, {u'Subcategory': [{u'LabelName': u'/m/011k07'}, {u'LabelName': u'/m/0120dh'}], u'LabelName': u'/m/09dzg'}, {u'LabelName': u'/m/09f_2'}, {u'LabelName': u'/m/09ld4'}], u'LabelName': u'/m/06bt6'}, {u'Subcategory': [{u'LabelName': u'/m/03fj2'}, {u'LabelName': u'/m/0by6g'}, {u'LabelName': u'/m/0m53l'}, {u'LabelName': u'/m/0nybt'}], u'LabelName': u'/m/0ch_cf'}, {u'Subcategory': [{u'LabelName': u'/m/0_cp5'}, {u'LabelName': u'/m/0cjq5'}, {u'LabelName': u'/m/0ll1f78'}, {u'LabelName': u'/m/0n28_'}], u'LabelName': u'/m/0fbdv'}], u'LabelName': u'/m/0jbk'}\n",
      "{u'Subcategory': [{u'LabelName': u'/m/02xb7qb'}, {u'LabelName': u'/m/05w9t9'}, {u'LabelName': u'/m/06c7f7'}, {u'LabelName': u'/m/0p833'}], u'LabelName': u'/m/014trl'}\n",
      "{u'Subcategory': [{u'LabelName': u'/m/012xff'}, {u'LabelName': u'/m/017ftj'}, {u'LabelName': u'/m/02_n6y'}, {u'LabelName': u'/m/05441v'}, {u'LabelName': u'/m/08p92x'}, {u'LabelName': u'/m/0f571'}, {u'LabelName': u'/m/0jyfg'}, {u'LabelName': u'/m/0qmmr'}], u'LabelName': u'/m/02w3_ws'}\n",
      "{u'Subcategory': [{u'LabelName': u'/m/012ysf'}, {u'LabelName': u'/m/02lbcq'}, {u'LabelName': u'/m/073g6'}, {u'LabelName': u'/m/0j496'}], u'LabelName': u'/m/01xgg_'}\n",
      "{u'Subcategory': [{u'LabelName': u'/m/013y1f'}, {u'LabelName': u'/m/018j2'}, {u'LabelName': u'/m/01xqw'}, {u'LabelName': u'/m/026t6'}, {u'LabelName': u'/m/0319l'}, {u'LabelName': u'/m/0342h'}, {u'LabelName': u'/m/03m5k'}, {u'LabelName': u'/m/03q5t'}, {u'LabelName': u'/m/03qjg'}, {u'LabelName': u'/m/057cc'}, {u'LabelName': u'/m/05kms'}, {u'LabelName': u'/m/05r5c'}, {u'LabelName': u'/m/06ncr'}, {u'LabelName': u'/m/07c6l'}, {u'LabelName': u'/m/07gql'}, {u'LabelName': u'/m/07y_7'}, {u'LabelName': u'/m/0f8s22'}, {u'LabelName': u'/m/0l14j_'}, {u'LabelName': u'/m/0mkg'}, {u'LabelName': u'/m/0xzly'}], u'LabelName': u'/m/04szw'}\n",
      "{u'Subcategory': [{u'LabelName': u'/m/014y4n'}, {u'Subcategory': [{u'LabelName': u'/m/01226z'}, {u'LabelName': u'/m/02ctlc'}, {u'LabelName': u'/m/02rgn06'}, {u'LabelName': u'/m/05ctyq'}, {u'LabelName': u'/m/0wdt60w'}], u'LabelName': u'/m/018xm'}, {u'Part': [{u'LabelName': u'/m/01bqk0'}], u'LabelName': u'/m/0199g'}, {u'LabelName': u'/m/019w40'}, {u'LabelName': u'/m/01g3x7'}, {u'LabelName': u'/m/0268lbt'}, {u'LabelName': u'/m/02p3w7d'}, {u'LabelName': u'/m/02wmf'}, {u'LabelName': u'/m/03g8mr'}, {u'LabelName': u'/m/03grzl'}, {u'LabelName': u'/m/0420v5'}, {u'LabelName': u'/m/044r5d'}, {u'LabelName': u'/m/054xkw'}, {u'LabelName': u'/m/057p5t'}, {u'LabelName': u'/m/06__v'}, {u'LabelName': u'/m/06_fw'}, {u'LabelName': u'/m/071p9'}, {u'LabelName': u'/m/07pj7bq'}, {u'LabelName': u'/m/04h8sr'}, {u'LabelName': u'/m/03kt2w'}, {u'LabelName': u'/m/030610'}, {u'LabelName': u'/m/076lb9'}, {u'LabelName': u'/m/03wym'}, {u'LabelName': u'/m/0cqn2'}, {u'LabelName': u'/m/0cyfs'}, {u'Subcategory': [{u'LabelName': u'/m/0h8my_4'}, {u'LabelName': u'/m/05_5p_0'}], u'LabelName': u'/m/0dv9c'}, {u'LabelName': u'/m/0l3ms'}, {u'Subcategory': [{u'LabelName': u'/m/03p3bw'}, {u'LabelName': u'/m/07qxg_'}], u'LabelName': u'/m/0zvk5'}, {u'LabelName': u'/m/04p0qw'}], u'LabelName': u'/m/05y5lj'}\n",
      "{u'Subcategory': [{u'Subcategory': [{u'LabelName': u'/m/02jnhm'}, {u'LabelName': u'/m/02zn6n'}, {u'LabelName': u'/m/04dr76w'}, {u'LabelName': u'/m/07kng9'}, {u'LabelName': u'/m/08hvt4'}, {u'LabelName': u'/m/0bjyj5'}, {u'LabelName': u'/m/0d20w4'}, {u'LabelName': u'/m/0fm3zh'}], u'LabelName': u'/m/011q46kg'}, {u'LabelName': u'/m/012w5l'}, {u'LabelName': u'/m/012xff'}, {u'LabelName': u'/m/01bms0'}, {u'LabelName': u'/m/01d380'}, {u'LabelName': u'/m/01j4z9'}, {u'LabelName': u'/m/01j5ks'}, {u'LabelName': u'/m/01kb5b'}, {u'LabelName': u'/m/01lsmm'}, {u'LabelName': u'/m/02bm9n'}, {u'Subcategory': [{u'LabelName': u'/m/01_5g'}, {u'LabelName': u'/m/027rl48'}, {u'LabelName': u'/m/02d1br'}, {u'LabelName': u'/m/02mqfb'}, {u'LabelName': u'/m/02pdsw'}, {u'LabelName': u'/m/02vwcm'}, {u'LabelName': u'/m/03v5tg'}, {u'LabelName': u'/m/04ctx'}, {u'LabelName': u'/m/04f5ws'}, {u'LabelName': u'/m/07v9_z'}, {u'LabelName': u'/m/08ks85'}, {u'LabelName': u'/m/0cmx8'}, {u'LabelName': u'/m/0dt3t'}], u'LabelName': u'/m/03hlz0c'}, {u'LabelName': u'/m/03l9g'}, {u'LabelName': u'/m/03txqz'}, {u'LabelName': u'/m/04vv5k'}, {u'LabelName': u'/m/05bm6'}, {u'LabelName': u'/m/073bxn'}, {u'LabelName': u'/m/07dd4'}, {u'LabelName': u'/m/0_dqb'}, {u'LabelName': u'/m/0c2jj'}, {u'LabelName': u'/m/0dv5r'}, {u'LabelName': u'/m/0h8jyh6'}, {u'LabelName': u'/m/0hdln'}, {u'LabelName': u'/m/0lt4_'}], u'LabelName': u'/m/07k1x'}\n",
      "{u'Subcategory': [{u'LabelName': u'/m/01g3x7'}, {u'LabelName': u'/m/020kz'}, {u'LabelName': u'/m/02gzp'}, {u'LabelName': u'/m/04ctx'}, {u'LabelName': u'/m/06c54'}, {u'LabelName': u'/m/06nrc'}, {u'LabelName': u'/m/07cmd'}, {u'LabelName': u'/m/0c2jj'}, {u'LabelName': u'/m/0gxl3'}, {u'LabelName': u'/m/06y5r'}, {u'LabelName': u'/m/04ylt'}, {u'LabelName': u'/m/0ct4f'}], u'LabelName': u'/m/083kb'}\n",
      "{u'Subcategory': [{u'LabelName': u'/m/050k8'}, {u'LabelName': u'/m/0h8lkj8'}], u'LabelName': u'/m/07cx4'}\n",
      "{u'Subcategory': [{u'LabelName': u'/m/01599'}, {u'LabelName': u'/m/024g6'}, {u'LabelName': u'/m/02vqfm'}, {u'LabelName': u'/m/01z1kdw'}, {u'LabelName': u'/m/07clx'}, {u'LabelName': u'/m/081qc'}], u'LabelName': u'/m/0271t'}\n",
      "{u'Part': [{u'LabelName': u'/m/03c7gz'}], u'LabelName': u'/m/02dgv'}\n",
      "{u'Part': [{u'LabelName': u'/m/014sv8'}, {u'LabelName': u'/m/016m2d'}, {u'LabelName': u'/m/04hgtk'}, {u'LabelName': u'/m/0dzct'}, {u'LabelName': u'/m/0283dt1'}, {u'LabelName': u'/m/039xj_'}, {u'LabelName': u'/m/0k0pj'}, {u'LabelName': u'/m/03q69'}, {u'LabelName': u'/m/0k65p'}, {u'LabelName': u'/m/031n1'}, {u'LabelName': u'/m/0dzf4'}, {u'LabelName': u'/m/035r7c'}, {u'LabelName': u'/m/015h_t'}], u'LabelName': u'/m/02p0tk3'}\n",
      "{u'Subcategory': [{u'LabelName': u'/m/01jfm_'}, {u'LabelName': u'/m/083wq'}, {u'LabelName': u'/m/0dkzw'}, {u'LabelName': u'/m/0h9mv'}], u'LabelName': u'/m/08dz3q'}\n"
     ]
    }
   ],
   "source": [
    "for item in data['Subcategory']:\n",
    "    if len(item) > 1:\n",
    "        print(item)"
   ]
  },
  {
   "cell_type": "markdown",
   "metadata": {},
   "source": [
    "## max F score"
   ]
  },
  {
   "cell_type": "code",
   "execution_count": 198,
   "metadata": {},
   "outputs": [
    {
     "name": "stderr",
     "output_type": "stream",
     "text": [
      "/usr/local/lib/python2.7/dist-packages/ipykernel_launcher.py:62: RuntimeWarning: Mean of empty slice\n",
      "/usr/local/lib/python2.7/dist-packages/ipykernel_launcher.py:64: RuntimeWarning: Mean of empty slice\n"
     ]
    }
   ],
   "source": [
    "## th 0 - 1.0\n",
    "# threshold = 0.2\n",
    "thresholds = np.linspace(0.0, 1.0, num=11) #\n",
    "precision_per_th = []\n",
    "recall_per_th = []\n",
    "fscore_per_th = []\n",
    "precision_per_raw = []\n",
    "recall_per_raw = []\n",
    "fscore_per_raw = []\n",
    "\n",
    "for idx, threshold in enumerate(thresholds):\n",
    "\n",
    "    gt_num_per_class = np.zeros(object_detection_evaluator._evaluation.num_class+1 )#ignore index = 0\n",
    "    det_num_per_class = np.zeros(object_detection_evaluator._evaluation.num_class+1 )#ignore index = 0\n",
    "    tp_num_per_class = np.zeros(object_detection_evaluator._evaluation.num_class+1 )#ignore index = 0\n",
    "    fp_num_per_class = np.zeros(object_detection_evaluator._evaluation.num_class+1 )#ignore index = 0\n",
    "\n",
    "\n",
    "    for image, decoded_dict in infer_dict.items():\n",
    "        gt_classes_set = set()\n",
    "        for groundtruth_classes in decoded_dict['groundtruth_classes']:\n",
    "            gt_classes_set.add(groundtruth_classes)\n",
    "        for groundtruth_classes in gt_classes_set:\n",
    "            gt_num_per_class[groundtruth_classes] += 1\n",
    "\n",
    "\n",
    "    for image, decoded_dict in infer_dict.items():\n",
    "        index_threshold = np.where(decoded_dict['detection_scores'] >= threshold)\n",
    "        detection_classes_set = set()\n",
    "        for detection_classes in decoded_dict['detection_classes'][index_threshold]:\n",
    "            detection_classes_set.add(detection_classes)\n",
    "        for detection_classes in detection_classes_set:\n",
    "            if detection_classes in decoded_dict['groundtruth_classes']:\n",
    "                tp_num_per_class[detection_classes] += 1\n",
    "            else:\n",
    "                fp_num_per_class[detection_classes] += 1\n",
    "            det_num_per_class[detection_classes] += 1\n",
    "\n",
    "\n",
    "    precision_per_class = np.zeros(object_detection_evaluator._evaluation.num_class+1 )#ignore index = 0\n",
    "    recall_per_class = np.zeros(object_detection_evaluator._evaluation.num_class+1 )#ignore index = 0\n",
    "\n",
    "    for idx, det in enumerate(det_num_per_class):\n",
    "        if det == 0:\n",
    "            precision_per_class[idx] = np.nan\n",
    "        else:\n",
    "            precision_per_class[idx] = tp_num_per_class[idx] / det\n",
    "\n",
    "    for idx, det in enumerate(gt_num_per_class):\n",
    "        if det == 0:\n",
    "            recall_per_class[idx] = np.nan\n",
    "        else:\n",
    "            recall_per_class[idx] = tp_num_per_class[idx] / det\n",
    "\n",
    "    fscore_per_class = np.zeros(object_detection_evaluator._evaluation.num_class+1 )#ignore index = 0\n",
    "    for idx, fscore in enumerate(fscore_per_class):\n",
    "        if precision_per_class[idx] == 0 and recall_per_class[idx] == 0:\n",
    "            fscore_per_class[idx] = 0\n",
    "        else :\n",
    "            fscore_per_class[idx] = 2.0/(precision_per_class[idx] + recall_per_class[idx])*precision_per_class[idx]*recall_per_class[idx]\n",
    "\n",
    "    precision_per_th.append(np.nanmean(precision_per_class))\n",
    "    recall_per_th.append(np.nanmean(recall_per_class))\n",
    "    fscore_per_th.append(np.nanmean(fscore_per_class))\n",
    "    precision_per_raw.append(precision_per_class)\n",
    "    recall_per_raw.append(recall_per_class)\n",
    "    fscore_per_raw.append(fscore_per_class)\n",
    "    \n",
    "    \n",
    "\n"
   ]
  },
  {
   "cell_type": "code",
   "execution_count": 208,
   "metadata": {},
   "outputs": [],
   "source": [
    "max_fscore_per_class = []\n",
    "max_fscore_per_class_threshold = []\n",
    "max_fscore_per_class_p = []\n",
    "max_fscore_per_class_r = []\n",
    "for idx_class in range(object_detection_evaluator._evaluation.num_class+1 ):\n",
    "    max_thres_idx = -1\n",
    "    max_fscore = -1\n",
    "    max_thres = -1\n",
    "    for idx, threshold in enumerate(thresholds):\n",
    "        temp = max(max_fscore, fscore_per_raw[idx][idx_class])\n",
    "        if temp > max_fscore:\n",
    "            max_fscore = temp\n",
    "            max_thres = threshold\n",
    "            max_thres_idx = idx\n",
    "    max_fscore_per_class.append(max_fscore)\n",
    "    max_fscore_per_class_threshold.append(max_thres)\n",
    "    max_fscore_per_class_p.append(precision_per_raw[max_thres_idx][idx_class])\n",
    "    max_fscore_per_class_r.append(recall_per_raw[max_thres_idx][idx_class])"
   ]
  },
  {
   "cell_type": "code",
   "execution_count": 209,
   "metadata": {},
   "outputs": [],
   "source": [
    "max_fscore_per_class = np.array(max_fscore_per_class)\n",
    "max_fscore_per_class_threshold = np.array(max_fscore_per_class_threshold)\n",
    "max_fscore_per_class_p = np.array(max_fscore_per_class_p)\n",
    "max_fscore_per_class_r = np.array(max_fscore_per_class_r)\n",
    "select_idx = np.where(max_fscore_per_class == -1)\n",
    "\n",
    "max_fscore_per_class[select_idx] = np.nan\n",
    "max_fscore_per_class_threshold[select_idx] = np.nan\n",
    "max_fscore_per_class_p[select_idx] = np.nan\n",
    "max_fscore_per_class_r[select_idx] = np.nan"
   ]
  },
  {
   "cell_type": "code",
   "execution_count": 210,
   "metadata": {},
   "outputs": [
    {
     "name": "stdout",
     "output_type": "stream",
     "text": [
      "0.6051388386668302\n",
      "0.5976146788990827\n",
      "0.5784101491336041\n",
      "0.6731040440112823\n"
     ]
    }
   ],
   "source": [
    "print(np.nanmean(max_fscore_per_class))\n",
    "print(np.nanmean(max_fscore_per_class_threshold))\n",
    "print(np.nanmean(max_fscore_per_class_p))\n",
    "print(np.nanmean(max_fscore_per_class_r))\n"
   ]
  },
  {
   "cell_type": "code",
   "execution_count": 216,
   "metadata": {},
   "outputs": [
    {
     "name": "stdout",
     "output_type": "stream",
     "text": [
      "('label', 'Precision', 'Recall', 'F score', 'confidence', '# of gt')\n",
      "(u'Parking meter', 1.0, 1.0, 1.0, 0.9, 3.0)\n",
      "(u'Coconut', 0.3548387096774194, 0.5238095238095238, 0.42307692307692313, 0.7000000000000001, 21.0)\n"
     ]
    }
   ],
   "source": [
    "print('label','Precision','Recall','F score','confidence','# of gt')\n",
    "idx = 546 \n",
    "print(category_index[idx]['name'],max_fscore_per_class_p[idx],max_fscore_per_class_r[idx],max_fscore_per_class[idx],max_fscore_per_class_threshold[idx],gt_num_per_class[idx])\n",
    "idx = 547 \n",
    "print(category_index[idx]['name'],max_fscore_per_class_p[idx],max_fscore_per_class_r[idx],max_fscore_per_class[idx],max_fscore_per_class_threshold[idx],gt_num_per_class[idx])\n",
    "\n",
    "\n",
    "\n"
   ]
  },
  {
   "cell_type": "code",
   "execution_count": 224,
   "metadata": {},
   "outputs": [
    {
     "name": "stdout",
     "output_type": "stream",
     "text": [
      "[0.934 0.837 0.803 0.949 0.705 0.937 0.796 0.909 0.934 0.84  0.869 0.775\n",
      " 0.925 0.729 0.784 0.935 0.851 0.874 0.661 0.873 0.851 0.891 0.759 0.817\n",
      " 0.9   0.748 0.931 0.851 0.745 0.853 0.975 0.865 0.886 0.703 0.846 0.872\n",
      " 0.859 0.811 0.895 0.968 0.988 0.919 0.824 0.88  0.77  0.909 0.793 0.819\n",
      " 0.767 0.907 0.915 0.776 0.921 0.846 0.702 0.853 0.977 0.821 0.808 0.797\n",
      " 0.808 0.882 0.653 0.986 0.75  0.967 0.765 0.943 0.953 0.766 0.75  0.812\n",
      " 0.868 0.75  0.747 0.814 0.795 0.756 0.885 0.861 0.75  0.826 0.846 0.882\n",
      " 0.708 0.763 0.684 0.833 0.692 0.836 0.824 0.882 0.955 0.934 0.933 0.845\n",
      " 0.667 0.895 0.8   0.817 0.849 0.683 0.891 0.863 0.747 0.917 0.857 0.87\n",
      " 0.737 0.867 0.826 0.661 0.864 0.718 0.921 0.949 0.717 0.898 0.764 0.657\n",
      " 0.938 0.651 0.778 0.762 1.    0.667 0.7   0.9   0.833 1.   ]\n",
      "[0.947 0.853 0.767 0.957 0.844 0.925 0.824 0.818 0.935 0.862 0.918 0.786\n",
      " 0.846 0.799 0.753 0.87  0.86  0.839 0.888 0.941 0.682 0.803 0.759 0.786\n",
      " 0.936 0.757 0.875 0.822 0.909 0.771 0.846 0.918 0.89  0.853 0.85  0.736\n",
      " 0.811 0.938 0.922 0.898 0.8   0.782 0.903 0.954 0.743 0.927 0.925 0.897\n",
      " 0.767 0.799 0.927 0.788 0.786 0.71  0.83  0.9   0.915 0.788 0.812 0.895\n",
      " 0.833 0.857 0.982 0.932 0.838 0.906 0.759 0.961 0.774 0.788 0.943 0.949\n",
      " 0.889 0.851 0.845 0.909 0.824 0.791 0.9   0.838 0.863 0.844 0.815 0.938\n",
      " 0.829 0.91  0.861 0.952 0.847 0.864 0.871 0.833 0.778 0.919 0.8   0.804\n",
      " 1.    0.969 0.97  0.875 0.898 0.854 0.911 0.913 0.982 0.846 1.    0.94\n",
      " 0.933 1.    0.731 0.907 0.826 0.847 0.729 0.804 0.956 0.93  0.933 0.885\n",
      " 0.918 0.891 0.75  0.889 0.957 0.889 1.    0.9   0.75  1.   ]\n"
     ]
    },
    {
     "name": "stderr",
     "output_type": "stream",
     "text": [
      "/usr/local/lib/python2.7/dist-packages/ipykernel_launcher.py:1: RuntimeWarning: invalid value encountered in greater\n",
      "  \"\"\"Entry point for launching an IPython kernel.\n"
     ]
    }
   ],
   "source": [
    "select_idx = np.where(max_fscore_per_class > 0.75)\n",
    "# print([category_index[x]['name'] for x in select_idx[0]])\n",
    "print(max_fscore_per_class_p[select_idx])\n",
    "print(max_fscore_per_class_r[select_idx])\n",
    "\n"
   ]
  },
  {
   "cell_type": "markdown",
   "metadata": {},
   "source": [
    "# F > 0.75, and the rest max P =0.75 "
   ]
  },
  {
   "cell_type": "code",
   "execution_count": 245,
   "metadata": {},
   "outputs": [
    {
     "name": "stdout",
     "output_type": "stream",
     "text": [
      "-1\n",
      "0.3854384316585099\n",
      "-1\n",
      "0.5771647017937819\n",
      "-1\n",
      "0.5309399757333524\n",
      "-1\n",
      "0.4174895512791072\n",
      "-1\n",
      "0.2617510476837694\n",
      "-1\n",
      "0.11803364879074658\n",
      "-1\n",
      "0.03347221241437751\n",
      "-1\n",
      "0.005052327679538073\n",
      "-1\n",
      "0.0002897291032884253\n",
      "-1\n",
      "nan\n",
      "-1\n",
      "nan\n"
     ]
    },
    {
     "name": "stderr",
     "output_type": "stream",
     "text": [
      "/usr/local/lib/python2.7/dist-packages/ipykernel_launcher.py:5: RuntimeWarning: invalid value encountered in less\n",
      "  \"\"\"\n"
     ]
    }
   ],
   "source": [
    "set_fscore_per_class = []\n",
    "# set_fscore_per_class_threshold = []\n",
    "set_fscore_per_class_p = []\n",
    "set_fscore_per_class_r = []\n",
    "select_idx = np.where(max_fscore_per_class < 0.75)\n",
    "th = 0.75\n",
    "for idx_class, fscore in enumerate(max_fscore_per_class):\n",
    "    if fscore < th:\n",
    "        max_thres_idx = -1\n",
    "        max_fscore = -1\n",
    "        max_thres = -1\n",
    "        for idx_th, precision_per_class_ in enumerate(precision_per_raw):\n",
    "            if idx_class == 2:\n",
    "#                 print(max_thres_idx)\n",
    "#                 print(fscore_per_raw[idx_th][idx_class])\n",
    "            if idx_th < 4:\n",
    "                continue\n",
    "            if precision_per_class_[idx_class] != np.nan and precision_per_class_[idx_class] > th:\n",
    "                max_thres_idx = idx_th\n",
    "                break\n",
    "        if max_thres_idx != -1:\n",
    "            set_fscore_per_class.append(fscore_per_raw[idx_th][idx_class])\n",
    "            set_fscore_per_class_p.append(precision_per_raw[idx_th][idx_class])\n",
    "            set_fscore_per_class_r.append(recall_per_raw[idx_th][idx_class])\n",
    "            continue\n",
    "\n",
    "   \n",
    "    set_fscore_per_class.append(max_fscore_per_class[idx_class])\n",
    "    set_fscore_per_class_p.append(max_fscore_per_class_p[idx_class])\n",
    "    set_fscore_per_class_r.append(max_fscore_per_class_r[idx_class])\n",
    "\n",
    "\n",
    "\n",
    "\n"
   ]
  },
  {
   "cell_type": "code",
   "execution_count": 263,
   "metadata": {},
   "outputs": [
    {
     "name": "stdout",
     "output_type": "stream",
     "text": [
      "0.5425991392873037\n",
      "0.6664566915400117\n",
      "0.5631526319892638\n",
      "0\n"
     ]
    }
   ],
   "source": [
    "print(np.nanmean(set_fscore_per_class))\n",
    "print(np.nanmean(set_fscore_per_class_p))\n",
    "print(np.nanmean(set_fscore_per_class_r))\n",
    "\n",
    "select_idx = np.where(set_fscore_per_class <= 0.75)\n",
    "print(len(select_idx[0]))"
   ]
  },
  {
   "cell_type": "code",
   "execution_count": 266,
   "metadata": {},
   "outputs": [
    {
     "name": "stdout",
     "output_type": "stream",
     "text": [
      "181\n"
     ]
    }
   ],
   "source": [
    "cnt = 0\n",
    "for xx in set_fscore_per_class_p:\n",
    "    if xx < 0.6:\n",
    "        cnt += 1\n",
    "print(cnt)"
   ]
  },
  {
   "cell_type": "code",
   "execution_count": 246,
   "metadata": {},
   "outputs": [
    {
     "data": {
      "text/plain": [
       "nan"
      ]
     },
     "execution_count": 246,
     "metadata": {},
     "output_type": "execute_result"
    }
   ],
   "source": [
    "fscore_per_raw[10][2]"
   ]
  },
  {
   "cell_type": "code",
   "execution_count": 247,
   "metadata": {},
   "outputs": [
    {
     "data": {
      "text/plain": [
       "[nan,\n",
       " 0.4178205900060204,\n",
       " 0.5771647017937819,\n",
       " 0.44013000342114267,\n",
       " 0.557889894188008,\n",
       " 0.39968457812323976,\n",
       " 0.2668423033496425,\n",
       " 0.3201963725623892,\n",
       " 0.00042211903756859433,\n",
       " 0.5062111801242236,\n",
       " 0.00040273862263391055,\n",
       " 0.12548067192875936,\n",
       " 0.18579034330824307,\n",
       " 0.13066825775656327,\n",
       " 0.9402085590465873,\n",
       " 0.3845281949560782,\n",
       " 0.3450550993191549,\n",
       " 0.8449119731171012,\n",
       " 0.30703085483055137,\n",
       " 0.1845062093435837,\n",
       " 0.535323383084577,\n",
       " 0.36910377358490565,\n",
       " 0.015439429928741092,\n",
       " 0.025336500395882817,\n",
       " 0.3009478672985782,\n",
       " 0.6051282051282051,\n",
       " 0.24242424242424243,\n",
       " 0.7846350832266327,\n",
       " 0.2379204892966361,\n",
       " 0.6246719160104988,\n",
       " 0.9528936742934051,\n",
       " 0.16939890710382513,\n",
       " 0.5325740758614034,\n",
       " 0.16223067173637518,\n",
       " 0.2502266545784224,\n",
       " 0.472316384180791,\n",
       " 0.7681199666759235,\n",
       " 0.1448743518149182,\n",
       " 0.02100840336134454,\n",
       " 0.46908422880438894,\n",
       " 0.9308047155304973,\n",
       " 0.005988023952095808,\n",
       " 0.45338567222767423,\n",
       " 0.8097560975609757,\n",
       " 0.38644067796610176,\n",
       " 0.22599363346975895,\n",
       " 0.5482233502538072,\n",
       " 0.0021448999046711154,\n",
       " 0.31422505307855625,\n",
       " 0.1978798586572438,\n",
       " 0.21270718232044197,\n",
       " 0.3667820069204152,\n",
       " 0.45,\n",
       " 0.572541382667965,\n",
       " 0.8610634648370498,\n",
       " 0.15355805243445697,\n",
       " 0.32925472747497214,\n",
       " 0.19201995012468828,\n",
       " 0.22388059701492535,\n",
       " 0.6410256410256411,\n",
       " 0.5285285285285285,\n",
       " 0.0030075187969924814,\n",
       " 0.10759115361625823,\n",
       " 0.3908855131530197,\n",
       " 0.06059519541054142,\n",
       " 0.2296368989205103,\n",
       " 0.9342915811088297,\n",
       " 0.8508287292817679,\n",
       " 0.1105263157894737,\n",
       " 0.3387096774193548,\n",
       " 0.1326980765837304,\n",
       " 0.10206896551724139,\n",
       " 0.16972477064220184,\n",
       " 0.03278688524590164,\n",
       " 0.6049822064056939,\n",
       " 0.34501347708894875,\n",
       " 0.8928352725045927,\n",
       " 0.018181818181818184,\n",
       " 0.3382352941176471,\n",
       " 0.40852878464818765,\n",
       " 0.2848521424260712,\n",
       " 0.10711981071198105,\n",
       " 0.5967016491754122,\n",
       " 0.3092240117130307,\n",
       " 0.6227544910179641,\n",
       " 0.6765578635014837,\n",
       " 0.7801418439716312,\n",
       " 0.8837209302325582,\n",
       " 0.578227245687091,\n",
       " 0.36106750392464676,\n",
       " 0.6129870129870131,\n",
       " 0.3481624758220503,\n",
       " 0.4150943396226415,\n",
       " 0.7627551020408162,\n",
       " 0.4840182648401826,\n",
       " 0.4369230769230769,\n",
       " 0.41100601891659505,\n",
       " 0.37681159420289856,\n",
       " 0.11814345991561181,\n",
       " 0.42657342657342656,\n",
       " 0.768285873813512,\n",
       " 0.625984251968504,\n",
       " 0.36736187339919507,\n",
       " 0.21262458471760795,\n",
       " 0.22591943957968474,\n",
       " 0.5038167938931297,\n",
       " 0.6138613861386139,\n",
       " 0.5031847133757962,\n",
       " 0.5051903114186851,\n",
       " 0.683127572016461,\n",
       " 0.5875706214689266,\n",
       " 0.9013452914798207,\n",
       " 0.5867158671586715,\n",
       " 0.13679245283018868,\n",
       " 0.5170731707317073,\n",
       " 0.855721393034826,\n",
       " 0.48275862068965514,\n",
       " 0.023255813953488375,\n",
       " 0.6773333333333332,\n",
       " 0.5810810810810811,\n",
       " 0.855907780979827,\n",
       " 0.17924528301886794,\n",
       " 0.7578288100208768,\n",
       " 0.42105263157894735,\n",
       " 0.5150214592274678,\n",
       " 0.9058064516129033,\n",
       " nan,\n",
       " 0.670391061452514,\n",
       " 0.14851485148514848,\n",
       " 0.020618556701030924,\n",
       " 0.5273437499999999,\n",
       " 0.3588516746411483,\n",
       " 0.6395348837209303,\n",
       " 0.5060240963855421,\n",
       " 0.6752136752136751,\n",
       " 0.42857142857142855,\n",
       " 0.7570332480818415,\n",
       " 0.6803519061583578,\n",
       " 0.4923076923076923,\n",
       " 0.18757921419518378,\n",
       " 0.844621513944223,\n",
       " 0.4251207729468599,\n",
       " 0.18894830659536538,\n",
       " 0.4939759036144578,\n",
       " 0.48717948717948717,\n",
       " 0.031746031746031744,\n",
       " 0.5163934426229507,\n",
       " 0.5523114355231143,\n",
       " 0.7594339622641509,\n",
       " 0.3794871794871795,\n",
       " 0.5903614457831325,\n",
       " 0.2504604051565378,\n",
       " 0.26666666666666666,\n",
       " 0.48550724637681153,\n",
       " 0.1724137931034483,\n",
       " 0.21359223300970875,\n",
       " 0.38139534883720927,\n",
       " 0.5704225352112676,\n",
       " 0.35593220338983056,\n",
       " 0.22875816993464052,\n",
       " 0.6984126984126984,\n",
       " 0.6398537477148081,\n",
       " 0.5081967213114754,\n",
       " 0.5714285714285715,\n",
       " 0.6903553299492384,\n",
       " 0.5583756345177665,\n",
       " 0.8015564202334632,\n",
       " 0.6812499999999999,\n",
       " 0.5799256505576208,\n",
       " 0.9175377468060395,\n",
       " 0.7012987012987013,\n",
       " 0.08695652173913045,\n",
       " 0.18250950570342206,\n",
       " 0.4513888888888889,\n",
       " 0.752442996742671,\n",
       " 0.6639175257731958,\n",
       " 0.6287878787878789,\n",
       " 0.13114754098360656,\n",
       " 0.140625,\n",
       " 0.6423357664233578,\n",
       " 0.5714285714285715,\n",
       " 0.4358974358974359,\n",
       " 0.7100977198697068,\n",
       " 0.3898305084745763,\n",
       " 0.5207296849087895,\n",
       " 0.6350974930362117,\n",
       " 0.017241379310344827,\n",
       " 0.29743589743589743,\n",
       " 0.699421965317919,\n",
       " 0.05714285714285714,\n",
       " 0.676470588235294,\n",
       " 0.9021479713603819,\n",
       " 0.5288461538461539,\n",
       " 0.8361581920903954,\n",
       " 0.576923076923077,\n",
       " 0.6682242990654206,\n",
       " 0.8187134502923977,\n",
       " 0.8101265822784811,\n",
       " 0.9055118110236219,\n",
       " 0.8903654485049834,\n",
       " 0.8878718535469108,\n",
       " 0.4260355029585799,\n",
       " 0.6758147512864494,\n",
       " 0.18181818181818182,\n",
       " 0.6583850931677019,\n",
       " 0.6419753086419753,\n",
       " 0.016,\n",
       " 0.44137931034482764,\n",
       " 0.5185185185185186,\n",
       " 0.6370023419203747,\n",
       " 0.24074074074074076,\n",
       " 0.5849056603773586,\n",
       " 0.7214611872146119,\n",
       " 0.5027322404371586,\n",
       " 0.3979591836734694,\n",
       " 0.7710843373493975,\n",
       " 0.23129251700680273,\n",
       " 0.07228915662650601,\n",
       " 0.3693379790940767,\n",
       " 0.4295302013422819,\n",
       " 0.8483516483516484,\n",
       " 0.5161290322580645,\n",
       " 0.7983193277310925,\n",
       " 0.3305785123966942,\n",
       " 0.44583333333333336,\n",
       " 0.8342857142857144,\n",
       " 0.8695652173913043,\n",
       " 0.24427480916030533,\n",
       " 0.9082125603864734,\n",
       " 0.93125,\n",
       " 0.4585365853658537,\n",
       " 0.6428571428571428,\n",
       " 0.6005361930294907,\n",
       " 0.5111111111111111,\n",
       " 0.5181347150259068,\n",
       " 0.6941176470588234,\n",
       " 0.8839779005524862,\n",
       " 0.6333333333333333,\n",
       " 0.84472049689441,\n",
       " 0.1349206349206349,\n",
       " 0.8615384615384616,\n",
       " 0.9157509157509159,\n",
       " 0.573170731707317,\n",
       " 0.48378378378378384,\n",
       " 0.7560975609756098,\n",
       " 0.9180327868852459,\n",
       " 0.3651452282157676,\n",
       " 0.009950248756218907,\n",
       " 0.5030674846625767,\n",
       " 0.6264150943396226,\n",
       " 0.6883116883116883,\n",
       " 0.8538461538461537,\n",
       " 0.23076923076923073,\n",
       " 0.8560606060606061,\n",
       " 0.5984848484848485,\n",
       " 0.7671232876712328,\n",
       " 0.4347826086956522,\n",
       " 0.5066666666666666,\n",
       " 0.7027027027027026,\n",
       " 0.366412213740458,\n",
       " 0.8497109826589596,\n",
       " 0.6953125,\n",
       " 0.9207708779443253,\n",
       " 0.41891891891891886,\n",
       " 0.75,\n",
       " 0.7311827956989247,\n",
       " 0.6215139442231075,\n",
       " 0.7821522309711286,\n",
       " 0.2773109243697479,\n",
       " 0.6906474820143886,\n",
       " 0.75,\n",
       " 0.47963800904977383,\n",
       " 0.2857142857142857,\n",
       " 0.4057971014492754,\n",
       " 0.6168224299065421,\n",
       " 0.6580645161290323,\n",
       " 0.6681715575620767,\n",
       " 0.848314606741573,\n",
       " 0.6234413965087281,\n",
       " 0.7272727272727273,\n",
       " 0.7719298245614036,\n",
       " 0.27385892116182575,\n",
       " 0.5081081081081081,\n",
       " 0.4285714285714286,\n",
       " 0.05333333333333333,\n",
       " 0.7604166666666666,\n",
       " 0.6495726495726495,\n",
       " 0.8756756756756757,\n",
       " 0.9450549450549451,\n",
       " 0.7349397590361445,\n",
       " 0.052631578947368425,\n",
       " 0.8041237113402061,\n",
       " 0.4950495049504951,\n",
       " 0.8098434004474274,\n",
       " 0.7333333333333333,\n",
       " 0.8429752066115702,\n",
       " 0.5371428571428573,\n",
       " 0.06451612903225806,\n",
       " 0.5159420289855073,\n",
       " 0.6268656716417911,\n",
       " 0.8203125,\n",
       " 0.3185840707964601,\n",
       " 0.3298969072164949,\n",
       " 0.7126436781609194,\n",
       " 0.6816143497757847,\n",
       " 0.5617977528089889,\n",
       " 0.6197183098591549,\n",
       " 0.6820809248554914,\n",
       " 0.8695652173913043,\n",
       " 0.7841726618705037,\n",
       " 0.6260869565217392,\n",
       " 0.9583333333333335,\n",
       " 0.5636363636363636,\n",
       " 0.3598326359832636,\n",
       " 0.3919597989949749,\n",
       " 0.27380952380952384,\n",
       " 0.3181818181818182,\n",
       " 0.5777777777777778,\n",
       " 0.7085714285714286,\n",
       " 0.5040650406504066,\n",
       " 0.7916666666666665,\n",
       " 0.5563909774436091,\n",
       " 0.5,\n",
       " 0.9354838709677419,\n",
       " 0.7619047619047619,\n",
       " 0.5454545454545454,\n",
       " 0.951923076923077,\n",
       " 0.676470588235294,\n",
       " 0.8541666666666667,\n",
       " 0.6153846153846153,\n",
       " 0.553191489361702,\n",
       " 0.7772511848341231,\n",
       " 0.5138888888888888,\n",
       " 0.8354430379746836,\n",
       " 0.875,\n",
       " 0.14925373134328357,\n",
       " 0.5,\n",
       " 0.8784313725490195,\n",
       " 0.7392550143266475,\n",
       " 0.3076923076923077,\n",
       " 0.33121019108280253,\n",
       " 0.7974683544303798,\n",
       " 0.4444444444444444,\n",
       " 0.5794392523364486,\n",
       " 0.7930029154518952,\n",
       " 0.4307692307692308,\n",
       " 0.5668449197860963,\n",
       " 0.8588957055214723,\n",
       " 0.8092485549132948,\n",
       " 0.45714285714285713,\n",
       " 0.7200000000000001,\n",
       " 0.7727272727272727,\n",
       " 0.8925619834710744,\n",
       " 0.5326633165829145,\n",
       " 0.7058823529411764,\n",
       " 0.6304347826086956,\n",
       " 0.8493150684931507,\n",
       " 0.42622950819672134,\n",
       " 0.8023255813953488,\n",
       " 0.8351648351648351,\n",
       " 0.43421052631578944,\n",
       " 0.5333333333333333,\n",
       " 0.5842696629213484,\n",
       " 0.7027027027027026,\n",
       " 0.5517241379310344,\n",
       " 0.7241379310344827,\n",
       " 0.6050420168067226,\n",
       " 0.7101449275362318,\n",
       " 0.6666666666666667,\n",
       " 0.7424242424242424,\n",
       " 0.5050505050505051,\n",
       " 0.830188679245283,\n",
       " 0.9090909090909091,\n",
       " 0.7636363636363636,\n",
       " 0.45454545454545453,\n",
       " 0.8304093567251462,\n",
       " 0.6274509803921569,\n",
       " 0.7622950819672133,\n",
       " 0.6919431279620853,\n",
       " 0.6610169491525424,\n",
       " 0.5396825396825398,\n",
       " 0.888888888888889,\n",
       " 0.05714285714285715,\n",
       " 0.6666666666666666,\n",
       " 0.4923076923076923,\n",
       " 0.761904761904762,\n",
       " 0.24675324675324675,\n",
       " 0.27450980392156865,\n",
       " 0.25157232704402516,\n",
       " 0.7248322147651006,\n",
       " 0.39999999999999997,\n",
       " 0.85,\n",
       " 0.4827586206896551,\n",
       " 0.3939393939393939,\n",
       " 0.4000000000000001,\n",
       " 0.5777777777777778,\n",
       " 0.8472222222222222,\n",
       " 0.2752293577981651,\n",
       " 0.8571428571428571,\n",
       " 0.8571428571428572,\n",
       " 0.9268292682926831,\n",
       " 0.8615384615384616,\n",
       " 0.8241206030150754,\n",
       " 0.6095238095238096,\n",
       " 0.8,\n",
       " 0.490566037735849,\n",
       " 0.2307692307692308,\n",
       " 0.6077348066298343,\n",
       " 0.5739130434782609,\n",
       " 0.08695652173913045,\n",
       " 0.6909090909090909,\n",
       " 0.9306930693069306,\n",
       " 0.5954198473282443,\n",
       " 0.5631067961165048,\n",
       " 0.4938271604938272,\n",
       " 0.7320261437908497,\n",
       " 0.08888888888888888,\n",
       " 0.8767123287671232,\n",
       " 0.7414634146341463,\n",
       " 0.4210526315789474,\n",
       " 0.5783132530120482,\n",
       " 0.39999999999999997,\n",
       " 0.8448275862068966,\n",
       " 0.8729281767955801,\n",
       " 0.4912280701754386,\n",
       " 0.7592592592592592,\n",
       " 0.9010989010989011,\n",
       " 0.5686274509803921,\n",
       " 0.8873239436619718,\n",
       " 0.5490196078431372,\n",
       " 0.23076923076923073,\n",
       " 0.06779661016949153,\n",
       " 0.47706422018348627,\n",
       " 0.6388888888888888,\n",
       " 0.45614035087719307,\n",
       " 0.8484848484848485,\n",
       " 0.2372881355932204,\n",
       " 0.5217391304347826,\n",
       " 0.3541666666666667,\n",
       " 0.7261146496815286,\n",
       " 0.3529411764705882,\n",
       " 0.88,\n",
       " 0.6210526315789474,\n",
       " 0.923076923076923,\n",
       " 0.7,\n",
       " 0.7142857142857142,\n",
       " 0.5614035087719298,\n",
       " 0.4745762711864407,\n",
       " 0.3333333333333333,\n",
       " 0.7000000000000001,\n",
       " 0.903846153846154,\n",
       " 0.823529411764706,\n",
       " 0.7027027027027026,\n",
       " 0.5882352941176471,\n",
       " 0.0634920634920635,\n",
       " 0.5,\n",
       " 0.9285714285714286,\n",
       " 0.4571428571428572,\n",
       " 0.6428571428571428,\n",
       " 0.17721518987341775,\n",
       " 0.16666666666666669,\n",
       " 0.6242774566473989,\n",
       " 0.5294117647058824,\n",
       " 0.7424242424242424,\n",
       " 0.47244094488188976,\n",
       " 0.7755102040816326,\n",
       " 0.6122448979591837,\n",
       " 0.7647058823529412,\n",
       " 0.45,\n",
       " 0.7042253521126761,\n",
       " 0.8444444444444443,\n",
       " 0.7770700636942676,\n",
       " 0.6666666666666665,\n",
       " 0.38095238095238093,\n",
       " 0.24242424242424243,\n",
       " 0.7142857142857143,\n",
       " 0.5,\n",
       " 0.3913043478260869,\n",
       " 0.813953488372093,\n",
       " 0.5060240963855421,\n",
       " 0.5517241379310345,\n",
       " 0.8705882352941177,\n",
       " 0.5846153846153848,\n",
       " 0.8190476190476191,\n",
       " 0.6315789473684209,\n",
       " 0.6310679611650485,\n",
       " 0.15384615384615388,\n",
       " 0.9137931034482758,\n",
       " 0.17142857142857143,\n",
       " 0.6666666666666666,\n",
       " 0.4444444444444445,\n",
       " 0.8400000000000001,\n",
       " 0.34482758620689663,\n",
       " 0.7096774193548387,\n",
       " 0.6466165413533833,\n",
       " 0.7540983606557378,\n",
       " 0.9278350515463918,\n",
       " 0.5666666666666667,\n",
       " 0.5348837209302326,\n",
       " 0.7058823529411764,\n",
       " 0.6976744186046512,\n",
       " 0.7522935779816515,\n",
       " 0.48571428571428565,\n",
       " 0.7636363636363637,\n",
       " 0.8205128205128205,\n",
       " 0.32,\n",
       " 0.38888888888888884,\n",
       " 0.9782608695652173,\n",
       " 0.5714285714285714,\n",
       " 0.5217391304347826,\n",
       " 0.761904761904762,\n",
       " 0.25,\n",
       " 0.18604651162790697,\n",
       " 0.5161290322580645,\n",
       " 0.6,\n",
       " 0.5925925925925927,\n",
       " 0.6206896551724138,\n",
       " 0.631578947368421,\n",
       " 0.7083333333333335,\n",
       " 0.6,\n",
       " 0.8235294117647058,\n",
       " 0.4444444444444445,\n",
       " 0.26666666666666666,\n",
       " 0.4225352112676056,\n",
       " 0.3529411764705882,\n",
       " 0.5357142857142857,\n",
       " 0.6666666666666666,\n",
       " 0.9,\n",
       " 0.24000000000000002,\n",
       " 0.43750000000000006,\n",
       " 0.27692307692307694,\n",
       " 0.6842105263157894,\n",
       " 0.7894736842105263,\n",
       " 0.5217391304347825,\n",
       " 0.5405405405405406,\n",
       " 0.16666666666666669,\n",
       " 0.0689655172413793,\n",
       " 0.375,\n",
       " 0.5116279069767442,\n",
       " 0.5,\n",
       " 0.6428571428571428,\n",
       " 0.5116279069767442,\n",
       " 0.7142857142857143,\n",
       " 0.22222222222222224,\n",
       " nan,\n",
       " 0.5,\n",
       " 1.0,\n",
       " 0.42307692307692313]"
      ]
     },
     "execution_count": 247,
     "metadata": {},
     "output_type": "execute_result"
    }
   ],
   "source": [
    "set_fscore_per_class"
   ]
  },
  {
   "cell_type": "code",
   "execution_count": 248,
   "metadata": {},
   "outputs": [
    {
     "data": {
      "text/plain": [
       "array([  nan, 0.701, 0.577, 0.627, 0.659, 0.579, 0.538, 0.636, 0.226,\n",
       "       0.622, 0.358, 0.542, 0.596, 0.131, 0.94 , 0.6  , 0.717, 0.845,\n",
       "       0.307, 0.332, 0.584, 0.498, 0.332, 0.49 , 0.494, 0.712, 0.242,\n",
       "       0.785, 0.238, 0.659, 0.953, 0.169, 0.533, 0.434, 0.25 , 0.472,\n",
       "       0.768, 0.614, 0.422, 0.469, 0.931, 0.2  , 0.627, 0.81 , 0.58 ,\n",
       "       0.226, 0.643, 0.413, 0.509, 0.53 , 0.213, 0.619, 0.45 , 0.673,\n",
       "       0.861, 0.577, 0.329, 0.192, 0.471, 0.736, 0.529, 0.492, 0.51 ,\n",
       "       0.391, 0.503, 0.23 , 0.934, 0.851, 0.421, 0.339, 0.448, 0.364,\n",
       "       0.563, 0.262, 0.67 , 0.505, 0.893, 0.329, 0.616, 0.409, 0.532,\n",
       "       0.421, 0.597, 0.309, 0.657, 0.677, 0.78 , 0.884, 0.578, 0.515,\n",
       "       0.656, 0.534, 0.415, 0.763, 0.484, 0.437, 0.411, 0.377, 0.574,\n",
       "       0.427, 0.768, 0.65 , 0.367, 0.213, 0.226, 0.603, 0.676, 0.57 ,\n",
       "       0.606, 0.683, 0.613, 0.901, 0.698, 0.426, 0.517, 0.856, 0.483,\n",
       "       0.265, 0.692, 0.634, 0.856, 0.484, 0.758, 0.421, 0.586, 0.906,\n",
       "         nan, 0.67 , 0.5  , 0.228, 0.594, 0.499, 0.64 , 0.506, 0.675,\n",
       "       0.429, 0.757, 0.68 , 0.492, 0.508, 0.845, 0.615, 0.412, 0.494,\n",
       "       0.487, 0.336, 0.516, 0.643, 0.759, 0.379, 0.642, 0.25 , 0.358,\n",
       "       0.486, 0.473, 0.214, 0.381, 0.57 , 0.42 , 0.229, 0.725, 0.708,\n",
       "       0.508, 0.601, 0.707, 0.558, 0.802, 0.696, 0.58 , 0.918, 0.701,\n",
       "       0.262, 0.183, 0.451, 0.752, 0.721, 0.671, 0.131, 0.141, 0.682,\n",
       "       0.571, 0.436, 0.743, 0.39 , 0.638, 0.675, 0.532, 0.297, 0.699,\n",
       "       0.505, 0.676, 0.902, 0.608, 0.836, 0.577, 0.749, 0.819, 0.81 ,\n",
       "       0.906, 0.89 , 0.888, 0.426, 0.687, 0.182, 0.658, 0.642, 0.581,\n",
       "       0.552, 0.637, 0.671, 0.549, 0.593, 0.721, 0.662, 0.398, 0.771,\n",
       "       0.231, 0.485, 0.369, 0.43 , 0.848, 0.676, 0.798, 0.331, 0.446,\n",
       "       0.834, 0.87 , 0.736, 0.908, 0.931, 0.459, 0.698, 0.685, 0.511,\n",
       "       0.664, 0.7  , 0.884, 0.671, 0.845, 0.135, 0.862, 0.916, 0.573,\n",
       "       0.484, 0.756, 0.918, 0.365, 0.699, 0.624, 0.649, 0.694, 0.854,\n",
       "       0.231, 0.856, 0.598, 0.767, 0.602, 0.617, 0.706, 0.366, 0.85 ,\n",
       "       0.706, 0.921, 0.419, 0.75 , 0.731, 0.63 , 0.782, 0.277, 0.691,\n",
       "       0.75 , 0.48 , 0.522, 0.406, 0.617, 0.658, 0.668, 0.848, 0.66 ,\n",
       "       0.733, 0.772, 0.274, 0.508, 0.429, 0.481, 0.76 , 0.701, 0.876,\n",
       "       0.945, 0.735, 0.421, 0.804, 0.495, 0.81 , 0.733, 0.843, 0.537,\n",
       "       0.632, 0.516, 0.651, 0.82 , 0.319, 0.33 , 0.713, 0.686, 0.562,\n",
       "       0.663, 0.716, 0.87 , 0.784, 0.626, 0.958, 0.631, 0.67 , 0.392,\n",
       "       0.624, 0.318, 0.578, 0.709, 0.504, 0.792, 0.556, 0.5  , 0.935,\n",
       "       0.762, 0.545, 0.952, 0.676, 0.854, 0.615, 0.553, 0.777, 0.639,\n",
       "       0.835, 0.875, 0.62 , 0.5  , 0.878, 0.739, 0.655, 0.489, 0.797,\n",
       "       0.494, 0.658, 0.793, 0.431, 0.629, 0.859, 0.809, 0.699, 0.729,\n",
       "       0.773, 0.893, 0.533, 0.706, 0.637, 0.849, 0.727, 0.802, 0.835,\n",
       "       0.434, 0.533, 0.713, 0.713, 0.552, 0.724, 0.686, 0.737, 0.667,\n",
       "       0.742, 0.505, 0.83 , 0.909, 0.764, 0.455, 0.83 , 0.627, 0.762,\n",
       "       0.709, 0.704, 0.54 , 0.889, 0.512, 0.667, 0.492, 0.762, 0.655,\n",
       "       0.275, 0.557, 0.725, 0.589, 0.85 , 0.483, 0.538, 0.4  , 0.578,\n",
       "       0.847, 0.595, 0.857, 0.857, 0.927, 0.862, 0.824, 0.61 , 0.8  ,\n",
       "       0.491, 0.231, 0.608, 0.574, 0.636, 0.691, 0.931, 0.595, 0.598,\n",
       "       0.494, 0.732, 0.494, 0.877, 0.741, 0.5  , 0.578, 0.4  , 0.845,\n",
       "       0.873, 0.675, 0.759, 0.901, 0.569, 0.887, 0.642, 0.231, 0.068,\n",
       "       0.532, 0.639, 0.456, 0.848, 0.688, 0.522, 0.354, 0.726, 0.353,\n",
       "       0.88 , 0.621, 0.923, 0.7  , 0.714, 0.561, 0.475, 0.553, 0.7  ,\n",
       "       0.904, 0.824, 0.703, 0.588, 0.428, 0.5  , 0.929, 0.652, 0.643,\n",
       "       0.573, 0.167, 0.624, 0.529, 0.742, 0.472, 0.776, 0.612, 0.765,\n",
       "       0.63 , 0.704, 0.844, 0.777, 0.711, 0.529, 0.242, 0.714, 0.5  ,\n",
       "       0.391, 0.814, 0.506, 0.552, 0.871, 0.585, 0.819, 0.694, 0.631,\n",
       "       0.154, 0.914, 0.333, 0.667, 0.444, 0.84 , 0.345, 0.71 , 0.647,\n",
       "       0.754, 0.928, 0.567, 0.535, 0.727, 0.698, 0.752, 0.486, 0.764,\n",
       "       0.821, 0.32 , 0.567, 0.978, 0.571, 0.522, 0.762, 0.615, 0.186,\n",
       "       0.516, 0.6  , 0.593, 0.621, 0.632, 0.708, 0.655, 0.824, 0.444,\n",
       "       0.267, 0.423, 0.353, 0.536, 0.667, 0.9  , 0.24 , 0.438, 0.277,\n",
       "       0.684, 0.789, 0.529, 0.541, 0.167, 0.069, 0.375, 0.512, 0.5  ,\n",
       "       0.643, 0.512, 0.714, 0.222,   nan, 0.5  , 1.   , 0.423])"
      ]
     },
     "execution_count": 248,
     "metadata": {},
     "output_type": "execute_result"
    }
   ],
   "source": [
    "max_fscore_per_class"
   ]
  },
  {
   "cell_type": "markdown",
   "metadata": {},
   "source": []
  },
  {
   "cell_type": "code",
   "execution_count": 249,
   "metadata": {},
   "outputs": [
    {
     "data": {
      "text/plain": [
       "[nan,\n",
       " 0.7756356524168763,\n",
       " 0.45731836475323023,\n",
       " 0.7844512195121951,\n",
       " 0.7941497489631085,\n",
       " 0.8016267510167194,\n",
       " 0.7930648769574944,\n",
       " 0.7964721845318861,\n",
       " 1.0,\n",
       " 0.7737341772151899,\n",
       " 1.0,\n",
       " 0.8401084010840109,\n",
       " 0.7955974842767296,\n",
       " 0.08226897069872277,\n",
       " 0.9335709002891145,\n",
       " 0.8224242424242424,\n",
       " 0.7509929728078216,\n",
       " 0.836903039073806,\n",
       " 0.22506488691138302,\n",
       " 0.7878787878787878,\n",
       " 0.7663817663817664,\n",
       " 0.7578692493946732,\n",
       " 0.8125,\n",
       " 0.8888888888888888,\n",
       " 0.7839506172839507,\n",
       " 0.7722513089005235,\n",
       " 0.19055056618508395,\n",
       " 0.8029350104821803,\n",
       " 0.4336677814938685,\n",
       " 0.7839262187088274,\n",
       " 0.9490616621983914,\n",
       " 0.2530612244897959,\n",
       " 0.37942652822663825,\n",
       " 0.810126582278481,\n",
       " 0.1988472622478386,\n",
       " 0.3783946891973446,\n",
       " 0.7045338767193072,\n",
       " 0.9752953813104189,\n",
       " 0.8490566037735849,\n",
       " 0.3128356605800215,\n",
       " 0.9370485036119711,\n",
       " 1.0,\n",
       " 0.78839590443686,\n",
       " 0.7958904109589041,\n",
       " 0.76,\n",
       " 0.1293223691058603,\n",
       " 0.7714285714285715,\n",
       " 0.9,\n",
       " 0.8409090909090909,\n",
       " 0.875,\n",
       " 0.1828978622327791,\n",
       " 0.8688524590163934,\n",
       " 0.46075085324232085,\n",
       " 0.7636363636363637,\n",
       " 0.9094202898550725,\n",
       " 0.968503937007874,\n",
       " 0.2846153846153846,\n",
       " 0.14694656488549618,\n",
       " 0.8490566037735849,\n",
       " 0.7907542579075426,\n",
       " 0.4631578947368421,\n",
       " 1.0,\n",
       " 0.903010033444816,\n",
       " 0.2703048936715347,\n",
       " 0.8848167539267016,\n",
       " 0.1341743119266055,\n",
       " 0.9339080459770115,\n",
       " 0.84,\n",
       " 0.8076923076923077,\n",
       " 0.3442622950819672,\n",
       " 0.8764568764568764,\n",
       " 0.7628865979381443,\n",
       " 0.8043478260869565,\n",
       " 1.0,\n",
       " 0.8225806451612904,\n",
       " 0.8258064516129032,\n",
       " 0.8688915375446961,\n",
       " 1.0,\n",
       " 0.7540983606557377,\n",
       " 0.35298452468680913,\n",
       " 0.7712418300653595,\n",
       " 0.7685185185185185,\n",
       " 0.5025252525252525,\n",
       " 0.2091917591125198,\n",
       " 0.8253968253968254,\n",
       " 0.7169811320754716,\n",
       " 0.7746478873239436,\n",
       " 0.9247787610619469,\n",
       " 0.5644599303135889,\n",
       " 0.7718120805369127,\n",
       " 0.8082191780821918,\n",
       " 0.7563025210084033,\n",
       " 0.3728813559322034,\n",
       " 0.7292682926829268,\n",
       " 0.5145631067961165,\n",
       " 0.4068767908309456,\n",
       " 0.3654434250764526,\n",
       " 0.4642857142857143,\n",
       " 0.7777777777777778,\n",
       " 0.488,\n",
       " 0.7844925883694412,\n",
       " 0.8112244897959183,\n",
       " 0.30987654320987656,\n",
       " 0.1245136186770428,\n",
       " 0.15052508751458576,\n",
       " 0.7764705882352941,\n",
       " 0.7515151515151515,\n",
       " 0.7596153846153846,\n",
       " 0.7934782608695652,\n",
       " 0.8829787234042553,\n",
       " 0.7703703703703704,\n",
       " 0.9348837209302325,\n",
       " 0.7989949748743719,\n",
       " 0.7733333333333333,\n",
       " 0.5096153846153846,\n",
       " 0.8514851485148515,\n",
       " 0.4409448818897638,\n",
       " 1.0,\n",
       " 0.7514792899408284,\n",
       " 0.7938461538461539,\n",
       " 0.8735294117647059,\n",
       " 0.76,\n",
       " 0.6612021857923497,\n",
       " 0.4444444444444444,\n",
       " 0.7692307692307693,\n",
       " 0.8731343283582089,\n",
       " nan,\n",
       " 0.5555555555555556,\n",
       " 0.7894736842105263,\n",
       " 1.0,\n",
       " 0.7714285714285715,\n",
       " 0.7731958762886598,\n",
       " 0.6179775280898876,\n",
       " 0.4883720930232558,\n",
       " 0.626984126984127,\n",
       " 0.3559322033898305,\n",
       " 0.8505747126436781,\n",
       " 0.6203208556149733,\n",
       " 0.5,\n",
       " 0.7551020408163265,\n",
       " 0.8907563025210085,\n",
       " 0.8148148148148148,\n",
       " 0.7794117647058824,\n",
       " 0.38317757009345793,\n",
       " 0.5277777777777778,\n",
       " 1.0,\n",
       " 0.4883720930232558,\n",
       " 0.7964912280701755,\n",
       " 0.7594339622641509,\n",
       " 0.3425925925925926,\n",
       " 0.7616580310880829,\n",
       " 0.16346153846153846,\n",
       " 0.7692307692307693,\n",
       " 0.43506493506493504,\n",
       " 1.0,\n",
       " 0.13807531380753138,\n",
       " 0.296028880866426,\n",
       " 0.525974025974026,\n",
       " 0.7777777777777778,\n",
       " 0.15217391304347827,\n",
       " 0.7586206896551724,\n",
       " 0.7641921397379913,\n",
       " 0.45588235294117646,\n",
       " 0.7706422018348624,\n",
       " 0.7669172932330827,\n",
       " 0.5,\n",
       " 0.8174603174603174,\n",
       " 0.7785714285714286,\n",
       " 0.65,\n",
       " 0.8997722095671982,\n",
       " 0.675,\n",
       " 0.8,\n",
       " 0.12532637075718014,\n",
       " 0.48148148148148145,\n",
       " 0.7475728155339806,\n",
       " 0.7853658536585366,\n",
       " 0.7614678899082569,\n",
       " 0.07547169811320754,\n",
       " 0.10285714285714286,\n",
       " 0.8461538461538461,\n",
       " 0.6086956521739131,\n",
       " 0.33774834437086093,\n",
       " 0.8257575757575758,\n",
       " 0.41818181818181815,\n",
       " 0.7511961722488039,\n",
       " 0.7549668874172185,\n",
       " 1.0,\n",
       " 0.19463087248322147,\n",
       " 0.6836158192090396,\n",
       " 0.8333333333333334,\n",
       " 0.6133333333333333,\n",
       " 0.9310344827586207,\n",
       " 0.8239700374531835,\n",
       " 0.8505747126436781,\n",
       " 0.6048387096774194,\n",
       " 0.7944444444444444,\n",
       " 0.7446808510638298,\n",
       " 0.8533333333333334,\n",
       " 0.9745762711864406,\n",
       " 0.864516129032258,\n",
       " 0.8858447488584474,\n",
       " 0.36363636363636365,\n",
       " 0.7725490196078432,\n",
       " 0.1694915254237288,\n",
       " 0.654320987654321,\n",
       " 0.7878787878787878,\n",
       " 1.0,\n",
       " 0.8,\n",
       " 0.8235294117647058,\n",
       " 0.8292682926829268,\n",
       " 0.7647058823529411,\n",
       " 0.775,\n",
       " 0.8020304568527918,\n",
       " 0.7931034482758621,\n",
       " 0.30952380952380953,\n",
       " 0.7032967032967034,\n",
       " 0.20987654320987653,\n",
       " 1.0,\n",
       " 0.2994350282485876,\n",
       " 0.5925925925925926,\n",
       " 0.8464912280701754,\n",
       " 0.7912087912087912,\n",
       " 0.8715596330275229,\n",
       " 0.29850746268656714,\n",
       " 0.35785953177257523,\n",
       " 0.8588235294117647,\n",
       " 0.8108108108108109,\n",
       " 0.9411764705882353,\n",
       " 0.8952380952380953,\n",
       " 0.9675324675324676,\n",
       " 0.41228070175438597,\n",
       " 0.8059701492537313,\n",
       " 0.7567567567567568,\n",
       " 0.7931034482758621,\n",
       " 0.7692307692307693,\n",
       " 0.7564102564102564,\n",
       " 0.9876543209876543,\n",
       " 0.8539325842696629,\n",
       " 0.918918918918919,\n",
       " 0.09289617486338798,\n",
       " 0.8235294117647058,\n",
       " 0.8802816901408451,\n",
       " 0.5108695652173914,\n",
       " 0.34622823984526113,\n",
       " 0.7701863354037267,\n",
       " 0.9090909090909091,\n",
       " 0.3013698630136986,\n",
       " 1.0,\n",
       " 0.8282828282828283,\n",
       " 0.7685185185185185,\n",
       " 0.7681159420289855,\n",
       " 0.7928571428571428,\n",
       " 0.20930232558139536,\n",
       " 0.8188405797101449,\n",
       " 0.49221183800623053,\n",
       " 0.7671232876712328,\n",
       " 0.8333333333333334,\n",
       " 0.76,\n",
       " 0.7761194029850746,\n",
       " 0.24489795918367346,\n",
       " 0.9074074074074074,\n",
       " 0.7606837606837606,\n",
       " 0.9148936170212766,\n",
       " 0.36470588235294116,\n",
       " 0.7346938775510204,\n",
       " 0.7555555555555555,\n",
       " 0.7722772277227723,\n",
       " 0.7760416666666666,\n",
       " 0.2037037037037037,\n",
       " 0.6075949367088608,\n",
       " 0.7325581395348837,\n",
       " 0.4774774774774775,\n",
       " 0.8,\n",
       " 0.5,\n",
       " 0.55,\n",
       " 0.7083333333333334,\n",
       " 0.5991902834008097,\n",
       " 0.9207317073170732,\n",
       " 0.7621951219512195,\n",
       " 0.7777777777777778,\n",
       " 0.8461538461538461,\n",
       " 0.19760479041916168,\n",
       " 0.573170731707317,\n",
       " 0.3191489361702128,\n",
       " 1.0,\n",
       " 0.7019230769230769,\n",
       " 0.7549668874172185,\n",
       " 0.8526315789473684,\n",
       " 0.9772727272727273,\n",
       " 0.6354166666666666,\n",
       " 1.0,\n",
       " 0.8210526315789474,\n",
       " 0.4491017964071856,\n",
       " 0.8080357142857143,\n",
       " 0.7857142857142857,\n",
       " 0.796875,\n",
       " 0.5,\n",
       " 0.7777777777777778,\n",
       " 0.5174418604651163,\n",
       " 0.7777777777777778,\n",
       " 0.8076923076923077,\n",
       " 0.23076923076923078,\n",
       " 0.25806451612903225,\n",
       " 0.6690647482014388,\n",
       " 0.8,\n",
       " 0.5555555555555556,\n",
       " 0.8148148148148148,\n",
       " 0.7564102564102564,\n",
       " 0.8823529411764706,\n",
       " 0.6526946107784432,\n",
       " 0.5538461538461539,\n",
       " 0.9857142857142858,\n",
       " 0.775,\n",
       " 0.7818181818181819,\n",
       " 0.430939226519337,\n",
       " 0.7666666666666667,\n",
       " 0.5,\n",
       " 0.5652173913043478,\n",
       " 0.6458333333333334,\n",
       " 0.44285714285714284,\n",
       " 0.75,\n",
       " 0.4805194805194805,\n",
       " 0.5952380952380952,\n",
       " 0.9666666666666667,\n",
       " 0.7652173913043478,\n",
       " 0.42857142857142855,\n",
       " 0.9428571428571428,\n",
       " 0.71875,\n",
       " 0.9534883720930233,\n",
       " 0.47058823529411764,\n",
       " 0.6964285714285714,\n",
       " 0.7663551401869159,\n",
       " 0.8043478260869565,\n",
       " 0.75,\n",
       " 0.8115942028985508,\n",
       " 0.8333333333333334,\n",
       " 0.4745762711864407,\n",
       " 0.8682170542635659,\n",
       " 0.7588235294117647,\n",
       " 0.8333333333333334,\n",
       " 0.8666666666666667,\n",
       " 0.75,\n",
       " 0.7777777777777778,\n",
       " 0.8378378378378378,\n",
       " 0.7472527472527473,\n",
       " 0.28,\n",
       " 0.803030303030303,\n",
       " 0.813953488372093,\n",
       " 0.7954545454545454,\n",
       " 0.7741935483870968,\n",
       " 0.7714285714285715,\n",
       " 0.7555555555555555,\n",
       " 0.8852459016393442,\n",
       " 0.38405797101449274,\n",
       " 0.8,\n",
       " 0.8787878787878788,\n",
       " 0.8611111111111112,\n",
       " 0.7647058823529411,\n",
       " 0.75,\n",
       " 0.8260869565217391,\n",
       " 0.3142857142857143,\n",
       " 0.5454545454545454,\n",
       " 0.8387096774193549,\n",
       " 0.7536231884057971,\n",
       " 0.5714285714285714,\n",
       " 0.7368421052631579,\n",
       " 0.7659574468085106,\n",
       " 0.8032786885245902,\n",
       " 0.803921568627451,\n",
       " 0.8166666666666667,\n",
       " 0.5208333333333334,\n",
       " 0.8461538461538461,\n",
       " 0.8823529411764706,\n",
       " 0.7078651685393258,\n",
       " 0.5263157894736842,\n",
       " 0.7634408602150538,\n",
       " 0.5925925925925926,\n",
       " 0.6838235294117647,\n",
       " 0.7849462365591398,\n",
       " 0.78,\n",
       " 0.38202247191011235,\n",
       " 0.8333333333333334,\n",
       " 1.0,\n",
       " 0.75,\n",
       " 0.45714285714285713,\n",
       " 0.6923076923076923,\n",
       " 0.76,\n",
       " 0.1891891891891892,\n",
       " 0.9523809523809523,\n",
       " 0.7714285714285715,\n",
       " 0.775,\n",
       " 0.8360655737704918,\n",
       " 0.3684210526315789,\n",
       " 0.7647058823529411,\n",
       " 0.35294117647058826,\n",
       " 0.4482758620689655,\n",
       " 0.8243243243243243,\n",
       " 0.7894736842105263,\n",
       " 0.8823529411764706,\n",
       " 0.9545454545454546,\n",
       " 0.9344262295081968,\n",
       " 0.9333333333333333,\n",
       " 0.845360824742268,\n",
       " 0.5423728813559322,\n",
       " 0.6666666666666666,\n",
       " 0.38613861386138615,\n",
       " 0.1875,\n",
       " 0.5392156862745098,\n",
       " 0.7021276595744681,\n",
       " 1.0,\n",
       " 0.7037037037037037,\n",
       " 0.8952380952380953,\n",
       " 0.5064935064935064,\n",
       " 0.7837837837837838,\n",
       " 0.43478260869565216,\n",
       " 0.6746987951807228,\n",
       " 1.0,\n",
       " 0.8,\n",
       " 0.7676767676767676,\n",
       " 0.8333333333333334,\n",
       " 0.47058823529411764,\n",
       " 0.3090909090909091,\n",
       " 0.8166666666666667,\n",
       " 0.8494623655913979,\n",
       " 0.8235294117647058,\n",
       " 0.6833333333333333,\n",
       " 0.8913043478260869,\n",
       " 0.42028985507246375,\n",
       " 0.863013698630137,\n",
       " 0.8,\n",
       " 0.14285714285714285,\n",
       " 0.03571428571428571,\n",
       " 0.8387096774193549,\n",
       " 0.4791666666666667,\n",
       " 0.3466666666666667,\n",
       " 0.7466666666666667,\n",
       " 0.875,\n",
       " 0.47368421052631576,\n",
       " 0.34,\n",
       " 0.6404494382022472,\n",
       " 0.22826086956521738,\n",
       " 0.9166666666666666,\n",
       " 0.5315315315315315,\n",
       " 0.8571428571428571,\n",
       " 0.5526315789473685,\n",
       " 0.625,\n",
       " 0.43636363636363634,\n",
       " 0.3925233644859813,\n",
       " 0.8,\n",
       " 0.8076923076923077,\n",
       " 0.8703703703703703,\n",
       " 0.7368421052631579,\n",
       " 0.7222222222222222,\n",
       " 0.7692307692307693,\n",
       " 1.0,\n",
       " 0.38461538461538464,\n",
       " 0.8666666666666667,\n",
       " 0.8,\n",
       " 0.5806451612903226,\n",
       " 0.7777777777777778,\n",
       " 0.1,\n",
       " 0.5934065934065934,\n",
       " 0.3829787234042553,\n",
       " 0.7777777777777778,\n",
       " 0.4166666666666667,\n",
       " 0.8260869565217391,\n",
       " 0.5660377358490566,\n",
       " 0.6610169491525424,\n",
       " 0.8181818181818182,\n",
       " 0.5813953488372093,\n",
       " 0.8636363636363636,\n",
       " 0.7176470588235294,\n",
       " 0.7878787878787878,\n",
       " 0.8,\n",
       " 0.14814814814814814,\n",
       " 0.6521739130434783,\n",
       " 0.4,\n",
       " 0.2727272727272727,\n",
       " 0.9210526315789473,\n",
       " 0.4883720930232558,\n",
       " 0.4444444444444444,\n",
       " 0.9487179487179487,\n",
       " 0.5757575757575758,\n",
       " 0.7166666666666667,\n",
       " 0.8333333333333334,\n",
       " 0.4642857142857143,\n",
       " 0.11538461538461539,\n",
       " 0.8983050847457628,\n",
       " 1.0,\n",
       " 0.7692307692307693,\n",
       " 0.5,\n",
       " 0.7636363636363637,\n",
       " 0.20833333333333334,\n",
       " 0.5641025641025641,\n",
       " 0.5375,\n",
       " 0.6571428571428571,\n",
       " 0.9375,\n",
       " 0.40476190476190477,\n",
       " 0.46938775510204084,\n",
       " 0.8,\n",
       " 0.8333333333333334,\n",
       " 0.6507936507936508,\n",
       " 0.425,\n",
       " 0.7777777777777778,\n",
       " 0.7619047619047619,\n",
       " 0.21052631578947367,\n",
       " 0.875,\n",
       " 1.0,\n",
       " 0.6666666666666666,\n",
       " 0.5,\n",
       " 0.6666666666666666,\n",
       " 1.0,\n",
       " 0.14814814814814814,\n",
       " 0.38095238095238093,\n",
       " 0.42857142857142855,\n",
       " 0.47058823529411764,\n",
       " 0.6,\n",
       " 0.6,\n",
       " 0.6296296296296297,\n",
       " 0.8,\n",
       " 0.7,\n",
       " 0.4,\n",
       " 0.2857142857142857,\n",
       " 0.3191489361702128,\n",
       " 0.3333333333333333,\n",
       " 0.5357142857142857,\n",
       " 0.75,\n",
       " 0.9,\n",
       " 0.13636363636363635,\n",
       " 0.3111111111111111,\n",
       " 0.17647058823529413,\n",
       " 0.7647058823529411,\n",
       " 0.8333333333333334,\n",
       " 0.8571428571428571,\n",
       " 0.45454545454545453,\n",
       " 0.10256410256410256,\n",
       " 0.045454545454545456,\n",
       " 0.23076923076923078,\n",
       " 0.44,\n",
       " 0.5,\n",
       " 0.5625,\n",
       " 0.4583333333333333,\n",
       " 1.0,\n",
       " 0.25,\n",
       " nan,\n",
       " 0.4117647058823529,\n",
       " 1.0,\n",
       " 0.3548387096774194]"
      ]
     },
     "execution_count": 249,
     "metadata": {},
     "output_type": "execute_result"
    }
   ],
   "source": [
    "set_fscore_per_class_p"
   ]
  },
  {
   "cell_type": "code",
   "execution_count": 243,
   "metadata": {},
   "outputs": [
    {
     "data": {
      "text/plain": [
       "array([  nan, 0.581, 0.457, 0.53 , 0.649, 0.553, 0.488, 0.59 , 0.128,\n",
       "       0.578, 0.312, 0.432, 0.531, 0.082, 0.934, 0.629, 0.613, 0.837,\n",
       "       0.225, 0.325, 0.563, 0.561, 0.299, 0.413, 0.475, 0.645, 0.191,\n",
       "       0.803, 0.434, 0.657, 0.949, 0.253, 0.379, 0.413, 0.199, 0.378,\n",
       "       0.705, 0.474, 0.295, 0.313, 0.937, 0.12 , 0.563, 0.796, 0.556,\n",
       "       0.129, 0.656, 0.271, 0.481, 0.537, 0.183, 0.565, 0.461, 0.652,\n",
       "       0.909, 0.61 , 0.285, 0.147, 0.466, 0.695, 0.463, 0.356, 0.437,\n",
       "       0.27 , 0.472, 0.134, 0.934, 0.84 , 0.489, 0.344, 0.625, 0.26 ,\n",
       "       0.496, 0.212, 0.656, 0.51 , 0.869, 0.288, 0.585, 0.353, 0.498,\n",
       "       0.578, 0.503, 0.209, 0.691, 0.717, 0.775, 0.925, 0.564, 0.482,\n",
       "       0.703, 0.442, 0.373, 0.729, 0.515, 0.407, 0.365, 0.464, 0.468,\n",
       "       0.488, 0.784, 0.684, 0.31 , 0.125, 0.151, 0.619, 0.663, 0.592,\n",
       "       0.607, 0.883, 0.615, 0.935, 0.685, 0.424, 0.51 , 0.851, 0.441,\n",
       "       0.227, 0.709, 0.619, 0.874, 0.368, 0.661, 0.444, 0.541, 0.873,\n",
       "         nan, 0.556, 0.574, 0.268, 0.604, 0.573, 0.618, 0.488, 0.627,\n",
       "       0.356, 0.851, 0.62 , 0.5  , 0.442, 0.891, 0.609, 0.371, 0.383,\n",
       "       0.528, 0.326, 0.488, 0.659, 0.759, 0.343, 0.695, 0.163, 0.333,\n",
       "       0.435, 0.368, 0.138, 0.296, 0.526, 0.479, 0.152, 0.63 , 0.65 ,\n",
       "       0.456, 0.703, 0.668, 0.5  , 0.817, 0.735, 0.65 , 0.9  , 0.675,\n",
       "       0.187, 0.125, 0.481, 0.748, 0.658, 0.641, 0.075, 0.103, 0.654,\n",
       "       0.609, 0.338, 0.743, 0.418, 0.618, 0.681, 0.496, 0.195, 0.684,\n",
       "       0.428, 0.613, 0.931, 0.573, 0.851, 0.605, 0.682, 0.745, 0.853,\n",
       "       0.975, 0.865, 0.886, 0.364, 0.632, 0.169, 0.654, 0.788, 0.456,\n",
       "       0.578, 0.569, 0.736, 0.496, 0.673, 0.802, 0.601, 0.31 , 0.703,\n",
       "       0.21 , 0.461, 0.299, 0.593, 0.846, 0.546, 0.872, 0.299, 0.358,\n",
       "       0.859, 0.811, 0.626, 0.895, 0.968, 0.412, 0.736, 0.689, 0.793,\n",
       "       0.729, 0.64 , 0.988, 0.626, 0.919, 0.093, 0.824, 0.88 , 0.511,\n",
       "       0.346, 0.77 , 0.909, 0.301, 0.601, 0.582, 0.662, 0.694, 0.793,\n",
       "       0.209, 0.819, 0.492, 0.767, 0.544, 0.659, 0.674, 0.245, 0.907,\n",
       "       0.687, 0.915, 0.365, 0.735, 0.756, 0.586, 0.776, 0.204, 0.608,\n",
       "       0.733, 0.477, 0.522, 0.5  , 0.55 , 0.708, 0.599, 0.921, 0.645,\n",
       "       0.673, 0.846, 0.198, 0.573, 0.319, 0.554, 0.702, 0.698, 0.853,\n",
       "       0.977, 0.635, 0.41 , 0.821, 0.449, 0.808, 0.786, 0.797, 0.5  ,\n",
       "       0.543, 0.517, 0.628, 0.808, 0.231, 0.258, 0.669, 0.594, 0.556,\n",
       "       0.635, 0.679, 0.882, 0.653, 0.554, 0.986, 0.683, 0.613, 0.431,\n",
       "       0.611, 0.5  , 0.565, 0.646, 0.443, 0.75 , 0.481, 0.595, 0.967,\n",
       "       0.765, 0.429, 0.943, 0.719, 0.953, 0.471, 0.696, 0.766, 0.646,\n",
       "       0.75 , 0.812, 0.543, 0.475, 0.868, 0.759, 0.603, 0.527, 0.75 ,\n",
       "       0.594, 0.62 , 0.747, 0.28 , 0.667, 0.814, 0.795, 0.708, 0.689,\n",
       "       0.756, 0.885, 0.384, 0.8  , 0.667, 0.861, 0.727, 0.75 , 0.826,\n",
       "       0.314, 0.545, 0.648, 0.718, 0.571, 0.737, 0.723, 0.711, 0.804,\n",
       "       0.817, 0.521, 0.846, 0.882, 0.708, 0.526, 0.763, 0.593, 0.684,\n",
       "       0.706, 0.676, 0.382, 0.833, 0.43 , 0.75 , 0.457, 0.692, 0.59 ,\n",
       "       0.189, 0.529, 0.771, 0.549, 0.836, 0.368, 0.432, 0.353, 0.448,\n",
       "       0.824, 0.552, 0.882, 0.955, 0.934, 0.933, 0.845, 0.542, 0.667,\n",
       "       0.386, 0.188, 0.539, 0.702, 0.54 , 0.704, 0.895, 0.506, 0.686,\n",
       "       0.435, 0.675, 0.478, 0.8  , 0.768, 0.541, 0.471, 0.309, 0.817,\n",
       "       0.849, 0.675, 0.683, 0.891, 0.42 , 0.863, 0.642, 0.143, 0.036,\n",
       "       0.607, 0.479, 0.347, 0.747, 0.581, 0.474, 0.34 , 0.64 , 0.228,\n",
       "       0.917, 0.532, 0.857, 0.553, 0.625, 0.436, 0.393, 0.431, 0.808,\n",
       "       0.87 , 0.737, 0.722, 0.769, 0.317, 0.385, 0.867, 0.714, 0.581,\n",
       "       0.537, 0.1  , 0.593, 0.383, 0.778, 0.417, 0.826, 0.566, 0.661,\n",
       "       0.68 , 0.581, 0.864, 0.718, 0.711, 0.5  , 0.148, 0.652, 0.4  ,\n",
       "       0.273, 0.921, 0.488, 0.444, 0.949, 0.576, 0.717, 0.58 , 0.464,\n",
       "       0.115, 0.898, 0.3  , 0.769, 0.5  , 0.764, 0.208, 0.564, 0.537,\n",
       "       0.657, 0.938, 0.405, 0.469, 0.64 , 0.833, 0.651, 0.425, 0.778,\n",
       "       0.762, 0.211, 0.487, 1.   , 0.667, 0.5  , 0.667, 0.667, 0.148,\n",
       "       0.381, 0.429, 0.471, 0.6  , 0.6  , 0.63 , 0.6  , 0.7  , 0.4  ,\n",
       "       0.286, 0.319, 0.333, 0.536, 0.75 , 0.9  , 0.136, 0.311, 0.176,\n",
       "       0.765, 0.833, 0.5  , 0.455, 0.103, 0.045, 0.231, 0.44 , 0.5  ,\n",
       "       0.562, 0.458, 1.   , 0.25 ,   nan, 0.412, 1.   , 0.355])"
      ]
     },
     "execution_count": 243,
     "metadata": {},
     "output_type": "execute_result"
    }
   ],
   "source": [
    "max_fscore_per_class_p"
   ]
  },
  {
   "cell_type": "markdown",
   "metadata": {},
   "source": [
    "# parent ID"
   ]
  },
  {
   "cell_type": "code",
   "execution_count": 267,
   "metadata": {},
   "outputs": [],
   "source": [
    "parents_IDs =[512,\n",
    " 1,\n",
    " 2,\n",
    " 5,\n",
    " 6,\n",
    " 263,\n",
    " 8,\n",
    " 9,\n",
    " 10,\n",
    " 23,\n",
    " 140,\n",
    " 13,\n",
    " 142,\n",
    " 15,\n",
    " 144,\n",
    " 17,\n",
    " 18,\n",
    " 22,\n",
    " 151,\n",
    " 281,\n",
    " 26,\n",
    " 155,\n",
    " 156,\n",
    " 158,\n",
    " 31,\n",
    " 35,\n",
    " 34,\n",
    " 27,\n",
    " 36,\n",
    " 166,\n",
    " 49,\n",
    " 41,\n",
    " 171,\n",
    " 172,\n",
    " 50,\n",
    " 302,\n",
    " 48,\n",
    " 177,\n",
    " 178,\n",
    " 53,\n",
    " 56,\n",
    " 57,\n",
    " 159,\n",
    " 61,\n",
    " 63,\n",
    " 65,\n",
    " 11,\n",
    " 292,\n",
    " 72,\n",
    " 73,\n",
    " 203,\n",
    " 45,\n",
    " 28,\n",
    " 79,\n",
    " 80,\n",
    " 83,\n",
    " 139,\n",
    " 14,\n",
    " 216,\n",
    " 89,\n",
    " 71,\n",
    " 219,\n",
    " 97,\n",
    " 187,\n",
    " 100,\n",
    " 103,\n",
    " 104,\n",
    " 233,\n",
    " 272,\n",
    " 239,\n",
    " 117,\n",
    " 246,\n",
    " 189,\n",
    " 252]"
   ]
  },
  {
   "cell_type": "code",
   "execution_count": 270,
   "metadata": {},
   "outputs": [
    {
     "data": {
      "text/plain": [
       "(array([512,   1,   2,   5,   6, 263,   8,   9,  10,  23, 140,  13, 142,\n",
       "         15, 144,  17,  18,  22, 151, 281,  26, 155, 156, 158,  31,  35,\n",
       "         34,  27,  36, 166,  49,  41, 171, 172,  50, 302,  48, 177, 178,\n",
       "         53,  56,  57, 159,  61,  63,  65,  11, 292,  72,  73, 203,  45,\n",
       "         28,  79,  80,  83, 139,  14, 216,  89,  71, 219,  97, 187, 100,\n",
       "        103, 104, 233, 272, 239, 117, 246, 189, 252]),)"
      ]
     },
     "execution_count": 270,
     "metadata": {},
     "output_type": "execute_result"
    }
   ],
   "source": [
    "(np.array(parents_IDs),)"
   ]
  },
  {
   "cell_type": "code",
   "execution_count": 269,
   "metadata": {},
   "outputs": [
    {
     "data": {
      "text/plain": [
       "(array([], dtype=int64),)"
      ]
     },
     "execution_count": 269,
     "metadata": {},
     "output_type": "execute_result"
    }
   ],
   "source": [
    "select_idx"
   ]
  },
  {
   "cell_type": "code",
   "execution_count": 275,
   "metadata": {},
   "outputs": [
    {
     "data": {
      "text/plain": [
       "0.4037265411883313"
      ]
     },
     "execution_count": 275,
     "metadata": {},
     "output_type": "execute_result"
    }
   ],
   "source": [
    "np.mean(max_fscore_per_class[(np.array(parents_IDs),)])"
   ]
  },
  {
   "cell_type": "code",
   "execution_count": 276,
   "metadata": {},
   "outputs": [
    {
     "data": {
      "text/plain": [
       "0.36711388709232434"
      ]
     },
     "execution_count": 276,
     "metadata": {},
     "output_type": "execute_result"
    }
   ],
   "source": [
    "np.mean(max_fscore_per_class_p[(np.array(parents_IDs),)])"
   ]
  },
  {
   "cell_type": "code",
   "execution_count": 277,
   "metadata": {},
   "outputs": [
    {
     "data": {
      "text/plain": [
       "0.5257803750877119"
      ]
     },
     "execution_count": 277,
     "metadata": {},
     "output_type": "execute_result"
    }
   ],
   "source": [
    "np.mean(max_fscore_per_class_r[(np.array(parents_IDs),)])"
   ]
  },
  {
   "cell_type": "code",
   "execution_count": 278,
   "metadata": {},
   "outputs": [
    {
     "data": {
      "text/plain": [
       "74"
      ]
     },
     "execution_count": 278,
     "metadata": {},
     "output_type": "execute_result"
    }
   ],
   "source": [
    "len(parents_IDs)"
   ]
  },
  {
   "cell_type": "code",
   "execution_count": 281,
   "metadata": {},
   "outputs": [
    {
     "data": {
      "text/plain": [
       "array([0.2, 0.7, 0.6, 0.6, 0.5, 0.4, 0.2, 0.6, 0.4, 0.5, 0.8, 0.1, 0.4,\n",
       "       0.6, 0.5, 0.8, 0.3, 0.3, 0.3, 0.3, 0.2, 0.2, 0.4, 0.4, 0.2, 0.5,\n",
       "       0.3, 0.8, 0.8, 0.8, 0.5, 0.2, 0.3, 0.2, 0.2, 0.3, 0.5, 0.1, 0.1,\n",
       "       0.7, 0.3, 0.2, 0.2, 0.5, 0.4, 0.2, 0.5, 0.5, 0.6, 0.3, 0.2, 0.2,\n",
       "       0.2, 0.4, 0.5, 0.3, 0.5, 0.9, 0.2, 0.5, 0.4, 0.4, 0.4, 0.3, 0.8,\n",
       "       0.2, 0.2, 0.5, 0.5, 0.1, 0.3, 0.4, 0.5, 0.2])"
      ]
     },
     "execution_count": 281,
     "metadata": {},
     "output_type": "execute_result"
    }
   ],
   "source": [
    "max_fscore_per_class[(np.array(parents_IDs),)]"
   ]
  },
  {
   "cell_type": "code",
   "execution_count": 282,
   "metadata": {},
   "outputs": [
    {
     "data": {
      "text/plain": [
       "array([0.1, 0.6, 0.5, 0.6, 0.5, 0.4, 0.1, 0.6, 0.3, 0.4, 0.9, 0.1, 0.4,\n",
       "       0.6, 0.5, 0.8, 0.2, 0.3, 0.2, 0.2, 0.2, 0.1, 0.3, 0.5, 0.3, 0.4,\n",
       "       0.2, 0.8, 0.7, 0.8, 0.5, 0.1, 0.2, 0.1, 0.2, 0.3, 0.5, 0.1, 0.1,\n",
       "       0.7, 0.3, 0.1, 0.2, 0.4, 0.3, 0.1, 0.4, 0.4, 0.5, 0.2, 0.2, 0.1,\n",
       "       0.4, 0.4, 0.5, 0.2, 0.4, 0.9, 0.2, 0.5, 0.3, 0.6, 0.5, 0.2, 0.8,\n",
       "       0.1, 0.2, 0.8, 0.5, 0.1, 0.2, 0.3, 0.4, 0.2])"
      ]
     },
     "execution_count": 282,
     "metadata": {},
     "output_type": "execute_result"
    }
   ],
   "source": [
    "max_fscore_per_class_p[(np.array(parents_IDs),)]"
   ]
  },
  {
   "cell_type": "code",
   "execution_count": null,
   "metadata": {},
   "outputs": [],
   "source": []
  },
  {
   "cell_type": "markdown",
   "metadata": {},
   "source": [
    "# reliable class\n",
    "F score > 0.7"
   ]
  },
  {
   "cell_type": "code",
   "execution_count": 285,
   "metadata": {},
   "outputs": [
    {
     "name": "stderr",
     "output_type": "stream",
     "text": [
      "/usr/local/lib/python2.7/dist-packages/ipykernel_launcher.py:1: RuntimeWarning: invalid value encountered in greater\n",
      "  \"\"\"Entry point for launching an IPython kernel.\n"
     ]
    },
    {
     "data": {
      "text/plain": [
       "181"
      ]
     },
     "execution_count": 285,
     "metadata": {},
     "output_type": "execute_result"
    }
   ],
   "source": [
    "len(np.where(max_fscore_per_class > 0.7)[0])"
   ]
  },
  {
   "cell_type": "code",
   "execution_count": 286,
   "metadata": {},
   "outputs": [
    {
     "name": "stderr",
     "output_type": "stream",
     "text": [
      "/usr/local/lib/python2.7/dist-packages/ipykernel_launcher.py:1: RuntimeWarning: invalid value encountered in greater\n",
      "  \"\"\"Entry point for launching an IPython kernel.\n"
     ]
    },
    {
     "data": {
      "text/plain": [
       "0.7950071454453226"
      ]
     },
     "execution_count": 286,
     "metadata": {},
     "output_type": "execute_result"
    }
   ],
   "source": [
    "np.mean(max_fscore_per_class_p[np.where(max_fscore_per_class > 0.7)])"
   ]
  },
  {
   "cell_type": "code",
   "execution_count": 288,
   "metadata": {},
   "outputs": [
    {
     "name": "stderr",
     "output_type": "stream",
     "text": [
      "/usr/local/lib/python2.7/dist-packages/ipykernel_launcher.py:1: RuntimeWarning: invalid value encountered in greater\n",
      "  \"\"\"Entry point for launching an IPython kernel.\n"
     ]
    },
    {
     "data": {
      "text/plain": [
       "0.8362820924067634"
      ]
     },
     "execution_count": 288,
     "metadata": {},
     "output_type": "execute_result"
    }
   ],
   "source": [
    "np.mean(max_fscore_per_class_r[np.where(max_fscore_per_class > 0.7)])"
   ]
  },
  {
   "cell_type": "code",
   "execution_count": null,
   "metadata": {},
   "outputs": [],
   "source": []
  },
  {
   "cell_type": "code",
   "execution_count": null,
   "metadata": {},
   "outputs": [],
   "source": []
  },
  {
   "cell_type": "code",
   "execution_count": 280,
   "metadata": {},
   "outputs": [],
   "source": [
    "import numpy as np\n",
    "np.set_printoptions(precision=1)"
   ]
  },
  {
   "cell_type": "code",
   "execution_count": null,
   "metadata": {},
   "outputs": [],
   "source": []
  },
  {
   "cell_type": "code",
   "execution_count": 155,
   "metadata": {},
   "outputs": [
    {
     "data": {
      "text/plain": [
       "array([0.978, 0.875, 0.81 , 0.753, 0.7  , 0.646, 0.59 , 0.526, 0.453,\n",
       "       0.351, 0.   ])"
      ]
     },
     "execution_count": 155,
     "metadata": {},
     "output_type": "execute_result"
    }
   ],
   "source": [
    "np.array(recall_per_th)"
   ]
  },
  {
   "cell_type": "code",
   "execution_count": null,
   "metadata": {},
   "outputs": [],
   "source": []
  },
  {
   "cell_type": "code",
   "execution_count": null,
   "metadata": {},
   "outputs": [],
   "source": []
  },
  {
   "cell_type": "code",
   "execution_count": null,
   "metadata": {},
   "outputs": [],
   "source": []
  },
  {
   "cell_type": "code",
   "execution_count": null,
   "metadata": {},
   "outputs": [],
   "source": []
  },
  {
   "cell_type": "code",
   "execution_count": null,
   "metadata": {},
   "outputs": [],
   "source": []
  },
  {
   "cell_type": "code",
   "execution_count": null,
   "metadata": {},
   "outputs": [],
   "source": []
  },
  {
   "cell_type": "code",
   "execution_count": 79,
   "metadata": {},
   "outputs": [
    {
     "data": {
      "text/plain": [
       "0.5104762846325388"
      ]
     },
     "execution_count": 79,
     "metadata": {},
     "output_type": "execute_result"
    }
   ],
   "source": [
    "np.nanmean(recall_per_class)"
   ]
  },
  {
   "cell_type": "code",
   "execution_count": 35,
   "metadata": {},
   "outputs": [
    {
     "data": {
      "text/plain": [
       "(array([0, 1]),)"
      ]
     },
     "execution_count": 35,
     "metadata": {},
     "output_type": "execute_result"
    }
   ],
   "source": [
    "np.where(decoded_dict['detection_scores'] >= 0.4)"
   ]
  },
  {
   "cell_type": "code",
   "execution_count": 117,
   "metadata": {},
   "outputs": [],
   "source": [
    "fscore_per_class = np.zeros(object_detection_evaluator._evaluation.num_class+1 )#ignore index = 0\n",
    "for idx, fscore in enumerate(fscore_per_class):\n",
    "    if precision_per_class[idx] == 0 and recall_per_class[idx] == 0:\n",
    "        fscore_per_class[idx] = 0\n",
    "    elif :\n",
    "        fscore_per_class[idx] = 2.0/(precision_per_class[idx] + recall_per_class[idx])*precision_per_class[idx]*recall_per_class[idx]\n"
   ]
  },
  {
   "cell_type": "code",
   "execution_count": 33,
   "metadata": {},
   "outputs": [
    {
     "data": {
      "text/plain": [
       "array([0.94740069, 0.44336295, 0.11177488, 0.06715006, 0.06292228,\n",
       "       0.05310643, 0.05143602, 0.04563433, 0.04244808, 0.02040432,\n",
       "       0.01258927, 0.01234233, 0.0116198 , 0.01158036, 0.0109454 ,\n",
       "       0.00998489, 0.00996538, 0.00983375, 0.00902759, 0.00861758,\n",
       "       0.00738818, 0.00711295, 0.00637355, 0.00590948, 0.00588783,\n",
       "       0.00550458, 0.005255  , 0.00507754, 0.0050324 , 0.00432808,\n",
       "       0.00426304, 0.00404781, 0.00394155, 0.00388545, 0.00371365,\n",
       "       0.00366338, 0.00364014, 0.00315609, 0.00312454, 0.00308078,\n",
       "       0.00305687, 0.00298963, 0.0029583 , 0.00283483, 0.00281596,\n",
       "       0.00279417, 0.0027192 , 0.00270064, 0.00260162, 0.00258033,\n",
       "       0.00257703, 0.00248641, 0.00242757, 0.00238891, 0.00231176,\n",
       "       0.00225751, 0.00221358, 0.00217928, 0.00206117, 0.00193725,\n",
       "       0.0019113 , 0.00184843, 0.00184705, 0.00183507, 0.00182395,\n",
       "       0.00181492, 0.0017796 , 0.00175285, 0.00174065, 0.00172844,\n",
       "       0.00164231, 0.00160236, 0.00159087, 0.00155847, 0.00141835,\n",
       "       0.00141581, 0.00137023, 0.00135008, 0.00133596, 0.00126718,\n",
       "       0.00125877, 0.00124641, 0.00123675, 0.0012232 , 0.00121102,\n",
       "       0.00119733, 0.00117669, 0.00116299, 0.00116246, 0.00115841,\n",
       "       0.00113516, 0.00112663, 0.00110316, 0.00108024, 0.00107535,\n",
       "       0.00101546, 0.00101332, 0.00099271, 0.00097527, 0.00096455])"
      ]
     },
     "execution_count": 33,
     "metadata": {},
     "output_type": "execute_result"
    }
   ],
   "source": [
    "decoded_dict['detection_scores']"
   ]
  },
  {
   "cell_type": "code",
   "execution_count": 37,
   "metadata": {},
   "outputs": [
    {
     "data": {
      "text/plain": [
       "array([282])"
      ]
     },
     "execution_count": 37,
     "metadata": {},
     "output_type": "execute_result"
    }
   ],
   "source": [
    "decoded_dict['detection_classes'][index_threshold]"
   ]
  },
  {
   "cell_type": "code",
   "execution_count": 38,
   "metadata": {},
   "outputs": [
    {
     "data": {
      "text/plain": [
       "{'detection_boxes': array([[1.00309551e-01, 9.61471349e-02, 1.00000000e+00, 6.00033998e-01],\n",
       "        [5.99940233e-02, 2.31923044e-01, 6.07892871e-01, 6.34490252e-01],\n",
       "        [8.99344385e-02, 9.64855999e-02, 1.00000000e+00, 5.99817455e-01],\n",
       "        [7.54189044e-02, 2.43108958e-01, 1.00000000e+00, 7.92661130e-01],\n",
       "        [9.65380892e-02, 6.64914697e-02, 9.83669758e-01, 6.20056272e-01],\n",
       "        [6.47381619e-02, 9.28268477e-04, 8.53293657e-01, 4.68848377e-01],\n",
       "        [9.32818130e-02, 5.82458004e-02, 5.60767591e-01, 5.43001115e-01],\n",
       "        [6.26673400e-02, 1.62722282e-02, 9.52440321e-01, 5.06614029e-01],\n",
       "        [4.83484149e-01, 6.43990159e-01, 7.09498584e-01, 9.38515425e-01],\n",
       "        [4.83773857e-01, 6.68718457e-01, 6.93948209e-01, 9.30284262e-01],\n",
       "        [1.42060757e-01, 0.00000000e+00, 1.00000000e+00, 6.63463950e-01],\n",
       "        [1.24948507e-03, 2.64343005e-02, 1.88093930e-01, 4.33495194e-01],\n",
       "        [2.32349142e-01, 3.53246816e-02, 9.99332488e-01, 6.56445026e-01],\n",
       "        [1.75343454e-02, 8.03562161e-03, 2.27009341e-01, 4.22347128e-01],\n",
       "        [8.85566473e-02, 1.68330129e-02, 8.62841606e-01, 4.66820806e-01],\n",
       "        [4.34316918e-02, 5.29345095e-01, 4.52953160e-01, 6.31889939e-01],\n",
       "        [0.00000000e+00, 0.00000000e+00, 1.99403226e-01, 4.19596404e-01],\n",
       "        [3.18766207e-01, 1.15330130e-01, 8.46706867e-01, 6.63112283e-01],\n",
       "        [1.03445664e-01, 3.67418933e-03, 6.65137053e-01, 4.40772921e-01],\n",
       "        [7.24434927e-02, 3.01400255e-02, 1.00000000e+00, 4.65669632e-01],\n",
       "        [4.74495580e-03, 2.92328019e-02, 1.92762867e-01, 4.25500512e-01],\n",
       "        [7.07702637e-02, 5.50798289e-02, 5.40924430e-01, 4.79031086e-01],\n",
       "        [9.12462268e-03, 1.56593081e-02, 1.99016631e-01, 4.35335100e-01],\n",
       "        [1.73916861e-01, 4.52263393e-02, 9.86110687e-01, 6.36745989e-01],\n",
       "        [1.52023258e-02, 5.10785952e-02, 1.72278121e-01, 4.33609843e-01],\n",
       "        [8.10026824e-02, 0.00000000e+00, 8.79609525e-01, 4.55432653e-01],\n",
       "        [5.08025885e-02, 2.14796707e-01, 6.08152151e-01, 6.41107678e-01],\n",
       "        [7.56845847e-02, 5.28603256e-01, 8.61772776e-01, 1.00000000e+00],\n",
       "        [7.67198578e-03, 2.13682558e-02, 2.14268476e-01, 4.04685438e-01],\n",
       "        [9.95003805e-02, 0.00000000e+00, 9.63648915e-01, 4.41408098e-01],\n",
       "        [4.63206600e-03, 4.15989459e-01, 6.78000227e-02, 6.27060771e-01],\n",
       "        [8.77346843e-02, 1.91187544e-03, 9.61805046e-01, 4.98376727e-01],\n",
       "        [1.76037606e-02, 3.54704931e-02, 9.46139336e-01, 4.56867278e-01],\n",
       "        [9.40514430e-02, 3.31511945e-02, 5.32548845e-01, 4.61105496e-01],\n",
       "        [2.62752026e-02, 4.82372612e-01, 5.23846269e-01, 6.21880233e-01],\n",
       "        [1.09412588e-01, 2.72362269e-02, 1.00000000e+00, 6.29193842e-01],\n",
       "        [9.43764299e-02, 2.71584094e-01, 6.18768632e-01, 8.23230326e-01],\n",
       "        [6.18262999e-02, 3.67006451e-01, 4.73432004e-01, 5.29897630e-01],\n",
       "        [1.46396644e-03, 1.87098831e-02, 1.91254437e-01, 4.06911165e-01],\n",
       "        [0.00000000e+00, 3.65464529e-03, 2.14488372e-01, 4.08435643e-01],\n",
       "        [1.15366213e-01, 6.98763579e-02, 5.62587976e-01, 5.49936712e-01],\n",
       "        [0.00000000e+00, 2.92896032e-02, 1.98709846e-01, 4.21006948e-01],\n",
       "        [7.93337543e-03, 3.37604024e-02, 1.89999670e-01, 4.31072384e-01],\n",
       "        [1.66693376e-03, 4.28298712e-02, 1.80598870e-01, 4.05628383e-01],\n",
       "        [9.31122229e-02, 4.90586400e-01, 1.46070316e-01, 5.56798339e-01],\n",
       "        [2.58441176e-02, 3.00624091e-02, 2.77497411e-01, 5.96657395e-01],\n",
       "        [4.79132086e-01, 6.64926529e-01, 7.12691188e-01, 9.22572851e-01],\n",
       "        [6.62915036e-02, 3.88218164e-01, 5.54771185e-01, 5.78239262e-01],\n",
       "        [2.57388502e-01, 0.00000000e+00, 1.00000000e+00, 7.57670403e-01],\n",
       "        [2.79365808e-01, 1.55157987e-02, 9.99769509e-01, 7.41617799e-01],\n",
       "        [6.76284283e-02, 2.45058417e-01, 1.00000000e+00, 8.75869155e-01],\n",
       "        [3.11238621e-03, 2.32395809e-02, 2.00133011e-01, 3.95652324e-01],\n",
       "        [1.45018455e-02, 4.27182531e-04, 1.90400347e-01, 4.12009954e-01],\n",
       "        [6.64358065e-02, 5.97397387e-02, 5.72007537e-01, 6.25612020e-01],\n",
       "        [4.98097748e-01, 6.65450692e-01, 7.22902536e-01, 9.40471947e-01],\n",
       "        [0.00000000e+00, 3.98729146e-01, 1.15725316e-01, 7.08813190e-01],\n",
       "        [4.60264608e-02, 1.16471862e-02, 9.98109758e-01, 4.70669419e-01],\n",
       "        [8.51127878e-02, 4.86373544e-01, 1.33625597e-01, 5.62076688e-01],\n",
       "        [4.85958576e-01, 6.75252736e-01, 7.14025259e-01, 9.36249197e-01],\n",
       "        [5.42847700e-02, 1.12329029e-01, 1.00000000e+00, 5.95962822e-01],\n",
       "        [4.91009682e-01, 6.46852732e-01, 7.21768141e-01, 9.30377960e-01],\n",
       "        [5.01569092e-01, 6.26822948e-01, 7.16921449e-01, 9.53499973e-01],\n",
       "        [1.37879252e-02, 3.79981510e-02, 1.89138293e-01, 4.38576251e-01],\n",
       "        [1.50348917e-02, 1.13462070e-02, 1.90007567e-01, 3.82747144e-01],\n",
       "        [4.06724691e-01, 1.50802553e-01, 5.47186911e-01, 2.46245399e-01],\n",
       "        [9.10021141e-02, 5.10748506e-01, 1.45945683e-01, 5.80389142e-01],\n",
       "        [8.72646198e-02, 1.85027450e-01, 4.98447031e-01, 6.64798081e-01],\n",
       "        [2.92878538e-01, 4.32812758e-02, 1.00000000e+00, 7.74981618e-01],\n",
       "        [1.75348774e-01, 2.71331538e-02, 1.00000000e+00, 6.62710786e-01],\n",
       "        [1.93819895e-01, 1.55722335e-01, 9.64351237e-01, 5.52671194e-01],\n",
       "        [4.91139084e-01, 8.00867021e-01, 5.59398353e-01, 8.84290278e-01],\n",
       "        [4.95226502e-01, 6.49272382e-01, 7.13257194e-01, 9.27824736e-01],\n",
       "        [0.00000000e+00, 3.35687399e-02, 1.99042171e-01, 4.08926964e-01],\n",
       "        [4.71204042e-01, 6.43638849e-01, 7.39818871e-01, 9.48624909e-01],\n",
       "        [0.00000000e+00, 5.85027449e-02, 1.84231341e-01, 3.85470122e-01],\n",
       "        [0.00000000e+00, 8.75427295e-03, 1.84295416e-01, 4.13245976e-01],\n",
       "        [9.29776058e-02, 0.00000000e+00, 9.64532673e-01, 5.11157930e-01],\n",
       "        [9.66091976e-02, 7.45175704e-02, 5.95535398e-01, 4.69577283e-01],\n",
       "        [4.64628600e-02, 0.00000000e+00, 1.00000000e+00, 5.17821670e-01],\n",
       "        [1.09119467e-01, 2.26752579e-01, 5.42181730e-01, 6.50169313e-01],\n",
       "        [8.45656320e-02, 3.46736647e-02, 1.00000000e+00, 7.56266356e-01],\n",
       "        [0.00000000e+00, 0.00000000e+00, 1.00000000e+00, 9.24219310e-01],\n",
       "        [4.25169289e-01, 1.46340460e-01, 5.55489838e-01, 2.55543053e-01],\n",
       "        [4.81456935e-01, 6.68268025e-01, 7.06045270e-01, 9.26283777e-01],\n",
       "        [4.94832158e-01, 6.44061387e-01, 7.20816970e-01, 9.56403017e-01],\n",
       "        [2.42021382e-01, 1.16608761e-01, 9.69922423e-01, 5.52336872e-01],\n",
       "        [7.60307955e-03, 2.78891511e-02, 2.14686766e-01, 4.15089279e-01],\n",
       "        [0.00000000e+00, 4.24762592e-02, 1.84093982e-01, 4.05952781e-01],\n",
       "        [4.92223471e-01, 3.04723112e-03, 1.00000000e+00, 8.54877770e-01],\n",
       "        [6.83983117e-02, 3.51337679e-02, 8.71465564e-01, 4.56756234e-01],\n",
       "        [2.27915449e-03, 2.93549486e-02, 1.86006814e-01, 3.94221753e-01],\n",
       "        [0.00000000e+00, 5.60043976e-02, 1.79190710e-01, 4.00773108e-01],\n",
       "        [0.00000000e+00, 2.62012482e-02, 1.90737695e-01, 4.16689187e-01],\n",
       "        [2.83026934e-01, 2.67795064e-02, 9.74065602e-01, 7.95084476e-01],\n",
       "        [4.86615092e-01, 6.53426588e-01, 7.21513391e-01, 9.24902797e-01],\n",
       "        [8.60193279e-03, 0.00000000e+00, 1.98641211e-01, 4.35012013e-01],\n",
       "        [4.72669065e-01, 6.58304095e-01, 7.23049819e-01, 9.32027698e-01],\n",
       "        [1.45830987e-02, 2.59303171e-02, 1.82936072e-01, 4.18928534e-01],\n",
       "        [2.56717324e-01, 1.12199783e-01, 9.63944018e-01, 5.83314538e-01],\n",
       "        [4.77406621e-01, 6.48032725e-01, 7.23674357e-01, 9.18140411e-01]]),\n",
       " 'detection_classes': array([282, 282, 540, 282, 239, 282, 282, 256,  17, 162,  57, 194, 256,\n",
       "        218, 239, 282, 389, 282, 256, 474, 265, 239,  91, 445,  15,  57,\n",
       "        239, 237,  57, 544, 158, 292, 540,  57, 282, 454, 282, 282,  48,\n",
       "        122, 256,  79, 343,  80, 158,  57,   6, 282, 544, 282, 239,  89,\n",
       "        202,  57,   5, 158, 158, 158, 243, 387,  13, 276, 414, 338,  22,\n",
       "        158,  57, 540, 344, 256,  17, 228,  35, 156, 536,  71, 413, 387,\n",
       "        178, 256, 173,  23,  11, 101,  50, 292, 342, 463, 256, 387, 521,\n",
       "        139, 408, 239, 478,  74, 538, 286,  57,  48]),\n",
       " 'detection_scores': array([0.94740069, 0.44336295, 0.11177488, 0.06715006, 0.06292228,\n",
       "        0.05310643, 0.05143602, 0.04563433, 0.04244808, 0.02040432,\n",
       "        0.01258927, 0.01234233, 0.0116198 , 0.01158036, 0.0109454 ,\n",
       "        0.00998489, 0.00996538, 0.00983375, 0.00902759, 0.00861758,\n",
       "        0.00738818, 0.00711295, 0.00637355, 0.00590948, 0.00588783,\n",
       "        0.00550458, 0.005255  , 0.00507754, 0.0050324 , 0.00432808,\n",
       "        0.00426304, 0.00404781, 0.00394155, 0.00388545, 0.00371365,\n",
       "        0.00366338, 0.00364014, 0.00315609, 0.00312454, 0.00308078,\n",
       "        0.00305687, 0.00298963, 0.0029583 , 0.00283483, 0.00281596,\n",
       "        0.00279417, 0.0027192 , 0.00270064, 0.00260162, 0.00258033,\n",
       "        0.00257703, 0.00248641, 0.00242757, 0.00238891, 0.00231176,\n",
       "        0.00225751, 0.00221358, 0.00217928, 0.00206117, 0.00193725,\n",
       "        0.0019113 , 0.00184843, 0.00184705, 0.00183507, 0.00182395,\n",
       "        0.00181492, 0.0017796 , 0.00175285, 0.00174065, 0.00172844,\n",
       "        0.00164231, 0.00160236, 0.00159087, 0.00155847, 0.00141835,\n",
       "        0.00141581, 0.00137023, 0.00135008, 0.00133596, 0.00126718,\n",
       "        0.00125877, 0.00124641, 0.00123675, 0.0012232 , 0.00121102,\n",
       "        0.00119733, 0.00117669, 0.00116299, 0.00116246, 0.00115841,\n",
       "        0.00113516, 0.00112663, 0.00110316, 0.00108024, 0.00107535,\n",
       "        0.00101546, 0.00101332, 0.00099271, 0.00097527, 0.00096455]),\n",
       " 'groundtruth_boxes': array([[0.236763  , 0.        , 1.        , 0.464522  ],\n",
       "        [0.073615  , 0.        , 0.99982899, 0.999946  ],\n",
       "        [0.07453   , 0.159651  , 0.99980801, 0.618375  ]]),\n",
       " 'groundtruth_classes': array([239,  57, 282]),\n",
       " 'groundtruth_difficult': None,\n",
       " 'groundtruth_group_of': array([0, 0, 0]),\n",
       " 'key': '07de9510e802a400'}"
      ]
     },
     "execution_count": 38,
     "metadata": {},
     "output_type": "execute_result"
    }
   ],
   "source": [
    "decoded_dict"
   ]
  },
  {
   "cell_type": "code",
   "execution_count": 41,
   "metadata": {},
   "outputs": [
    {
     "name": "stdout",
     "output_type": "stream",
     "text": [
      "[u'Kitchen utensil', u'Tableware', u'Fork']\n"
     ]
    },
    {
     "data": {
      "image/png": "[encoded data removed]",
      "text/plain": [
       "<Figure size 864x576 with 1 Axes>"
      ]
     },
     "metadata": {
      "needs_background": "light"
     },
     "output_type": "display_data"
    }
   ],
   "source": [
    "import cv2\n",
    "from utils import visualization_utils as vis_util\n",
    "from matplotlib import pyplot as plt\n",
    "%matplotlib inline\n",
    "\n",
    "PATH_TO_LABELS = os.path.join('/root/models/research/object_detection/data', 'oid_bbox_trainable_label_map_add2.pbtxt')\n",
    "NUM_CLASSES = 547\n",
    "label_map = label_map_util.load_labelmap(PATH_TO_LABELS)\n",
    "categories = label_map_util.convert_label_map_to_categories(label_map, max_num_classes=NUM_CLASSES, use_display_name=True)\n",
    "category_index = label_map_util.create_category_index(categories)\n",
    "\n",
    "#.jpg # v4 model\n",
    "image_path='/root/raw_images_validation/'+decoded_dict[standard_fields.DetectionResultFields.key]+'.jpg'\n",
    "\n",
    "# image = Image.open(image_path)\n",
    "# image_np = load_image_into_numpy_array(image)\n",
    "image_np = cv2.imread(image_path,1)\n",
    "image_np = cv2.cvtColor(image_np, cv2.COLOR_RGB2BGR)\n",
    "\n",
    "\n",
    "# Size, in inches, of the output images.\n",
    "IMAGE_SIZE = (12, 8)\n",
    "vis_util.visualize_boxes_and_labels_on_image_array(\n",
    "  image_np,\n",
    "  decoded_dict['detection_boxes'],\n",
    "  decoded_dict['detection_classes'],\n",
    "  decoded_dict['detection_scores'],\n",
    "  category_index,\n",
    "  instance_masks=decoded_dict.get('detection_masks'),\n",
    "  use_normalized_coordinates=True,\n",
    "  line_thickness=8,\n",
    "    min_score_thresh=.5)\n",
    "plt.figure(figsize=IMAGE_SIZE)\n",
    "plt.imshow(image_np)\n",
    "print([category_index[x]['name'] for x in decoded_dict['groundtruth_classes']])\n",
    "# print(decoded_dict['detection_scores'][0:6])\n",
    "\n"
   ]
  },
  {
   "cell_type": "code",
   "execution_count": null,
   "metadata": {},
   "outputs": [],
   "source": []
  },
  {
   "cell_type": "code",
   "execution_count": null,
   "metadata": {},
   "outputs": [],
   "source": []
  },
  {
   "cell_type": "code",
   "execution_count": null,
   "metadata": {},
   "outputs": [],
   "source": []
  },
  {
   "cell_type": "code",
   "execution_count": null,
   "metadata": {},
   "outputs": [],
   "source": []
  },
  {
   "cell_type": "code",
   "execution_count": null,
   "metadata": {},
   "outputs": [],
   "source": []
  },
  {
   "cell_type": "code",
   "execution_count": null,
   "metadata": {},
   "outputs": [],
   "source": []
  },
  {
   "cell_type": "code",
   "execution_count": null,
   "metadata": {},
   "outputs": [],
   "source": []
  },
  {
   "cell_type": "code",
   "execution_count": 75,
   "metadata": {},
   "outputs": [],
   "source": [
    "myarr = np.array([1., 0., np.nan, 3.])"
   ]
  },
  {
   "cell_type": "code",
   "execution_count": 77,
   "metadata": {},
   "outputs": [
    {
     "data": {
      "text/plain": [
       "1.3333333333333333"
      ]
     },
     "execution_count": 77,
     "metadata": {},
     "output_type": "execute_result"
    }
   ],
   "source": [
    "np.nanmean(myarr)"
   ]
  },
  {
   "cell_type": "code",
   "execution_count": null,
   "metadata": {},
   "outputs": [],
   "source": []
  }
 ],
 "metadata": {
  "kernelspec": {
   "display_name": "Python 2",
   "language": "python",
   "name": "python2"
  },
  "language_info": {
   "codemirror_mode": {
    "name": "ipython",
    "version": 2
   },
   "file_extension": ".py",
   "mimetype": "text/x-python",
   "name": "python",
   "nbconvert_exporter": "python",
   "pygments_lexer": "ipython2",
   "version": "2.7.12"
  }
 },
 "nbformat": 4,
 "nbformat_minor": 2
}
