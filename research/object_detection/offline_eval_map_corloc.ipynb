{
 "cells": [
  {
   "cell_type": "code",
   "execution_count": null,
   "metadata": {},
   "outputs": [],
   "source": [
    "import csv\n",
    "import os\n",
    "import re\n",
    "import tensorflow as tf\n",
    "\n",
    "from object_detection import evaluator\n",
    "from object_detection.core import standard_fields\n",
    "from object_detection.metrics import tf_example_parser\n",
    "from object_detection.utils import config_util\n",
    "from object_detection.utils import label_map_util\n",
    "\n",
    "import numpy as np\n",
    "# flags = tf.app.flags\n",
    "# tf.logging.set_verbosity(tf.logging.INFO)\n",
    "\n",
    "# flags.DEFINE_string('eval_dir', None, 'Directory to write eval summaries to.')\n",
    "# flags.DEFINE_string('eval_config_path', None,\n",
    "#                     'Path to an eval_pb2.EvalConfig config file.')\n",
    "# flags.DEFINE_string('input_config_path', None,\n",
    "#                     'Path to an eval_pb2.InputConfig config file.')\n",
    "\n",
    "# FLAGS = flags.FLAGS"
   ]
  },
  {
   "cell_type": "code",
   "execution_count": null,
   "metadata": {},
   "outputs": [],
   "source": [
    "def _generate_filenames(filenames):\n",
    "  result = []\n",
    "  for filename in filenames:\n",
    "    result += _generate_sharded_filenames(filename)\n",
    "  return result"
   ]
  },
  {
   "cell_type": "code",
   "execution_count": null,
   "metadata": {},
   "outputs": [],
   "source": [
    "def _generate_sharded_filenames(filename):\n",
    "  m = re.search(r'@(\\d{1,})', filename)\n",
    "  if m:\n",
    "    num_shards = int(m.group(1))\n",
    "    return [\n",
    "        re.sub(r'@(\\d{1,})', '-%.5d-of-%.5d' % (i, num_shards), filename)\n",
    "        for i in range(num_shards)\n",
    "    ]\n",
    "  else:\n",
    "    return [filename]"
   ]
  },
  {
   "cell_type": "code",
   "execution_count": null,
   "metadata": {},
   "outputs": [],
   "source": [
    "  ## model 1, from v2, train_out_547_8GPU8batch_frozen, load all images, 90367\n",
    "    required_flags = ['input_config_path', 'eval_config_path', 'eval_dir']\n",
    "#   for flag_name in required_flags:\n",
    "#     if not getattr(FLAGS, flag_name):\n",
    "#       raise ValueError('Flag --{} is required'.format(flag_name))\n",
    "\n",
    "  configs = config_util.get_configs_from_multiple_files(\n",
    "      eval_input_config_path='/root/train_eval_metrics/train_input_config.pbtxt',\n",
    "      eval_config_path='/root/train_eval_metrics/train_eval_config.pbtxt')\n",
    "\n",
    "  eval_config = configs['eval_config']\n",
    "  input_config = configs['eval_input_config']"
   ]
  },
  {
   "cell_type": "code",
   "execution_count": null,
   "metadata": {},
   "outputs": [],
   "source": [
    "  # 547 per 300, oid_per300_ckpt476120\n",
    "  required_flags = ['input_config_path', 'eval_config_path', 'eval_dir']\n",
    "#   for flag_name in required_flags:\n",
    "#     if not getattr(FLAGS, flag_name):\n",
    "#       raise ValueError('Flag --{} is required'.format(flag_name))\n",
    "\n",
    "  configs = config_util.get_configs_from_multiple_files(\n",
    "      eval_input_config_path='/root/oid_per300_ckpt476120_eval_metrics/train_input_config.pbtxt',\n",
    "      eval_config_path='/root/oid_per300_ckpt476120_eval_metrics/train_eval_config.pbtxt')\n",
    "\n",
    "  eval_config = configs['eval_config']\n",
    "  input_config = configs['eval_input_config']"
   ]
  },
  {
   "cell_type": "code",
   "execution_count": null,
   "metadata": {},
   "outputs": [],
   "source": [
    "  if input_config.WhichOneof('input_reader') == 'tf_record_input_reader':\n",
    "    input_paths = input_config.tf_record_input_reader.input_path\n",
    "\n",
    "    label_map = label_map_util.load_labelmap(input_config.label_map_path)\n",
    "    max_num_classes = max([item.id for item in label_map.item])\n",
    "    categories = label_map_util.convert_label_map_to_categories(\n",
    "        label_map, max_num_classes)\n",
    "\n",
    "    object_detection_evaluators = evaluator.get_evaluators(\n",
    "        eval_config, categories)\n",
    "    # Support a single evaluator\n",
    "    object_detection_evaluator = object_detection_evaluators[0]\n",
    "\n",
    "    skipped_images = 0\n",
    "    processed_images = 0"
   ]
  },
  {
   "cell_type": "code",
   "execution_count": null,
   "metadata": {},
   "outputs": [],
   "source": [
    "    for input_path in _generate_filenames(input_paths):\n",
    "      tf.logging.info('Processing file: {0}'.format(input_path))\n",
    "\n",
    "      record_iterator = tf.python_io.tf_record_iterator(path=input_path)\n",
    "      data_parser = tf_example_parser.TfExampleDetectionAndGTParser()\n",
    "\n",
    "      for string_record in record_iterator:\n",
    "        tf.logging.log_every_n(tf.logging.INFO, 'Processed %d images...', 1000,\n",
    "                               processed_images)\n",
    "        processed_images += 1\n",
    "\n",
    "        example = tf.train.Example()\n",
    "        example.ParseFromString(string_record)\n",
    "        decoded_dict = data_parser.parse(example)\n",
    "        print(decoded_dict)\n",
    "\n",
    "        if decoded_dict:\n",
    "          object_detection_evaluator.add_single_ground_truth_image_info(\n",
    "              decoded_dict[standard_fields.DetectionResultFields.key],\n",
    "              decoded_dict)\n",
    "          object_detection_evaluator.add_single_detected_image_info(\n",
    "              decoded_dict[standard_fields.DetectionResultFields.key],\n",
    "              decoded_dict)\n",
    "        else:\n",
    "          skipped_images += 1\n",
    "          tf.logging.info('Skipped images: {0}'.format(skipped_images))\n",
    "        break\n",
    "      break"
   ]
  },
  {
   "cell_type": "code",
   "execution_count": null,
   "metadata": {},
   "outputs": [],
   "source": [
    "standard_fields.DetectionResultFields.key "
   ]
  },
  {
   "cell_type": "code",
   "execution_count": null,
   "metadata": {},
   "outputs": [],
   "source": [
    "decoded_dict[standard_fields.DetectionResultFields.key] # image id"
   ]
  },
  {
   "cell_type": "code",
   "execution_count": null,
   "metadata": {},
   "outputs": [],
   "source": [
    "object_detection_evaluator.evaluate()"
   ]
  },
  {
   "cell_type": "code",
   "execution_count": null,
   "metadata": {},
   "outputs": [],
   "source": [
    "##add all grouth class"
   ]
  },
  {
   "cell_type": "code",
   "execution_count": null,
   "metadata": {},
   "outputs": [],
   "source": [
    "    all_class_dict = {}\n",
    "    for input_path in _generate_filenames(input_paths):\n",
    "      tf.logging.info('Processing file: {0}'.format(input_path))\n",
    "\n",
    "      record_iterator = tf.python_io.tf_record_iterator(path=input_path)\n",
    "      data_parser = tf_example_parser.TfExampleDetectionAndGTParser()\n",
    "\n",
    "      for idx, string_record in enumerate(record_iterator):\n",
    "        tf.logging.log_every_n(tf.logging.INFO, 'Processed %d images...', 100,\n",
    "                               processed_images)\n",
    "        processed_images += 1\n",
    "\n",
    "        example = tf.train.Example()\n",
    "        example.ParseFromString(string_record)\n",
    "        decoded_dict = data_parser.parse(example)\n",
    "        all_class_dict[idx]=decoded_dict['groundtruth_classes']\n",
    "        if idx == 149 or idx == 255:\n",
    "            print(decoded_dict)\n",
    "            decoded_dict['groundtruth_group_of']=np.zeros_like(decoded_dict['groundtruth_group_of'])\n",
    "#         print(decoded_dict)\n",
    "\n",
    "        if decoded_dict:\n",
    "          object_detection_evaluator.add_single_ground_truth_image_info(\n",
    "              decoded_dict[standard_fields.DetectionResultFields.key],\n",
    "              decoded_dict)\n",
    "          object_detection_evaluator.add_single_detected_image_info(\n",
    "              decoded_dict[standard_fields.DetectionResultFields.key],\n",
    "              decoded_dict)\n",
    "\n"
   ]
  },
  {
   "cell_type": "code",
   "execution_count": null,
   "metadata": {},
   "outputs": [],
   "source": [
    "all_class_dict"
   ]
  },
  {
   "cell_type": "code",
   "execution_count": null,
   "metadata": {},
   "outputs": [],
   "source": [
    "object_detection_evaluator.evaluate()"
   ]
  },
  {
   "cell_type": "code",
   "execution_count": null,
   "metadata": {},
   "outputs": [],
   "source": [
    "all_class_dict0 = all_class_dict"
   ]
  },
  {
   "cell_type": "code",
   "execution_count": null,
   "metadata": {},
   "outputs": [],
   "source": [
    "noGroudTruth=[134, 142, 185, 227, 250, 252, 265, 267, 276, 286, 303, 320, 340, 343, 402, 434, 439, 444,\n",
    " 492, 515, 543]\n",
    "noGroudTruthSet = set()\n",
    "for key, item in all_class_dict0.items():\n",
    "#     print(key)\n",
    "#     print(item)\n",
    "    for class_idx in item:\n",
    "        if class_idx in noGroudTruth:\n",
    "            noGroudTruthSet.add(key)"
   ]
  },
  {
   "cell_type": "code",
   "execution_count": null,
   "metadata": {},
   "outputs": [],
   "source": [
    "    \n",
    "#     all_class_dict = {}\n",
    "    for input_path in _generate_filenames(input_paths):\n",
    "      tf.logging.info('Processing file: {0}'.format(input_path))\n",
    "\n",
    "      record_iterator = tf.python_io.tf_record_iterator(path=input_path)\n",
    "      data_parser = tf_example_parser.TfExampleDetectionAndGTParser()\n",
    "\n",
    "      for idx, string_record in enumerate(record_iterator):\n",
    "        tf.logging.log_every_n(tf.logging.INFO, 'Processed %d images...', 100,\n",
    "                               processed_images)\n",
    "        processed_images += 1\n",
    "\n",
    "        example = tf.train.Example()\n",
    "        example.ParseFromString(string_record)\n",
    "        decoded_dict = data_parser.parse(example)\n",
    "#         all_class_dict[idx]=decoded_dict['groundtruth_classes']\n",
    "        if idx in noGroudTruthSet:\n",
    "#             print(decoded_dict)\n",
    "            decoded_dict['groundtruth_group_of']=np.zeros_like(decoded_dict['groundtruth_group_of'])\n",
    "#         print(decoded_dict)\n",
    "\n",
    "        if decoded_dict:\n",
    "          object_detection_evaluator.add_single_ground_truth_image_info(\n",
    "              decoded_dict[standard_fields.DetectionResultFields.key],\n",
    "              decoded_dict)\n",
    "          object_detection_evaluator.add_single_detected_image_info(\n",
    "              decoded_dict[standard_fields.DetectionResultFields.key],\n",
    "              decoded_dict)\n",
    "\n",
    "\n"
   ]
  },
  {
   "cell_type": "code",
   "execution_count": null,
   "metadata": {},
   "outputs": [],
   "source": [
    "object_detection_evaluator.evaluate()"
   ]
  },
  {
   "cell_type": "code",
   "execution_count": null,
   "metadata": {},
   "outputs": [],
   "source": [
    "## check file with image"
   ]
  },
  {
   "cell_type": "code",
   "execution_count": null,
   "metadata": {},
   "outputs": [],
   "source": [
    "    \n",
    "#     all_class_dict = {}\n",
    "    for input_path in _generate_filenames(input_paths):\n",
    "      tf.logging.info('Processing file: {0}'.format(input_path))\n",
    "\n",
    "      record_iterator = tf.python_io.tf_record_iterator(path=input_path)\n",
    "      data_parser = tf_example_parser.TfExampleDetectionAndGTParser()\n",
    "\n",
    "      for idx, string_record in enumerate(record_iterator):\n",
    "        tf.logging.log_every_n(tf.logging.INFO, 'Processed %d images...', 100,\n",
    "                               processed_images)\n",
    "        processed_images += 1\n",
    "\n",
    "        example = tf.train.Example()\n",
    "        example.ParseFromString(string_record)\n",
    "        print(example)\n",
    "        decoded_dict = data_parser.parse(example)\n",
    "        \n",
    "#         print(decoded_dict)\n",
    "        break\n",
    "      break\n",
    "      \n",
    "#         all_class_dict[idx]=decoded_dict['groundtruth_classes']\n",
    "#         if idx in noGroudTruthSet:\n",
    "#             print(decoded_dict)\n",
    "#             decoded_dict['groundtruth_group_of']=np.zeros_like(decoded_dict['groundtruth_group_of'])\n",
    "#         print(decoded_dict)\n",
    "\n",
    "#         if decoded_dict:\n",
    "#           object_detection_evaluator.add_single_ground_truth_image_info(\n",
    "#               decoded_dict[standard_fields.DetectionResultFields.key],\n",
    "#               decoded_dict)\n",
    "#           object_detection_evaluator.add_single_detected_image_info(\n",
    "#               decoded_dict[standard_fields.DetectionResultFields.key],\n",
    "#               decoded_dict)\n",
    "\n",
    "\n",
    "\n"
   ]
  },
  {
   "cell_type": "code",
   "execution_count": null,
   "metadata": {},
   "outputs": [],
   "source": []
  },
  {
   "cell_type": "code",
   "execution_count": null,
   "metadata": {},
   "outputs": [],
   "source": []
  },
  {
   "cell_type": "code",
   "execution_count": null,
   "metadata": {},
   "outputs": [],
   "source": []
  }
 ],
 "metadata": {
  "kernelspec": {
   "display_name": "Python 2",
   "language": "python",
   "name": "python2"
  },
  "language_info": {
   "codemirror_mode": {
    "name": "ipython",
    "version": 2
   },
   "file_extension": ".py",
   "mimetype": "text/x-python",
   "name": "python",
   "nbconvert_exporter": "python",
   "pygments_lexer": "ipython2",
   "version": "2.7.12"
  }
 },
 "nbformat": 4,
 "nbformat_minor": 2
}
